{
 "cells": [
  {
   "cell_type": "code",
   "execution_count": 1,
   "metadata": {},
   "outputs": [],
   "source": [
    "# 데이터 불러오기\n",
    "import seaborn as sns # seaborn을 불러오고 SNS로 축약\n",
    "iris = sns.load_dataset('iris')  # iris라는 변수명으로 Iris data를 download\n",
    "\n",
    "X = iris.drop('species', axis=1) # 'species'열을 drop하고 input X를 정의\n",
    "y = iris['species']"
   ]
  },
  {
   "cell_type": "code",
   "execution_count": 2,
   "metadata": {},
   "outputs": [],
   "source": [
    "# y data를 범주형으로 변환\n",
    "from sklearn.preprocessing import LabelEncoder    # LabelEncoder() method를 불러옴\n",
    "classle = LabelEncoder()\n",
    "y = classle.fit_transform(iris['species'].values) # species 열의 문자열을 categorical 값으로 전환"
   ]
  },
  {
   "cell_type": "code",
   "execution_count": 6,
   "metadata": {},
   "outputs": [
    {
     "data": {
      "text/plain": [
       "array(['setosa', 'versicolor', 'virginica'], dtype=object)"
      ]
     },
     "execution_count": 6,
     "metadata": {},
     "output_type": "execute_result"
    }
   ],
   "source": [
    "classle.classes_"
   ]
  },
  {
   "cell_type": "code",
   "execution_count": 3,
   "metadata": {},
   "outputs": [],
   "source": [
    "# 전체 data를 training set과 test set으로 split\n",
    "from sklearn.model_selection import train_test_split\n",
    "X_train, X_test, y_train, y_test = train_test_split(X, y, test_size=0.3,\n",
    "                                                    random_state=1, stratify=y)"
   ]
  },
  {
   "cell_type": "code",
   "execution_count": 4,
   "metadata": {},
   "outputs": [],
   "source": [
    "# 표준화\n",
    "from sklearn.preprocessing import StandardScaler\n",
    "sc = StandardScaler()\n",
    "sc.fit(X_train)\n",
    "X_train_std = sc.transform(X_train)\n",
    "X_test_std = sc.transform(X_test)"
   ]
  },
  {
   "cell_type": "markdown",
   "metadata": {},
   "source": [
    "### Logistic regression - Standardized"
   ]
  },
  {
   "cell_type": "code",
   "execution_count": 13,
   "metadata": {},
   "outputs": [],
   "source": [
    "from sklearn.linear_model import LogisticRegression\n",
    "\n",
    "# Run Logistic Regression(C = 1/λ. 디폴트: L2, One-versus-Rest.)\n",
    "Logit = LogisticRegression(C=1e2, random_state=1)\n",
    "l_1=Logit.fit(X_train_std, y_train)\n",
    "\n",
    "# Predict\n",
    "y_train_pred_prob = Logit.predict_proba(X_train_std)\n",
    "y_train_pred = Logit.predict(X_train_std)\n",
    "y_test_pred = Logit.predict(X_test_std)"
   ]
  },
  {
   "cell_type": "code",
   "execution_count": 14,
   "metadata": {
    "scrolled": true
   },
   "outputs": [
    {
     "data": {
      "text/plain": [
       "array([[9.99975834e-01, 2.41661540e-05, 3.52199502e-24],\n",
       "       [9.97200043e-01, 2.79995679e-03, 1.30073606e-19],\n",
       "       [4.37509049e-10, 5.14538674e-04, 9.99485461e-01],\n",
       "       [4.13351815e-10, 1.06112640e-03, 9.98938873e-01],\n",
       "       [9.99420280e-01, 5.79719567e-04, 5.39882351e-21],\n",
       "       [9.84044544e-13, 2.10125376e-05, 9.99978987e-01],\n",
       "       [4.64251632e-16, 2.35170889e-06, 9.99997648e-01],\n",
       "       [9.99767341e-01, 2.32658948e-04, 2.55631566e-23],\n",
       "       [1.80305755e-09, 5.46636427e-02, 9.45336356e-01],\n",
       "       [7.46628799e-06, 9.98617665e-01, 1.37486888e-03],\n",
       "       [1.21033938e-02, 9.87895321e-01, 1.28508874e-06],\n",
       "       [4.07368697e-03, 9.95445841e-01, 4.80471655e-04],\n",
       "       [9.99834843e-01, 1.65156749e-04, 3.16800922e-21],\n",
       "       [5.44623364e-05, 9.98317585e-01, 1.62795261e-03],\n",
       "       [3.68142014e-04, 9.99012713e-01, 6.19144980e-04],\n",
       "       [4.63123724e-08, 9.69488190e-03, 9.90305072e-01],\n",
       "       [9.99772351e-01, 2.27649487e-04, 4.48665223e-20],\n",
       "       [1.48162382e-03, 9.98500250e-01, 1.81257117e-05],\n",
       "       [4.93900789e-04, 9.99471609e-01, 3.44905238e-05],\n",
       "       [9.99724317e-01, 2.75682794e-04, 2.87583189e-20],\n",
       "       [7.99932450e-07, 2.57517482e-01, 7.42481718e-01],\n",
       "       [1.98715530e-20, 5.99569455e-09, 9.99999994e-01],\n",
       "       [6.41642540e-05, 9.97974315e-01, 1.96152085e-03],\n",
       "       [3.54616721e-04, 9.97571649e-01, 2.07373462e-03],\n",
       "       [6.02109953e-04, 9.99365429e-01, 3.24610794e-05],\n",
       "       [1.41433071e-10, 7.67945988e-05, 9.99923205e-01],\n",
       "       [4.64864966e-05, 9.89993068e-01, 9.96044514e-03],\n",
       "       [2.07197957e-07, 1.20450076e-01, 8.79549717e-01],\n",
       "       [3.77647738e-12, 3.77281992e-05, 9.99962272e-01],\n",
       "       [6.60643041e-11, 4.87372120e-05, 9.99951263e-01],\n",
       "       [7.03337256e-04, 9.99079497e-01, 2.17165499e-04],\n",
       "       [9.99828968e-01, 1.71031615e-04, 6.79917136e-21],\n",
       "       [1.96399411e-13, 2.45474419e-05, 9.99975453e-01],\n",
       "       [1.31451300e-09, 8.13815923e-03, 9.91861839e-01],\n",
       "       [1.20380456e-05, 4.60145656e-01, 5.39842306e-01],\n",
       "       [1.30523268e-11, 1.29413510e-04, 9.99870586e-01],\n",
       "       [3.55262990e-04, 9.98362409e-01, 1.28232775e-03],\n",
       "       [7.58600665e-17, 1.64832590e-06, 9.99998352e-01],\n",
       "       [6.88942920e-08, 3.23549053e-02, 9.67645026e-01],\n",
       "       [9.99946310e-01, 5.36900047e-05, 2.22780418e-22],\n",
       "       [1.00832431e-07, 1.11750065e-01, 8.88249834e-01],\n",
       "       [9.99350768e-01, 6.49231731e-04, 6.16230861e-21],\n",
       "       [2.40769283e-06, 6.86377981e-01, 3.13619611e-01],\n",
       "       [9.99812210e-01, 1.87790450e-04, 4.32048870e-20],\n",
       "       [9.99994189e-01, 5.81118801e-06, 2.89749059e-24],\n",
       "       [5.04795828e-07, 5.99978956e-01, 4.00020540e-01],\n",
       "       [9.98915721e-01, 1.08427919e-03, 9.56553623e-20],\n",
       "       [9.99960647e-01, 3.93527055e-05, 2.57730437e-22],\n",
       "       [1.53228922e-08, 2.08835664e-02, 9.79116418e-01],\n",
       "       [6.02914213e-06, 9.91491292e-01, 8.50267871e-03],\n",
       "       [9.98402556e-01, 1.59744443e-03, 2.71307132e-20],\n",
       "       [1.82607878e-03, 9.98173306e-01, 6.15358514e-07],\n",
       "       [7.35271950e-04, 9.99254269e-01, 1.04592950e-05],\n",
       "       [9.99521262e-01, 4.78738094e-04, 8.42327648e-21],\n",
       "       [9.99660050e-01, 3.39949899e-04, 1.13169153e-21],\n",
       "       [9.99572890e-01, 4.27109563e-04, 4.31418792e-21],\n",
       "       [1.03353569e-03, 9.98960686e-01, 5.77865039e-06],\n",
       "       [1.52929173e-13, 6.27512713e-06, 9.99993725e-01],\n",
       "       [9.99830258e-01, 1.69742050e-04, 1.96705124e-21],\n",
       "       [1.63012919e-06, 9.76687312e-01, 2.33110578e-02],\n",
       "       [9.99871023e-01, 1.28976722e-04, 7.91284843e-21],\n",
       "       [9.64773778e-04, 9.96208447e-01, 2.82677955e-03],\n",
       "       [1.81320314e-10, 4.98308716e-03, 9.95016913e-01],\n",
       "       [9.99200370e-01, 7.99629894e-04, 1.30766526e-19],\n",
       "       [9.99547620e-01, 4.52380052e-04, 7.88415671e-21],\n",
       "       [4.85042943e-04, 9.98393463e-01, 1.12149363e-03],\n",
       "       [4.63123724e-08, 9.69488190e-03, 9.90305072e-01],\n",
       "       [4.77664717e-03, 9.95215148e-01, 8.20504869e-06],\n",
       "       [3.67097162e-03, 9.96245436e-01, 8.35920320e-05],\n",
       "       [9.42415177e-05, 6.88225101e-01, 3.11680657e-01],\n",
       "       [5.62462969e-16, 4.08910620e-06, 9.99995911e-01],\n",
       "       [7.26493924e-05, 9.89096392e-01, 1.08309585e-02],\n",
       "       [2.27298559e-03, 9.88738664e-01, 8.98835059e-03],\n",
       "       [1.81077637e-10, 2.34511854e-03, 9.97654881e-01],\n",
       "       [2.82411271e-12, 4.05333205e-05, 9.99959467e-01],\n",
       "       [1.00110897e-04, 9.96449969e-01, 3.44991981e-03],\n",
       "       [9.95836488e-01, 4.16351184e-03, 6.37676750e-19],\n",
       "       [9.96325983e-01, 3.67401694e-03, 1.07544945e-17],\n",
       "       [1.02774500e-13, 1.32881708e-04, 9.99867118e-01],\n",
       "       [1.46367498e-06, 2.61517412e-01, 7.38481125e-01],\n",
       "       [1.63249663e-11, 1.51010085e-03, 9.98489899e-01],\n",
       "       [6.99692080e-08, 1.38949729e-01, 8.61050201e-01],\n",
       "       [9.99788696e-01, 2.11304063e-04, 7.41490835e-22],\n",
       "       [1.06894560e-03, 9.98700038e-01, 2.31015919e-04],\n",
       "       [1.16855187e-07, 5.18026837e-02, 9.48197199e-01],\n",
       "       [5.42112961e-13, 1.52195046e-06, 9.99998478e-01],\n",
       "       [9.99934485e-01, 6.55148377e-05, 4.93599494e-22],\n",
       "       [9.99922868e-01, 7.71319353e-05, 2.97899982e-22],\n",
       "       [5.82611623e-09, 6.56218321e-03, 9.93437811e-01],\n",
       "       [9.99676054e-01, 3.23945929e-04, 6.26279998e-21],\n",
       "       [9.78224256e-13, 2.14903713e-05, 9.99978510e-01],\n",
       "       [5.68963075e-04, 9.99398265e-01, 3.27724186e-05],\n",
       "       [2.78658418e-03, 9.97169701e-01, 4.37150882e-05],\n",
       "       [8.36270180e-05, 9.99603934e-01, 3.12439136e-04],\n",
       "       [9.99991425e-01, 8.57468477e-06, 1.33211213e-24],\n",
       "       [2.88924228e-11, 3.88154692e-04, 9.99611845e-01],\n",
       "       [1.25984349e-06, 9.89492415e-01, 1.05063250e-02],\n",
       "       [9.98736747e-01, 1.26325342e-03, 3.52278981e-21],\n",
       "       [9.98517480e-01, 1.48251956e-03, 4.13659881e-19],\n",
       "       [5.39715328e-07, 5.59990319e-01, 4.40009141e-01],\n",
       "       [9.81687378e-01, 1.83126218e-02, 1.14515141e-16],\n",
       "       [2.30884210e-04, 9.99668867e-01, 1.00248662e-04],\n",
       "       [9.99260589e-01, 7.39410871e-04, 2.45878378e-19],\n",
       "       [9.99739498e-01, 2.60501521e-04, 2.69173828e-20],\n",
       "       [9.99960348e-01, 3.96517151e-05, 8.90853837e-22]])"
      ]
     },
     "execution_count": 14,
     "metadata": {},
     "output_type": "execute_result"
    }
   ],
   "source": [
    "y_train_pred_prob # class별 확률값 반환"
   ]
  },
  {
   "cell_type": "code",
   "execution_count": 12,
   "metadata": {},
   "outputs": [
    {
     "data": {
      "text/plain": [
       "array([0, 0, 2, 2, 0, 2, 2, 0, 2, 1, 1, 1, 0, 1, 1, 2, 0, 1, 1, 0, 2, 2,\n",
       "       1, 1, 1, 2, 1, 2, 2, 2, 1, 0, 2, 2, 2, 2, 1, 2, 2, 0, 2, 0, 1, 0,\n",
       "       0, 1, 0, 0, 2, 1, 0, 1, 1, 0, 0, 0, 1, 2, 0, 1, 0, 1, 2, 0, 0, 1,\n",
       "       2, 1, 1, 1, 2, 1, 1, 2, 2, 1, 0, 0, 2, 2, 2, 2, 0, 1, 2, 2, 0, 0,\n",
       "       2, 0, 2, 1, 1, 1, 0, 2, 1, 0, 0, 1, 0, 1, 0, 0, 0])"
      ]
     },
     "execution_count": 12,
     "metadata": {},
     "output_type": "execute_result"
    }
   ],
   "source": [
    "y_train_pred # 해당 클래스 반환"
   ]
  },
  {
   "cell_type": "code",
   "execution_count": 6,
   "metadata": {},
   "outputs": [
    {
     "name": "stdout",
     "output_type": "stream",
     "text": [
      "1.0\n",
      "0.9809523809523809\n"
     ]
    }
   ],
   "source": [
    "# Accuracy score\n",
    "from sklearn.metrics import accuracy_score\n",
    "print(accuracy_score(y_test,y_test_pred))    # 0.97777777\n",
    "print(accuracy_score(y_train,y_train_pred))  # 0.94285714"
   ]
  },
  {
   "cell_type": "code",
   "execution_count": 7,
   "metadata": {},
   "outputs": [
    {
     "name": "stdout",
     "output_type": "stream",
     "text": [
      "[[15  0  0]\n",
      " [ 0 15  0]\n",
      " [ 0  0 15]]\n"
     ]
    }
   ],
   "source": [
    "# Confusion matrix\n",
    "from sklearn.metrics import confusion_matrix\n",
    "print(confusion_matrix(y_test, y_test_pred))  # Confusion matrix"
   ]
  },
  {
   "cell_type": "markdown",
   "metadata": {},
   "source": [
    "### Logistic regression - Un-Standardized"
   ]
  },
  {
   "cell_type": "code",
   "execution_count": 8,
   "metadata": {},
   "outputs": [
    {
     "name": "stderr",
     "output_type": "stream",
     "text": [
      "C:\\Users\\chung_es\\anaconda3\\envs\\torch36\\lib\\site-packages\\sklearn\\linear_model\\_logistic.py:764: ConvergenceWarning: lbfgs failed to converge (status=1):\n",
      "STOP: TOTAL NO. of ITERATIONS REACHED LIMIT.\n",
      "\n",
      "Increase the number of iterations (max_iter) or scale the data as shown in:\n",
      "    https://scikit-learn.org/stable/modules/preprocessing.html\n",
      "Please also refer to the documentation for alternative solver options:\n",
      "    https://scikit-learn.org/stable/modules/linear_model.html#logistic-regression\n",
      "  extra_warning_msg=_LOGISTIC_SOLVER_CONVERGENCE_MSG)\n"
     ]
    }
   ],
   "source": [
    "from sklearn.linear_model import LogisticRegression\n",
    "\n",
    "# Run Logistic Regression(C = 1/λ. 디폴트: L2, One-versus-Rest.)\n",
    "Logit = LogisticRegression(C=1e2, random_state=1)\n",
    "Logit.fit(X_train, y_train)\n",
    "\n",
    "# Predict\n",
    "y_train_pred = Logit.predict(X_train)\n",
    "y_test_pred = Logit.predict(X_test)"
   ]
  },
  {
   "cell_type": "code",
   "execution_count": 9,
   "metadata": {},
   "outputs": [
    {
     "name": "stdout",
     "output_type": "stream",
     "text": [
      "1.0\n",
      "0.9809523809523809\n",
      "[[15  0  0]\n",
      " [ 0 15  0]\n",
      " [ 0  0 15]]\n"
     ]
    }
   ],
   "source": [
    "from sklearn.metrics import accuracy_score\n",
    "from sklearn.metrics import confusion_matrix\n",
    "\n",
    "# ACC\n",
    "print(accuracy_score(y_test,y_test_pred))\n",
    "print(accuracy_score(y_train,y_train_pred))\n",
    "\n",
    "# Confusion Matrix\n",
    "print(confusion_matrix(y_test, y_test_pred)) "
   ]
  },
  {
   "cell_type": "code",
   "execution_count": 10,
   "metadata": {},
   "outputs": [
    {
     "name": "stdout",
     "output_type": "stream",
     "text": [
      "Requirement already satisfied: joblib in c:\\users\\chung_es\\anaconda3\\envs\\torch36\\lib\\site-packages (0.16.0)\n"
     ]
    }
   ],
   "source": [
    "# !pip install joblib"
   ]
  },
  {
   "cell_type": "code",
   "execution_count": 11,
   "metadata": {},
   "outputs": [
    {
     "name": "stdout",
     "output_type": "stream",
     "text": [
      "1.0\n",
      "[[15  0  0]\n",
      " [ 0 15  0]\n",
      " [ 0  0 15]]\n",
      "[2 0 0 2 1 1 2 1 2 0 0 2 0 1 0 1 2 1 1 2 2 0 1 2 1 1 1 2 0 2 0 0 1 1 2 2 0\n",
      " 0 0 1 2 2 1 0 0]\n"
     ]
    }
   ],
   "source": [
    "import joblib\n",
    "joblib.dump(Logit,'C:/Users/chung_es/Desktop/courses/sem_20_02/고급통계적머신러닝/adv_stats_ml_code/pkl_models/ch4_save.pkl')\n",
    "logit_from_joblib=joblib.load('C:/Users/chung_es/Desktop/courses/sem_20_02/고급통계적머신러닝/adv_stats_ml_code/pkl_models/ch4_save.pkl')\n",
    "logit_pred=logit_from_joblib.predict(X_test)\n",
    "print(accuracy_score(y_test,logit_pred))\n",
    "print(confusion_matrix(y_test,logit_pred))\n",
    "print(logit_pred)"
   ]
  },
  {
   "cell_type": "code",
   "execution_count": null,
   "metadata": {},
   "outputs": [],
   "source": []
  },
  {
   "cell_type": "code",
   "execution_count": null,
   "metadata": {},
   "outputs": [],
   "source": []
  }
 ],
 "metadata": {
  "kernelspec": {
   "display_name": "Python 3",
   "language": "python",
   "name": "python3"
  },
  "language_info": {
   "codemirror_mode": {
    "name": "ipython",
    "version": 3
   },
   "file_extension": ".py",
   "mimetype": "text/x-python",
   "name": "python",
   "nbconvert_exporter": "python",
   "pygments_lexer": "ipython3",
   "version": "3.6.10"
  }
 },
 "nbformat": 4,
 "nbformat_minor": 2
}
