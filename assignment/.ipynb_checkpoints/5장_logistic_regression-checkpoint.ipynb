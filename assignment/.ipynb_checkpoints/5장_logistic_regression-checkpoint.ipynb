{
 "cells": [
  {
   "cell_type": "markdown",
   "metadata": {},
   "source": [
    "### Logistic regression\n",
    "\n",
    "- Iris 데이터에 logistic regression을 적용하되, multi_class=‘ovr’과 ‘multinomial’을 적용한 후, 추정된 sigmoid함수와 softmax 함수를 제시하고 해석하라."
   ]
  },
  {
   "cell_type": "code",
   "execution_count": 33,
   "metadata": {},
   "outputs": [],
   "source": [
    "# Load Iris Dataset\n",
    "import pandas as pd\n",
    "import seaborn as sns # seaborn을 불러오고 SNS로 축약\n",
    "\n",
    "iris = sns.load_dataset('iris')  # iris라는 변수명으로 Iris data를 download\n",
    "X = iris.drop('species', axis=1) # 'species'열을 drop하고 input X를 정의\n",
    "y = iris['species']"
   ]
  },
  {
   "cell_type": "code",
   "execution_count": 34,
   "metadata": {
    "scrolled": true
   },
   "outputs": [
    {
     "data": {
      "text/html": [
       "<div>\n",
       "<style scoped>\n",
       "    .dataframe tbody tr th:only-of-type {\n",
       "        vertical-align: middle;\n",
       "    }\n",
       "\n",
       "    .dataframe tbody tr th {\n",
       "        vertical-align: top;\n",
       "    }\n",
       "\n",
       "    .dataframe thead th {\n",
       "        text-align: right;\n",
       "    }\n",
       "</style>\n",
       "<table border=\"1\" class=\"dataframe\">\n",
       "  <thead>\n",
       "    <tr style=\"text-align: right;\">\n",
       "      <th></th>\n",
       "      <th>sepal_length</th>\n",
       "      <th>sepal_width</th>\n",
       "      <th>petal_length</th>\n",
       "      <th>petal_width</th>\n",
       "    </tr>\n",
       "  </thead>\n",
       "  <tbody>\n",
       "    <tr>\n",
       "      <th>0</th>\n",
       "      <td>5.1</td>\n",
       "      <td>3.5</td>\n",
       "      <td>1.4</td>\n",
       "      <td>0.2</td>\n",
       "    </tr>\n",
       "    <tr>\n",
       "      <th>1</th>\n",
       "      <td>4.9</td>\n",
       "      <td>3.0</td>\n",
       "      <td>1.4</td>\n",
       "      <td>0.2</td>\n",
       "    </tr>\n",
       "    <tr>\n",
       "      <th>2</th>\n",
       "      <td>4.7</td>\n",
       "      <td>3.2</td>\n",
       "      <td>1.3</td>\n",
       "      <td>0.2</td>\n",
       "    </tr>\n",
       "    <tr>\n",
       "      <th>3</th>\n",
       "      <td>4.6</td>\n",
       "      <td>3.1</td>\n",
       "      <td>1.5</td>\n",
       "      <td>0.2</td>\n",
       "    </tr>\n",
       "    <tr>\n",
       "      <th>4</th>\n",
       "      <td>5.0</td>\n",
       "      <td>3.6</td>\n",
       "      <td>1.4</td>\n",
       "      <td>0.2</td>\n",
       "    </tr>\n",
       "  </tbody>\n",
       "</table>\n",
       "</div>"
      ],
      "text/plain": [
       "   sepal_length  sepal_width  petal_length  petal_width\n",
       "0           5.1          3.5           1.4          0.2\n",
       "1           4.9          3.0           1.4          0.2\n",
       "2           4.7          3.2           1.3          0.2\n",
       "3           4.6          3.1           1.5          0.2\n",
       "4           5.0          3.6           1.4          0.2"
      ]
     },
     "execution_count": 34,
     "metadata": {},
     "output_type": "execute_result"
    }
   ],
   "source": [
    "X.head()"
   ]
  },
  {
   "cell_type": "code",
   "execution_count": 35,
   "metadata": {},
   "outputs": [
    {
     "data": {
      "text/plain": [
       "0    setosa\n",
       "1    setosa\n",
       "2    setosa\n",
       "3    setosa\n",
       "4    setosa\n",
       "Name: species, dtype: object"
      ]
     },
     "execution_count": 35,
     "metadata": {},
     "output_type": "execute_result"
    }
   ],
   "source": [
    "y.head()"
   ]
  },
  {
   "cell_type": "code",
   "execution_count": 36,
   "metadata": {},
   "outputs": [],
   "source": [
    "# y data를 범주형으로 변환\n",
    "from sklearn.preprocessing import LabelEncoder    # LabelEncoder() method를 불러옴\n",
    "classle = LabelEncoder()\n",
    "y = classle.fit_transform(iris['species'].values) # species 열의 문자열을 categorical 값으로 전환"
   ]
  },
  {
   "cell_type": "code",
   "execution_count": 37,
   "metadata": {},
   "outputs": [],
   "source": [
    "# 전체 data를 training set과 test set으로 split\n",
    "from sklearn.model_selection import train_test_split\n",
    "X_train, X_test, y_train, y_test = train_test_split(X, y, test_size=0.3,\n",
    "                                                    random_state=1, stratify=y)"
   ]
  },
  {
   "cell_type": "markdown",
   "metadata": {},
   "source": [
    "**multi_class{'auto', 'ovr', 'multinomial'}, default='auto'**\n",
    "- If the option chosen is 'ovr', then a binary problem is fit for each label. \n",
    "- For 'multinomial' the loss minimised is the multinomial loss fit across the entire probability distribution, even when the data is binary. \n",
    "- 'multinomial' is unavailable, when solver= 'liblinear'. \n",
    "- 'auto' selects 'ovr' if the data is binary, or if solver= 'liblinear', and otherwise selects 'multinomial'."
   ]
  },
  {
   "cell_type": "code",
   "execution_count": 38,
   "metadata": {},
   "outputs": [],
   "source": [
    "from sklearn.linear_model import LogisticRegression\n",
    "from sklearn.metrics import accuracy_score\n",
    "from sklearn.metrics import confusion_matrix"
   ]
  },
  {
   "cell_type": "code",
   "execution_count": 55,
   "metadata": {},
   "outputs": [],
   "source": [
    "## multi_class = 'ovr'\n",
    "# Run Logistic Regression(C = 1/λ. 디폴트: L2, One-versus-Rest.)\n",
    "Logit_ovr = LogisticRegression(C=0.01, random_state=0, multi_class = 'ovr')\n",
    "Logit_ovr.fit(X_train, y_train)\n",
    "ovr_coef = Logit_ovr.coef_ ; ovr_intercept = Logit_ovr.intercept_"
   ]
  },
  {
   "cell_type": "code",
   "execution_count": 56,
   "metadata": {},
   "outputs": [],
   "source": [
    "## multi_class = 'multinomial'\n",
    "# Run Logistic Regression(C = 1/λ. 디폴트: L2, One-versus-Rest.)\n",
    "Logit_mul = LogisticRegression(C=0.01, random_state=0, multi_class = 'multinomial')\n",
    "Logit_mul.fit(X_train, y_train)\n",
    "mul_coef = Logit_mul.coef_ ; mul_intercept = Logit_mul.intercept_"
   ]
  },
  {
   "cell_type": "code",
   "execution_count": 41,
   "metadata": {},
   "outputs": [
    {
     "name": "stdout",
     "output_type": "stream",
     "text": [
      "0.7333333333333333\n",
      "[[15  0  0]\n",
      " [ 2  4  9]\n",
      " [ 0  1 14]]\n"
     ]
    }
   ],
   "source": [
    "## multi_class = 'ovr'\n",
    "# Predict\n",
    "y_pred_ovr = Logit_ovr.predict(X_test)\n",
    "y_pred_ovr_prob = Logit_ovr.predict_proba(X_test)\n",
    "\n",
    "# ACC\n",
    "print(accuracy_score(y_test,y_pred_ovr))\n",
    "\n",
    "# Confusion Matrix\n",
    "print(confusion_matrix(y_test, y_pred_ovr))"
   ]
  },
  {
   "cell_type": "code",
   "execution_count": 57,
   "metadata": {},
   "outputs": [
    {
     "data": {
      "text/plain": [
       "array([[-0.13801007,  0.08372436, -0.42883606, -0.17413519],\n",
       "       [-0.0227268 , -0.09044836,  0.09546167,  0.01361503],\n",
       "       [ 0.15321021, -0.00226495,  0.33808285,  0.16211827]])"
      ]
     },
     "execution_count": 57,
     "metadata": {},
     "output_type": "execute_result"
    }
   ],
   "source": [
    "ovr_coef"
   ]
  },
  {
   "cell_type": "code",
   "execution_count": 58,
   "metadata": {},
   "outputs": [
    {
     "data": {
      "text/plain": [
       "array([ 1.53763332, -0.66635321, -3.17854758])"
      ]
     },
     "execution_count": 58,
     "metadata": {},
     "output_type": "execute_result"
    }
   ],
   "source": [
    "ovr_intercept"
   ]
  },
  {
   "cell_type": "code",
   "execution_count": 59,
   "metadata": {},
   "outputs": [
    {
     "data": {
      "text/plain": [
       "array([[-0.11358948,  0.07487221, -0.36344198, -0.14707146],\n",
       "       [-0.02044293, -0.0781416 ,  0.07482096,  0.00567798],\n",
       "       [ 0.13403241,  0.00326939,  0.28862101,  0.14139348]])"
      ]
     },
     "execution_count": 59,
     "metadata": {},
     "output_type": "execute_result"
    }
   ],
   "source": [
    "mul_coef"
   ]
  },
  {
   "cell_type": "code",
   "execution_count": 60,
   "metadata": {},
   "outputs": [
    {
     "data": {
      "text/plain": [
       "array([ 1.86636231,  0.23734076, -2.10370307])"
      ]
     },
     "execution_count": 60,
     "metadata": {},
     "output_type": "execute_result"
    }
   ],
   "source": [
    "mul_intercept"
   ]
  },
  {
   "cell_type": "code",
   "execution_count": 42,
   "metadata": {
    "scrolled": true
   },
   "outputs": [
    {
     "name": "stdout",
     "output_type": "stream",
     "text": [
      "0.8222222222222222\n",
      "[[15  0  0]\n",
      " [ 1  8  6]\n",
      " [ 0  1 14]]\n"
     ]
    }
   ],
   "source": [
    "## multi_class = 'multinomial'\n",
    "# Predict\n",
    "y_pred_mul = Logit_mul.predict(X_test)\n",
    "y_pred_mul_prob = Logit_mul.predict_proba(X_test)\n",
    "\n",
    "# ACC\n",
    "print(accuracy_score(y_test,y_pred_mul))\n",
    "\n",
    "# Confusion Matrix\n",
    "print(confusion_matrix(y_test,y_pred_mul))"
   ]
  },
  {
   "cell_type": "code",
   "execution_count": 43,
   "metadata": {},
   "outputs": [
    {
     "data": {
      "text/html": [
       "<div>\n",
       "<style scoped>\n",
       "    .dataframe tbody tr th:only-of-type {\n",
       "        vertical-align: middle;\n",
       "    }\n",
       "\n",
       "    .dataframe tbody tr th {\n",
       "        vertical-align: top;\n",
       "    }\n",
       "\n",
       "    .dataframe thead th {\n",
       "        text-align: right;\n",
       "    }\n",
       "</style>\n",
       "<table border=\"1\" class=\"dataframe\">\n",
       "  <thead>\n",
       "    <tr style=\"text-align: right;\">\n",
       "      <th></th>\n",
       "      <th>true</th>\n",
       "    </tr>\n",
       "  </thead>\n",
       "  <tbody>\n",
       "    <tr>\n",
       "      <th>0</th>\n",
       "      <td>2</td>\n",
       "    </tr>\n",
       "    <tr>\n",
       "      <th>1</th>\n",
       "      <td>0</td>\n",
       "    </tr>\n",
       "    <tr>\n",
       "      <th>2</th>\n",
       "      <td>0</td>\n",
       "    </tr>\n",
       "    <tr>\n",
       "      <th>3</th>\n",
       "      <td>2</td>\n",
       "    </tr>\n",
       "    <tr>\n",
       "      <th>4</th>\n",
       "      <td>1</td>\n",
       "    </tr>\n",
       "  </tbody>\n",
       "</table>\n",
       "</div>"
      ],
      "text/plain": [
       "   true\n",
       "0     2\n",
       "1     0\n",
       "2     0\n",
       "3     2\n",
       "4     1"
      ]
     },
     "execution_count": 43,
     "metadata": {},
     "output_type": "execute_result"
    }
   ],
   "source": [
    "y_test = pd.DataFrame(y_test, columns = ['true'])\n",
    "y_test.head()"
   ]
  },
  {
   "cell_type": "code",
   "execution_count": 44,
   "metadata": {},
   "outputs": [],
   "source": [
    "y_pred_mul = pd.DataFrame(y_pred_mul, columns = ['y_pred_mul'])\n",
    "y_pred_ovr = pd.DataFrame(y_pred_ovr, columns = ['y_pred_ovr'])"
   ]
  },
  {
   "cell_type": "code",
   "execution_count": 45,
   "metadata": {},
   "outputs": [],
   "source": [
    "import pandas as pd\n",
    "y_pred_ovr_prob=pd.DataFrame(y_pred_ovr_prob, columns = [['prob_0','prob_1','prob_2']])\n",
    "y_pred_mul_prob=pd.DataFrame(y_pred_mul_prob, columns = [['prob_0','prob_1','prob_2']])"
   ]
  },
  {
   "cell_type": "code",
   "execution_count": 46,
   "metadata": {
    "scrolled": true
   },
   "outputs": [
    {
     "data": {
      "text/html": [
       "<div>\n",
       "<style scoped>\n",
       "    .dataframe tbody tr th:only-of-type {\n",
       "        vertical-align: middle;\n",
       "    }\n",
       "\n",
       "    .dataframe tbody tr th {\n",
       "        vertical-align: top;\n",
       "    }\n",
       "\n",
       "    .dataframe thead tr th {\n",
       "        text-align: left;\n",
       "    }\n",
       "</style>\n",
       "<table border=\"1\" class=\"dataframe\">\n",
       "  <thead>\n",
       "    <tr>\n",
       "      <th></th>\n",
       "      <th>prob_0</th>\n",
       "      <th>prob_1</th>\n",
       "      <th>prob_2</th>\n",
       "    </tr>\n",
       "  </thead>\n",
       "  <tbody>\n",
       "    <tr>\n",
       "      <th>0</th>\n",
       "      <td>0.115521</td>\n",
       "      <td>0.363449</td>\n",
       "      <td>0.521029</td>\n",
       "    </tr>\n",
       "    <tr>\n",
       "      <th>1</th>\n",
       "      <td>0.631034</td>\n",
       "      <td>0.252326</td>\n",
       "      <td>0.116640</td>\n",
       "    </tr>\n",
       "    <tr>\n",
       "      <th>2</th>\n",
       "      <td>0.679568</td>\n",
       "      <td>0.235110</td>\n",
       "      <td>0.085322</td>\n",
       "    </tr>\n",
       "    <tr>\n",
       "      <th>3</th>\n",
       "      <td>0.217485</td>\n",
       "      <td>0.427883</td>\n",
       "      <td>0.354632</td>\n",
       "    </tr>\n",
       "    <tr>\n",
       "      <th>4</th>\n",
       "      <td>0.199545</td>\n",
       "      <td>0.389534</td>\n",
       "      <td>0.410921</td>\n",
       "    </tr>\n",
       "  </tbody>\n",
       "</table>\n",
       "</div>"
      ],
      "text/plain": [
       "     prob_0    prob_1    prob_2\n",
       "0  0.115521  0.363449  0.521029\n",
       "1  0.631034  0.252326  0.116640\n",
       "2  0.679568  0.235110  0.085322\n",
       "3  0.217485  0.427883  0.354632\n",
       "4  0.199545  0.389534  0.410921"
      ]
     },
     "execution_count": 46,
     "metadata": {},
     "output_type": "execute_result"
    }
   ],
   "source": [
    "y_pred_mul_prob.head()"
   ]
  },
  {
   "cell_type": "code",
   "execution_count": 47,
   "metadata": {
    "scrolled": true
   },
   "outputs": [
    {
     "data": {
      "text/html": [
       "<div>\n",
       "<style scoped>\n",
       "    .dataframe tbody tr th:only-of-type {\n",
       "        vertical-align: middle;\n",
       "    }\n",
       "\n",
       "    .dataframe tbody tr th {\n",
       "        vertical-align: top;\n",
       "    }\n",
       "\n",
       "    .dataframe thead tr th {\n",
       "        text-align: left;\n",
       "    }\n",
       "</style>\n",
       "<table border=\"1\" class=\"dataframe\">\n",
       "  <thead>\n",
       "    <tr>\n",
       "      <th></th>\n",
       "      <th>prob_0</th>\n",
       "      <th>prob_1</th>\n",
       "      <th>prob_2</th>\n",
       "    </tr>\n",
       "  </thead>\n",
       "  <tbody>\n",
       "    <tr>\n",
       "      <th>0</th>\n",
       "      <td>0.148047</td>\n",
       "      <td>0.361578</td>\n",
       "      <td>0.490374</td>\n",
       "    </tr>\n",
       "    <tr>\n",
       "      <th>1</th>\n",
       "      <td>0.576350</td>\n",
       "      <td>0.272632</td>\n",
       "      <td>0.151018</td>\n",
       "    </tr>\n",
       "    <tr>\n",
       "      <th>2</th>\n",
       "      <td>0.609351</td>\n",
       "      <td>0.271296</td>\n",
       "      <td>0.119354</td>\n",
       "    </tr>\n",
       "    <tr>\n",
       "      <th>3</th>\n",
       "      <td>0.251849</td>\n",
       "      <td>0.384362</td>\n",
       "      <td>0.363789</td>\n",
       "    </tr>\n",
       "    <tr>\n",
       "      <th>4</th>\n",
       "      <td>0.233284</td>\n",
       "      <td>0.360384</td>\n",
       "      <td>0.406332</td>\n",
       "    </tr>\n",
       "  </tbody>\n",
       "</table>\n",
       "</div>"
      ],
      "text/plain": [
       "     prob_0    prob_1    prob_2\n",
       "0  0.148047  0.361578  0.490374\n",
       "1  0.576350  0.272632  0.151018\n",
       "2  0.609351  0.271296  0.119354\n",
       "3  0.251849  0.384362  0.363789\n",
       "4  0.233284  0.360384  0.406332"
      ]
     },
     "execution_count": 47,
     "metadata": {},
     "output_type": "execute_result"
    }
   ],
   "source": [
    "y_pred_ovr_prob.head()"
   ]
  },
  {
   "cell_type": "code",
   "execution_count": 48,
   "metadata": {},
   "outputs": [],
   "source": [
    "y_pred_mul_concat = pd.concat([y_pred_mul_prob, y_pred_mul,y_test], axis=1) # column bind\n",
    "y_pred_ovr_concat = pd.concat([y_pred_ovr_prob, y_pred_ovr,y_test], axis=1) # column bind\n"
   ]
  },
  {
   "cell_type": "code",
   "execution_count": 49,
   "metadata": {},
   "outputs": [
    {
     "data": {
      "text/html": [
       "<div>\n",
       "<style scoped>\n",
       "    .dataframe tbody tr th:only-of-type {\n",
       "        vertical-align: middle;\n",
       "    }\n",
       "\n",
       "    .dataframe tbody tr th {\n",
       "        vertical-align: top;\n",
       "    }\n",
       "\n",
       "    .dataframe thead th {\n",
       "        text-align: right;\n",
       "    }\n",
       "</style>\n",
       "<table border=\"1\" class=\"dataframe\">\n",
       "  <thead>\n",
       "    <tr style=\"text-align: right;\">\n",
       "      <th></th>\n",
       "      <th>(prob_0,)</th>\n",
       "      <th>(prob_1,)</th>\n",
       "      <th>(prob_2,)</th>\n",
       "      <th>y_pred_mul</th>\n",
       "      <th>true</th>\n",
       "    </tr>\n",
       "  </thead>\n",
       "  <tbody>\n",
       "    <tr>\n",
       "      <th>0</th>\n",
       "      <td>0.115521</td>\n",
       "      <td>0.363449</td>\n",
       "      <td>0.521029</td>\n",
       "      <td>2</td>\n",
       "      <td>2</td>\n",
       "    </tr>\n",
       "    <tr>\n",
       "      <th>1</th>\n",
       "      <td>0.631034</td>\n",
       "      <td>0.252326</td>\n",
       "      <td>0.116640</td>\n",
       "      <td>0</td>\n",
       "      <td>0</td>\n",
       "    </tr>\n",
       "    <tr>\n",
       "      <th>2</th>\n",
       "      <td>0.679568</td>\n",
       "      <td>0.235110</td>\n",
       "      <td>0.085322</td>\n",
       "      <td>0</td>\n",
       "      <td>0</td>\n",
       "    </tr>\n",
       "    <tr>\n",
       "      <th>3</th>\n",
       "      <td>0.217485</td>\n",
       "      <td>0.427883</td>\n",
       "      <td>0.354632</td>\n",
       "      <td>1</td>\n",
       "      <td>2</td>\n",
       "    </tr>\n",
       "    <tr>\n",
       "      <th>4</th>\n",
       "      <td>0.199545</td>\n",
       "      <td>0.389534</td>\n",
       "      <td>0.410921</td>\n",
       "      <td>2</td>\n",
       "      <td>1</td>\n",
       "    </tr>\n",
       "    <tr>\n",
       "      <th>5</th>\n",
       "      <td>0.251930</td>\n",
       "      <td>0.400019</td>\n",
       "      <td>0.348051</td>\n",
       "      <td>1</td>\n",
       "      <td>1</td>\n",
       "    </tr>\n",
       "    <tr>\n",
       "      <th>6</th>\n",
       "      <td>0.088543</td>\n",
       "      <td>0.369772</td>\n",
       "      <td>0.541685</td>\n",
       "      <td>2</td>\n",
       "      <td>2</td>\n",
       "    </tr>\n",
       "    <tr>\n",
       "      <th>7</th>\n",
       "      <td>0.184337</td>\n",
       "      <td>0.415685</td>\n",
       "      <td>0.399978</td>\n",
       "      <td>1</td>\n",
       "      <td>1</td>\n",
       "    </tr>\n",
       "    <tr>\n",
       "      <th>8</th>\n",
       "      <td>0.119448</td>\n",
       "      <td>0.383705</td>\n",
       "      <td>0.496847</td>\n",
       "      <td>2</td>\n",
       "      <td>2</td>\n",
       "    </tr>\n",
       "    <tr>\n",
       "      <th>9</th>\n",
       "      <td>0.676605</td>\n",
       "      <td>0.227044</td>\n",
       "      <td>0.096351</td>\n",
       "      <td>0</td>\n",
       "      <td>0</td>\n",
       "    </tr>\n",
       "  </tbody>\n",
       "</table>\n",
       "</div>"
      ],
      "text/plain": [
       "   (prob_0,)  (prob_1,)  (prob_2,)  y_pred_mul  true\n",
       "0   0.115521   0.363449   0.521029           2     2\n",
       "1   0.631034   0.252326   0.116640           0     0\n",
       "2   0.679568   0.235110   0.085322           0     0\n",
       "3   0.217485   0.427883   0.354632           1     2\n",
       "4   0.199545   0.389534   0.410921           2     1\n",
       "5   0.251930   0.400019   0.348051           1     1\n",
       "6   0.088543   0.369772   0.541685           2     2\n",
       "7   0.184337   0.415685   0.399978           1     1\n",
       "8   0.119448   0.383705   0.496847           2     2\n",
       "9   0.676605   0.227044   0.096351           0     0"
      ]
     },
     "execution_count": 49,
     "metadata": {},
     "output_type": "execute_result"
    }
   ],
   "source": [
    "y_pred_mul_concat.head(10)"
   ]
  },
  {
   "cell_type": "code",
   "execution_count": 50,
   "metadata": {},
   "outputs": [
    {
     "data": {
      "text/html": [
       "<div>\n",
       "<style scoped>\n",
       "    .dataframe tbody tr th:only-of-type {\n",
       "        vertical-align: middle;\n",
       "    }\n",
       "\n",
       "    .dataframe tbody tr th {\n",
       "        vertical-align: top;\n",
       "    }\n",
       "\n",
       "    .dataframe thead th {\n",
       "        text-align: right;\n",
       "    }\n",
       "</style>\n",
       "<table border=\"1\" class=\"dataframe\">\n",
       "  <thead>\n",
       "    <tr style=\"text-align: right;\">\n",
       "      <th></th>\n",
       "      <th>(prob_0,)</th>\n",
       "      <th>(prob_1,)</th>\n",
       "      <th>(prob_2,)</th>\n",
       "      <th>y_pred_ovr</th>\n",
       "      <th>true</th>\n",
       "    </tr>\n",
       "  </thead>\n",
       "  <tbody>\n",
       "    <tr>\n",
       "      <th>0</th>\n",
       "      <td>0.148047</td>\n",
       "      <td>0.361578</td>\n",
       "      <td>0.490374</td>\n",
       "      <td>2</td>\n",
       "      <td>2</td>\n",
       "    </tr>\n",
       "    <tr>\n",
       "      <th>1</th>\n",
       "      <td>0.576350</td>\n",
       "      <td>0.272632</td>\n",
       "      <td>0.151018</td>\n",
       "      <td>0</td>\n",
       "      <td>0</td>\n",
       "    </tr>\n",
       "    <tr>\n",
       "      <th>2</th>\n",
       "      <td>0.609351</td>\n",
       "      <td>0.271296</td>\n",
       "      <td>0.119354</td>\n",
       "      <td>0</td>\n",
       "      <td>0</td>\n",
       "    </tr>\n",
       "    <tr>\n",
       "      <th>3</th>\n",
       "      <td>0.251849</td>\n",
       "      <td>0.384362</td>\n",
       "      <td>0.363789</td>\n",
       "      <td>1</td>\n",
       "      <td>2</td>\n",
       "    </tr>\n",
       "    <tr>\n",
       "      <th>4</th>\n",
       "      <td>0.233284</td>\n",
       "      <td>0.360384</td>\n",
       "      <td>0.406332</td>\n",
       "      <td>2</td>\n",
       "      <td>1</td>\n",
       "    </tr>\n",
       "    <tr>\n",
       "      <th>5</th>\n",
       "      <td>0.282992</td>\n",
       "      <td>0.361890</td>\n",
       "      <td>0.355118</td>\n",
       "      <td>1</td>\n",
       "      <td>1</td>\n",
       "    </tr>\n",
       "    <tr>\n",
       "      <th>6</th>\n",
       "      <td>0.117875</td>\n",
       "      <td>0.373969</td>\n",
       "      <td>0.508156</td>\n",
       "      <td>2</td>\n",
       "      <td>2</td>\n",
       "    </tr>\n",
       "    <tr>\n",
       "      <th>7</th>\n",
       "      <td>0.218938</td>\n",
       "      <td>0.379889</td>\n",
       "      <td>0.401174</td>\n",
       "      <td>2</td>\n",
       "      <td>1</td>\n",
       "    </tr>\n",
       "    <tr>\n",
       "      <th>8</th>\n",
       "      <td>0.151864</td>\n",
       "      <td>0.372884</td>\n",
       "      <td>0.475252</td>\n",
       "      <td>2</td>\n",
       "      <td>2</td>\n",
       "    </tr>\n",
       "    <tr>\n",
       "      <th>9</th>\n",
       "      <td>0.607009</td>\n",
       "      <td>0.260730</td>\n",
       "      <td>0.132262</td>\n",
       "      <td>0</td>\n",
       "      <td>0</td>\n",
       "    </tr>\n",
       "  </tbody>\n",
       "</table>\n",
       "</div>"
      ],
      "text/plain": [
       "   (prob_0,)  (prob_1,)  (prob_2,)  y_pred_ovr  true\n",
       "0   0.148047   0.361578   0.490374           2     2\n",
       "1   0.576350   0.272632   0.151018           0     0\n",
       "2   0.609351   0.271296   0.119354           0     0\n",
       "3   0.251849   0.384362   0.363789           1     2\n",
       "4   0.233284   0.360384   0.406332           2     1\n",
       "5   0.282992   0.361890   0.355118           1     1\n",
       "6   0.117875   0.373969   0.508156           2     2\n",
       "7   0.218938   0.379889   0.401174           2     1\n",
       "8   0.151864   0.372884   0.475252           2     2\n",
       "9   0.607009   0.260730   0.132262           0     0"
      ]
     },
     "execution_count": 50,
     "metadata": {},
     "output_type": "execute_result"
    }
   ],
   "source": [
    "y_pred_ovr_concat.head(10)"
   ]
  },
  {
   "cell_type": "code",
   "execution_count": null,
   "metadata": {},
   "outputs": [],
   "source": []
  }
 ],
 "metadata": {
  "kernelspec": {
   "display_name": "Python 3",
   "language": "python",
   "name": "python3"
  },
  "language_info": {
   "codemirror_mode": {
    "name": "ipython",
    "version": 3
   },
   "file_extension": ".py",
   "mimetype": "text/x-python",
   "name": "python",
   "nbconvert_exporter": "python",
   "pygments_lexer": "ipython3",
   "version": "3.6.10"
  }
 },
 "nbformat": 4,
 "nbformat_minor": 4
}
