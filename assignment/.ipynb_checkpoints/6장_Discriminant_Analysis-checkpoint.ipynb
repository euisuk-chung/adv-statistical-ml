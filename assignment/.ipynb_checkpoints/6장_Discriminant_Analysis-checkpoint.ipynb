{
 "cells": [
  {
   "cell_type": "code",
   "execution_count": 2,
   "metadata": {},
   "outputs": [],
   "source": [
    "import numpy as np\n",
    "import pandas as pd\n",
    "from matplotlib import pyplot as plt\n",
    "import matplotlib.colors as colors\n",
    "from mpl_toolkits.mplot3d import Axes3D\n",
    "from mpl_toolkits import mplot3d\n",
    "from sklearn import linear_model, datasets\n",
    "import seaborn as sns\n",
    "import itertools\n",
    "\n",
    "%matplotlib inline\n",
    "sns.set()\n",
    "\n",
    "from sklearn.preprocessing import LabelEncoder\n",
    "from sklearn.tree import DecisionTreeClassifier\n",
    "from sklearn.model_selection import train_test_split\n",
    "from sklearn.metrics import confusion_matrix"
   ]
  },
  {
   "cell_type": "code",
   "execution_count": 3,
   "metadata": {},
   "outputs": [],
   "source": [
    "def multivariate_gaussian_pdf(X,MU,SIGMA):\n",
    "    '''Returns the pdf of a nultivariate gaussian distribution\n",
    "     - X, MU are p x 1 vectors\n",
    "     - SIGMA is a p x p matrix'''\n",
    "    #Initialize and reshape\n",
    "    X = X.reshape(-1,1)\n",
    "    MU = MU.reshape(-1,1)\n",
    "    p,_ = SIGMA.shape\n",
    "\n",
    "    #Compute values\n",
    "    SIGMA_inv = np.linalg.inv(SIGMA)\n",
    "    denominator = np.sqrt((2 * np.pi)**p * np.linalg.det(SIGMA))\n",
    "    exponent = -(1/2) * ((X - MU).T @ SIGMA_inv @ (X - MU))\n",
    "    \n",
    "    #Return result\n",
    "    return float((1. / denominator) * np.exp(exponent) )   \n",
    "\n",
    "def calculate_boundary(X,MU_k,MU_l, SIGMA,pi_k,pi_l): \n",
    "    return (np.log(pi_k / pi_l) - 1/2 * (MU_k + MU_l).T @ np.linalg.inv(SIGMA)@(MU_k - MU_l) + X.T @ np.linalg.inv(SIGMA)@ (MU_k - MU_l)).flatten()[0]   \n",
    "\n",
    "\n",
    "def LDA_score(X,MU_k,SIGMA,pi_k): \n",
    "    #Returns the value of the linear discriminant score function for a given class \"k\" and \n",
    "    # a given x value X\n",
    "    return (np.log(pi_k) - 1/2 * (MU_k).T @ np.linalg.inv(SIGMA)@(MU_k) + X.T @ np.linalg.inv(SIGMA)@ (MU_k)).flatten()[0]   \n",
    "\n",
    "def predict_LDA_class(X,MU_list,SIGMA,pi_list): \n",
    "    #Returns the class for which the the linear discriminant score function is largest\n",
    "    scores_list = []\n",
    "    classes = len(MU_list)\n",
    "    \n",
    "    for p in range(classes):\n",
    "        score = LDA_score(X.reshape(-1,1),MU_list[p].reshape(-1,1),sigma,pi_list[0]) \n",
    "        scores_list.append(score)\n",
    "             \n",
    "    return np.argmax(scores_list)\n",
    "\n",
    "def QDA_score(X,MU_k,SIGMA,pi_k): \n",
    "    #Returns the value of the linear discriminant score function for a given class \"k\" and \n",
    "    # a given x value X\n",
    "    \n",
    "    SIGMA_inv = np.linalg.inv(SIGMA)\n",
    "    \n",
    "    return (np.log(pi_k) - 1/2 * np.log(np.linalg.det(SIGMA_inv)) - 1/2 * (X - MU_k).T @ SIGMA_inv @ (X - MU_k)).flatten()[0]   \n",
    "\n",
    "def predict_QDA_class(X,MU_list,SIGMA_list,pi_list): \n",
    "    #Returns the class for which the the linear discriminant score function is largest\n",
    "    scores_list = []\n",
    "    classes = len(MU_list)\n",
    "    \n",
    "    for p in range(classes):\n",
    "        score = QDA_score(X.reshape(-1,1),MU_list[p].reshape(-1,1),SIGMA_list[p],pi_list[p]) \n",
    "        scores_list.append(score)\n",
    "             \n",
    "    return np.argmax(scores_list)"
   ]
  },
  {
   "cell_type": "code",
   "execution_count": 4,
   "metadata": {},
   "outputs": [],
   "source": [
    "wine = datasets.load_wine()\n",
    "X = pd.DataFrame(wine.data, columns=wine.feature_names)\n",
    "y = pd.Categorical.from_codes(wine.target, wine.target_names)"
   ]
  },
  {
   "cell_type": "code",
   "execution_count": 5,
   "metadata": {},
   "outputs": [
    {
     "data": {
      "text/plain": [
       "(178, 13)"
      ]
     },
     "execution_count": 5,
     "metadata": {},
     "output_type": "execute_result"
    }
   ],
   "source": [
    "X.shape"
   ]
  },
  {
   "cell_type": "code",
   "execution_count": 6,
   "metadata": {
    "scrolled": false
   },
   "outputs": [
    {
     "data": {
      "text/html": [
       "<div>\n",
       "<style scoped>\n",
       "    .dataframe tbody tr th:only-of-type {\n",
       "        vertical-align: middle;\n",
       "    }\n",
       "\n",
       "    .dataframe tbody tr th {\n",
       "        vertical-align: top;\n",
       "    }\n",
       "\n",
       "    .dataframe thead th {\n",
       "        text-align: right;\n",
       "    }\n",
       "</style>\n",
       "<table border=\"1\" class=\"dataframe\">\n",
       "  <thead>\n",
       "    <tr style=\"text-align: right;\">\n",
       "      <th></th>\n",
       "      <th>alcohol</th>\n",
       "      <th>malic_acid</th>\n",
       "      <th>ash</th>\n",
       "      <th>alcalinity_of_ash</th>\n",
       "      <th>magnesium</th>\n",
       "      <th>total_phenols</th>\n",
       "      <th>flavanoids</th>\n",
       "      <th>nonflavanoid_phenols</th>\n",
       "      <th>proanthocyanins</th>\n",
       "      <th>color_intensity</th>\n",
       "      <th>hue</th>\n",
       "      <th>od280/od315_of_diluted_wines</th>\n",
       "      <th>proline</th>\n",
       "    </tr>\n",
       "  </thead>\n",
       "  <tbody>\n",
       "    <tr>\n",
       "      <th>0</th>\n",
       "      <td>14.23</td>\n",
       "      <td>1.71</td>\n",
       "      <td>2.43</td>\n",
       "      <td>15.6</td>\n",
       "      <td>127.0</td>\n",
       "      <td>2.80</td>\n",
       "      <td>3.06</td>\n",
       "      <td>0.28</td>\n",
       "      <td>2.29</td>\n",
       "      <td>5.64</td>\n",
       "      <td>1.04</td>\n",
       "      <td>3.92</td>\n",
       "      <td>1065.0</td>\n",
       "    </tr>\n",
       "    <tr>\n",
       "      <th>1</th>\n",
       "      <td>13.20</td>\n",
       "      <td>1.78</td>\n",
       "      <td>2.14</td>\n",
       "      <td>11.2</td>\n",
       "      <td>100.0</td>\n",
       "      <td>2.65</td>\n",
       "      <td>2.76</td>\n",
       "      <td>0.26</td>\n",
       "      <td>1.28</td>\n",
       "      <td>4.38</td>\n",
       "      <td>1.05</td>\n",
       "      <td>3.40</td>\n",
       "      <td>1050.0</td>\n",
       "    </tr>\n",
       "    <tr>\n",
       "      <th>2</th>\n",
       "      <td>13.16</td>\n",
       "      <td>2.36</td>\n",
       "      <td>2.67</td>\n",
       "      <td>18.6</td>\n",
       "      <td>101.0</td>\n",
       "      <td>2.80</td>\n",
       "      <td>3.24</td>\n",
       "      <td>0.30</td>\n",
       "      <td>2.81</td>\n",
       "      <td>5.68</td>\n",
       "      <td>1.03</td>\n",
       "      <td>3.17</td>\n",
       "      <td>1185.0</td>\n",
       "    </tr>\n",
       "    <tr>\n",
       "      <th>3</th>\n",
       "      <td>14.37</td>\n",
       "      <td>1.95</td>\n",
       "      <td>2.50</td>\n",
       "      <td>16.8</td>\n",
       "      <td>113.0</td>\n",
       "      <td>3.85</td>\n",
       "      <td>3.49</td>\n",
       "      <td>0.24</td>\n",
       "      <td>2.18</td>\n",
       "      <td>7.80</td>\n",
       "      <td>0.86</td>\n",
       "      <td>3.45</td>\n",
       "      <td>1480.0</td>\n",
       "    </tr>\n",
       "    <tr>\n",
       "      <th>4</th>\n",
       "      <td>13.24</td>\n",
       "      <td>2.59</td>\n",
       "      <td>2.87</td>\n",
       "      <td>21.0</td>\n",
       "      <td>118.0</td>\n",
       "      <td>2.80</td>\n",
       "      <td>2.69</td>\n",
       "      <td>0.39</td>\n",
       "      <td>1.82</td>\n",
       "      <td>4.32</td>\n",
       "      <td>1.04</td>\n",
       "      <td>2.93</td>\n",
       "      <td>735.0</td>\n",
       "    </tr>\n",
       "  </tbody>\n",
       "</table>\n",
       "</div>"
      ],
      "text/plain": [
       "   alcohol  malic_acid   ash  alcalinity_of_ash  magnesium  total_phenols  \\\n",
       "0    14.23        1.71  2.43               15.6      127.0           2.80   \n",
       "1    13.20        1.78  2.14               11.2      100.0           2.65   \n",
       "2    13.16        2.36  2.67               18.6      101.0           2.80   \n",
       "3    14.37        1.95  2.50               16.8      113.0           3.85   \n",
       "4    13.24        2.59  2.87               21.0      118.0           2.80   \n",
       "\n",
       "   flavanoids  nonflavanoid_phenols  proanthocyanins  color_intensity   hue  \\\n",
       "0        3.06                  0.28             2.29             5.64  1.04   \n",
       "1        2.76                  0.26             1.28             4.38  1.05   \n",
       "2        3.24                  0.30             2.81             5.68  1.03   \n",
       "3        3.49                  0.24             2.18             7.80  0.86   \n",
       "4        2.69                  0.39             1.82             4.32  1.04   \n",
       "\n",
       "   od280/od315_of_diluted_wines  proline  \n",
       "0                          3.92   1065.0  \n",
       "1                          3.40   1050.0  \n",
       "2                          3.17   1185.0  \n",
       "3                          3.45   1480.0  \n",
       "4                          2.93    735.0  "
      ]
     },
     "execution_count": 6,
     "metadata": {},
     "output_type": "execute_result"
    }
   ],
   "source": [
    "X.head()"
   ]
  },
  {
   "cell_type": "code",
   "execution_count": 7,
   "metadata": {
    "scrolled": true
   },
   "outputs": [
    {
     "data": {
      "text/plain": [
       "[class_0, class_0, class_0, class_0, class_0, ..., class_2, class_2, class_2, class_2, class_2]\n",
       "Length: 178\n",
       "Categories (3, object): [class_0, class_1, class_2]"
      ]
     },
     "execution_count": 7,
     "metadata": {},
     "output_type": "execute_result"
    }
   ],
   "source": [
    "y"
   ]
  },
  {
   "cell_type": "code",
   "execution_count": 8,
   "metadata": {},
   "outputs": [],
   "source": [
    "from sklearn.preprocessing import LabelEncoder # LabelEncoder() method를 불러옴\n",
    "classle=LabelEncoder() \n",
    "y=classle.fit_transform(y) # species 열의 문자형을 범주형 값으로 전환"
   ]
  },
  {
   "cell_type": "code",
   "execution_count": 9,
   "metadata": {},
   "outputs": [
    {
     "data": {
      "text/plain": [
       "array([0, 0, 0, 0, 0, 0, 0, 0, 0, 0, 0, 0, 0, 0, 0, 0, 0, 0, 0, 0, 0, 0,\n",
       "       0, 0, 0, 0, 0, 0, 0, 0, 0, 0, 0, 0, 0, 0, 0, 0, 0, 0, 0, 0, 0, 0,\n",
       "       0, 0, 0, 0, 0, 0, 0, 0, 0, 0, 0, 0, 0, 0, 0, 1, 1, 1, 1, 1, 1, 1,\n",
       "       1, 1, 1, 1, 1, 1, 1, 1, 1, 1, 1, 1, 1, 1, 1, 1, 1, 1, 1, 1, 1, 1,\n",
       "       1, 1, 1, 1, 1, 1, 1, 1, 1, 1, 1, 1, 1, 1, 1, 1, 1, 1, 1, 1, 1, 1,\n",
       "       1, 1, 1, 1, 1, 1, 1, 1, 1, 1, 1, 1, 1, 1, 1, 1, 1, 1, 1, 1, 2, 2,\n",
       "       2, 2, 2, 2, 2, 2, 2, 2, 2, 2, 2, 2, 2, 2, 2, 2, 2, 2, 2, 2, 2, 2,\n",
       "       2, 2, 2, 2, 2, 2, 2, 2, 2, 2, 2, 2, 2, 2, 2, 2, 2, 2, 2, 2, 2, 2,\n",
       "       2, 2])"
      ]
     },
     "execution_count": 9,
     "metadata": {},
     "output_type": "execute_result"
    }
   ],
   "source": [
    "y"
   ]
  },
  {
   "cell_type": "code",
   "execution_count": 10,
   "metadata": {},
   "outputs": [],
   "source": [
    "df = X.join(pd.Series(y, name='class'))"
   ]
  },
  {
   "cell_type": "code",
   "execution_count": 13,
   "metadata": {},
   "outputs": [
    {
     "data": {
      "text/plain": [
       "[0, 1, 2]"
      ]
     },
     "execution_count": 13,
     "metadata": {},
     "output_type": "execute_result"
    }
   ],
   "source": [
    "list(set(df['class']))"
   ]
  },
  {
   "cell_type": "code",
   "execution_count": 15,
   "metadata": {},
   "outputs": [
    {
     "data": {
      "text/plain": [
       "array(['class_0', 'class_1', 'class_2'], dtype='<U7')"
      ]
     },
     "execution_count": 15,
     "metadata": {},
     "output_type": "execute_result"
    }
   ],
   "source": [
    "wine.target_names"
   ]
  },
  {
   "cell_type": "code",
   "execution_count": 16,
   "metadata": {
    "scrolled": true
   },
   "outputs": [
    {
     "data": {
      "text/html": [
       "<div>\n",
       "<style scoped>\n",
       "    .dataframe tbody tr th:only-of-type {\n",
       "        vertical-align: middle;\n",
       "    }\n",
       "\n",
       "    .dataframe tbody tr th {\n",
       "        vertical-align: top;\n",
       "    }\n",
       "\n",
       "    .dataframe thead th {\n",
       "        text-align: right;\n",
       "    }\n",
       "</style>\n",
       "<table border=\"1\" class=\"dataframe\">\n",
       "  <thead>\n",
       "    <tr style=\"text-align: right;\">\n",
       "      <th></th>\n",
       "      <th>0</th>\n",
       "      <th>1</th>\n",
       "      <th>2</th>\n",
       "    </tr>\n",
       "  </thead>\n",
       "  <tbody>\n",
       "    <tr>\n",
       "      <th>alcohol</th>\n",
       "      <td>13.744746</td>\n",
       "      <td>12.278732</td>\n",
       "      <td>13.153750</td>\n",
       "    </tr>\n",
       "    <tr>\n",
       "      <th>malic_acid</th>\n",
       "      <td>2.010678</td>\n",
       "      <td>1.932676</td>\n",
       "      <td>3.333750</td>\n",
       "    </tr>\n",
       "    <tr>\n",
       "      <th>ash</th>\n",
       "      <td>2.455593</td>\n",
       "      <td>2.244789</td>\n",
       "      <td>2.437083</td>\n",
       "    </tr>\n",
       "    <tr>\n",
       "      <th>alcalinity_of_ash</th>\n",
       "      <td>17.037288</td>\n",
       "      <td>20.238028</td>\n",
       "      <td>21.416667</td>\n",
       "    </tr>\n",
       "    <tr>\n",
       "      <th>magnesium</th>\n",
       "      <td>106.338983</td>\n",
       "      <td>94.549296</td>\n",
       "      <td>99.312500</td>\n",
       "    </tr>\n",
       "    <tr>\n",
       "      <th>total_phenols</th>\n",
       "      <td>2.840169</td>\n",
       "      <td>2.258873</td>\n",
       "      <td>1.678750</td>\n",
       "    </tr>\n",
       "    <tr>\n",
       "      <th>flavanoids</th>\n",
       "      <td>2.982373</td>\n",
       "      <td>2.080845</td>\n",
       "      <td>0.781458</td>\n",
       "    </tr>\n",
       "    <tr>\n",
       "      <th>nonflavanoid_phenols</th>\n",
       "      <td>0.290000</td>\n",
       "      <td>0.363662</td>\n",
       "      <td>0.447500</td>\n",
       "    </tr>\n",
       "    <tr>\n",
       "      <th>proanthocyanins</th>\n",
       "      <td>1.899322</td>\n",
       "      <td>1.630282</td>\n",
       "      <td>1.153542</td>\n",
       "    </tr>\n",
       "    <tr>\n",
       "      <th>color_intensity</th>\n",
       "      <td>5.528305</td>\n",
       "      <td>3.086620</td>\n",
       "      <td>7.396250</td>\n",
       "    </tr>\n",
       "    <tr>\n",
       "      <th>hue</th>\n",
       "      <td>1.062034</td>\n",
       "      <td>1.056282</td>\n",
       "      <td>0.682708</td>\n",
       "    </tr>\n",
       "    <tr>\n",
       "      <th>od280/od315_of_diluted_wines</th>\n",
       "      <td>3.157797</td>\n",
       "      <td>2.785352</td>\n",
       "      <td>1.683542</td>\n",
       "    </tr>\n",
       "    <tr>\n",
       "      <th>proline</th>\n",
       "      <td>1115.711864</td>\n",
       "      <td>519.507042</td>\n",
       "      <td>629.895833</td>\n",
       "    </tr>\n",
       "    <tr>\n",
       "      <th>class</th>\n",
       "      <td>0.000000</td>\n",
       "      <td>1.000000</td>\n",
       "      <td>2.000000</td>\n",
       "    </tr>\n",
       "  </tbody>\n",
       "</table>\n",
       "</div>"
      ],
      "text/plain": [
       "                                        0           1           2\n",
       "alcohol                         13.744746   12.278732   13.153750\n",
       "malic_acid                       2.010678    1.932676    3.333750\n",
       "ash                              2.455593    2.244789    2.437083\n",
       "alcalinity_of_ash               17.037288   20.238028   21.416667\n",
       "magnesium                      106.338983   94.549296   99.312500\n",
       "total_phenols                    2.840169    2.258873    1.678750\n",
       "flavanoids                       2.982373    2.080845    0.781458\n",
       "nonflavanoid_phenols             0.290000    0.363662    0.447500\n",
       "proanthocyanins                  1.899322    1.630282    1.153542\n",
       "color_intensity                  5.528305    3.086620    7.396250\n",
       "hue                              1.062034    1.056282    0.682708\n",
       "od280/od315_of_diluted_wines     3.157797    2.785352    1.683542\n",
       "proline                       1115.711864  519.507042  629.895833\n",
       "class                            0.000000    1.000000    2.000000"
      ]
     },
     "execution_count": 16,
     "metadata": {},
     "output_type": "execute_result"
    }
   ],
   "source": [
    "class_feature_means = pd.DataFrame(columns=list(set(df['class'])))\n",
    "for c, rows in df.groupby('class'):\n",
    "    class_feature_means[c] = rows.mean()\n",
    "class_feature_means"
   ]
  },
  {
   "cell_type": "code",
   "execution_count": 17,
   "metadata": {},
   "outputs": [
    {
     "data": {
      "text/html": [
       "<div>\n",
       "<style scoped>\n",
       "    .dataframe tbody tr th:only-of-type {\n",
       "        vertical-align: middle;\n",
       "    }\n",
       "\n",
       "    .dataframe tbody tr th {\n",
       "        vertical-align: top;\n",
       "    }\n",
       "\n",
       "    .dataframe thead th {\n",
       "        text-align: right;\n",
       "    }\n",
       "</style>\n",
       "<table border=\"1\" class=\"dataframe\">\n",
       "  <thead>\n",
       "    <tr style=\"text-align: right;\">\n",
       "      <th></th>\n",
       "      <th>0</th>\n",
       "      <th>1</th>\n",
       "      <th>2</th>\n",
       "    </tr>\n",
       "  </thead>\n",
       "  <tbody>\n",
       "    <tr>\n",
       "      <th>alcohol</th>\n",
       "      <td>0.213560</td>\n",
       "      <td>0.289406</td>\n",
       "      <td>0.281156</td>\n",
       "    </tr>\n",
       "    <tr>\n",
       "      <th>malic_acid</th>\n",
       "      <td>0.474100</td>\n",
       "      <td>1.031380</td>\n",
       "      <td>1.183539</td>\n",
       "    </tr>\n",
       "    <tr>\n",
       "      <th>ash</th>\n",
       "      <td>0.051604</td>\n",
       "      <td>0.099520</td>\n",
       "      <td>0.034110</td>\n",
       "    </tr>\n",
       "    <tr>\n",
       "      <th>alcalinity_of_ash</th>\n",
       "      <td>6.483758</td>\n",
       "      <td>11.220962</td>\n",
       "      <td>5.099291</td>\n",
       "    </tr>\n",
       "    <tr>\n",
       "      <th>magnesium</th>\n",
       "      <td>110.227937</td>\n",
       "      <td>280.679678</td>\n",
       "      <td>118.602394</td>\n",
       "    </tr>\n",
       "    <tr>\n",
       "      <th>total_phenols</th>\n",
       "      <td>0.114895</td>\n",
       "      <td>0.297419</td>\n",
       "      <td>0.127428</td>\n",
       "    </tr>\n",
       "    <tr>\n",
       "      <th>flavanoids</th>\n",
       "      <td>0.158001</td>\n",
       "      <td>0.498014</td>\n",
       "      <td>0.086145</td>\n",
       "    </tr>\n",
       "    <tr>\n",
       "      <th>nonflavanoid_phenols</th>\n",
       "      <td>0.004907</td>\n",
       "      <td>0.015366</td>\n",
       "      <td>0.015411</td>\n",
       "    </tr>\n",
       "    <tr>\n",
       "      <th>proanthocyanins</th>\n",
       "      <td>0.169834</td>\n",
       "      <td>0.362486</td>\n",
       "      <td>0.167147</td>\n",
       "    </tr>\n",
       "    <tr>\n",
       "      <th>color_intensity</th>\n",
       "      <td>1.534063</td>\n",
       "      <td>0.855494</td>\n",
       "      <td>5.340454</td>\n",
       "    </tr>\n",
       "    <tr>\n",
       "      <th>hue</th>\n",
       "      <td>0.013568</td>\n",
       "      <td>0.041183</td>\n",
       "      <td>0.013097</td>\n",
       "    </tr>\n",
       "    <tr>\n",
       "      <th>od280/od315_of_diluted_wines</th>\n",
       "      <td>0.127504</td>\n",
       "      <td>0.246585</td>\n",
       "      <td>0.074045</td>\n",
       "    </tr>\n",
       "    <tr>\n",
       "      <th>proline</th>\n",
       "      <td>49071.450029</td>\n",
       "      <td>24715.367807</td>\n",
       "      <td>13247.329344</td>\n",
       "    </tr>\n",
       "    <tr>\n",
       "      <th>class</th>\n",
       "      <td>0.000000</td>\n",
       "      <td>0.000000</td>\n",
       "      <td>0.000000</td>\n",
       "    </tr>\n",
       "  </tbody>\n",
       "</table>\n",
       "</div>"
      ],
      "text/plain": [
       "                                         0             1             2\n",
       "alcohol                           0.213560      0.289406      0.281156\n",
       "malic_acid                        0.474100      1.031380      1.183539\n",
       "ash                               0.051604      0.099520      0.034110\n",
       "alcalinity_of_ash                 6.483758     11.220962      5.099291\n",
       "magnesium                       110.227937    280.679678    118.602394\n",
       "total_phenols                     0.114895      0.297419      0.127428\n",
       "flavanoids                        0.158001      0.498014      0.086145\n",
       "nonflavanoid_phenols              0.004907      0.015366      0.015411\n",
       "proanthocyanins                   0.169834      0.362486      0.167147\n",
       "color_intensity                   1.534063      0.855494      5.340454\n",
       "hue                               0.013568      0.041183      0.013097\n",
       "od280/od315_of_diluted_wines      0.127504      0.246585      0.074045\n",
       "proline                       49071.450029  24715.367807  13247.329344\n",
       "class                             0.000000      0.000000      0.000000"
      ]
     },
     "execution_count": 17,
     "metadata": {},
     "output_type": "execute_result"
    }
   ],
   "source": [
    "class_feature_means = pd.DataFrame(columns=list(set(df['class'])))\n",
    "for c, rows in df.groupby('class'):\n",
    "    class_feature_means[c] = rows.var()\n",
    "class_feature_means"
   ]
  },
  {
   "cell_type": "code",
   "execution_count": 26,
   "metadata": {
    "scrolled": true
   },
   "outputs": [
    {
     "data": {
      "text/html": [
       "<div>\n",
       "<style scoped>\n",
       "    .dataframe tbody tr th:only-of-type {\n",
       "        vertical-align: middle;\n",
       "    }\n",
       "\n",
       "    .dataframe tbody tr th {\n",
       "        vertical-align: top;\n",
       "    }\n",
       "\n",
       "    .dataframe thead th {\n",
       "        text-align: right;\n",
       "    }\n",
       "</style>\n",
       "<table border=\"1\" class=\"dataframe\">\n",
       "  <thead>\n",
       "    <tr style=\"text-align: right;\">\n",
       "      <th></th>\n",
       "      <th>alcohol</th>\n",
       "      <th>malic_acid</th>\n",
       "      <th>ash</th>\n",
       "      <th>alcalinity_of_ash</th>\n",
       "      <th>magnesium</th>\n",
       "      <th>total_phenols</th>\n",
       "      <th>flavanoids</th>\n",
       "      <th>nonflavanoid_phenols</th>\n",
       "      <th>proanthocyanins</th>\n",
       "      <th>color_intensity</th>\n",
       "      <th>hue</th>\n",
       "      <th>od280/od315_of_diluted_wines</th>\n",
       "      <th>proline</th>\n",
       "    </tr>\n",
       "  </thead>\n",
       "  <tbody>\n",
       "    <tr>\n",
       "      <th>0</th>\n",
       "      <td>14.23</td>\n",
       "      <td>1.71</td>\n",
       "      <td>2.43</td>\n",
       "      <td>15.6</td>\n",
       "      <td>127.0</td>\n",
       "      <td>2.80</td>\n",
       "      <td>3.06</td>\n",
       "      <td>0.28</td>\n",
       "      <td>2.29</td>\n",
       "      <td>5.64</td>\n",
       "      <td>1.04</td>\n",
       "      <td>3.92</td>\n",
       "      <td>1065.0</td>\n",
       "    </tr>\n",
       "    <tr>\n",
       "      <th>1</th>\n",
       "      <td>13.20</td>\n",
       "      <td>1.78</td>\n",
       "      <td>2.14</td>\n",
       "      <td>11.2</td>\n",
       "      <td>100.0</td>\n",
       "      <td>2.65</td>\n",
       "      <td>2.76</td>\n",
       "      <td>0.26</td>\n",
       "      <td>1.28</td>\n",
       "      <td>4.38</td>\n",
       "      <td>1.05</td>\n",
       "      <td>3.40</td>\n",
       "      <td>1050.0</td>\n",
       "    </tr>\n",
       "    <tr>\n",
       "      <th>2</th>\n",
       "      <td>13.16</td>\n",
       "      <td>2.36</td>\n",
       "      <td>2.67</td>\n",
       "      <td>18.6</td>\n",
       "      <td>101.0</td>\n",
       "      <td>2.80</td>\n",
       "      <td>3.24</td>\n",
       "      <td>0.30</td>\n",
       "      <td>2.81</td>\n",
       "      <td>5.68</td>\n",
       "      <td>1.03</td>\n",
       "      <td>3.17</td>\n",
       "      <td>1185.0</td>\n",
       "    </tr>\n",
       "    <tr>\n",
       "      <th>3</th>\n",
       "      <td>14.37</td>\n",
       "      <td>1.95</td>\n",
       "      <td>2.50</td>\n",
       "      <td>16.8</td>\n",
       "      <td>113.0</td>\n",
       "      <td>3.85</td>\n",
       "      <td>3.49</td>\n",
       "      <td>0.24</td>\n",
       "      <td>2.18</td>\n",
       "      <td>7.80</td>\n",
       "      <td>0.86</td>\n",
       "      <td>3.45</td>\n",
       "      <td>1480.0</td>\n",
       "    </tr>\n",
       "    <tr>\n",
       "      <th>4</th>\n",
       "      <td>13.24</td>\n",
       "      <td>2.59</td>\n",
       "      <td>2.87</td>\n",
       "      <td>21.0</td>\n",
       "      <td>118.0</td>\n",
       "      <td>2.80</td>\n",
       "      <td>2.69</td>\n",
       "      <td>0.39</td>\n",
       "      <td>1.82</td>\n",
       "      <td>4.32</td>\n",
       "      <td>1.04</td>\n",
       "      <td>2.93</td>\n",
       "      <td>735.0</td>\n",
       "    </tr>\n",
       "    <tr>\n",
       "      <th>...</th>\n",
       "      <td>...</td>\n",
       "      <td>...</td>\n",
       "      <td>...</td>\n",
       "      <td>...</td>\n",
       "      <td>...</td>\n",
       "      <td>...</td>\n",
       "      <td>...</td>\n",
       "      <td>...</td>\n",
       "      <td>...</td>\n",
       "      <td>...</td>\n",
       "      <td>...</td>\n",
       "      <td>...</td>\n",
       "      <td>...</td>\n",
       "    </tr>\n",
       "    <tr>\n",
       "      <th>173</th>\n",
       "      <td>13.71</td>\n",
       "      <td>5.65</td>\n",
       "      <td>2.45</td>\n",
       "      <td>20.5</td>\n",
       "      <td>95.0</td>\n",
       "      <td>1.68</td>\n",
       "      <td>0.61</td>\n",
       "      <td>0.52</td>\n",
       "      <td>1.06</td>\n",
       "      <td>7.70</td>\n",
       "      <td>0.64</td>\n",
       "      <td>1.74</td>\n",
       "      <td>740.0</td>\n",
       "    </tr>\n",
       "    <tr>\n",
       "      <th>174</th>\n",
       "      <td>13.40</td>\n",
       "      <td>3.91</td>\n",
       "      <td>2.48</td>\n",
       "      <td>23.0</td>\n",
       "      <td>102.0</td>\n",
       "      <td>1.80</td>\n",
       "      <td>0.75</td>\n",
       "      <td>0.43</td>\n",
       "      <td>1.41</td>\n",
       "      <td>7.30</td>\n",
       "      <td>0.70</td>\n",
       "      <td>1.56</td>\n",
       "      <td>750.0</td>\n",
       "    </tr>\n",
       "    <tr>\n",
       "      <th>175</th>\n",
       "      <td>13.27</td>\n",
       "      <td>4.28</td>\n",
       "      <td>2.26</td>\n",
       "      <td>20.0</td>\n",
       "      <td>120.0</td>\n",
       "      <td>1.59</td>\n",
       "      <td>0.69</td>\n",
       "      <td>0.43</td>\n",
       "      <td>1.35</td>\n",
       "      <td>10.20</td>\n",
       "      <td>0.59</td>\n",
       "      <td>1.56</td>\n",
       "      <td>835.0</td>\n",
       "    </tr>\n",
       "    <tr>\n",
       "      <th>176</th>\n",
       "      <td>13.17</td>\n",
       "      <td>2.59</td>\n",
       "      <td>2.37</td>\n",
       "      <td>20.0</td>\n",
       "      <td>120.0</td>\n",
       "      <td>1.65</td>\n",
       "      <td>0.68</td>\n",
       "      <td>0.53</td>\n",
       "      <td>1.46</td>\n",
       "      <td>9.30</td>\n",
       "      <td>0.60</td>\n",
       "      <td>1.62</td>\n",
       "      <td>840.0</td>\n",
       "    </tr>\n",
       "    <tr>\n",
       "      <th>177</th>\n",
       "      <td>14.13</td>\n",
       "      <td>4.10</td>\n",
       "      <td>2.74</td>\n",
       "      <td>24.5</td>\n",
       "      <td>96.0</td>\n",
       "      <td>2.05</td>\n",
       "      <td>0.76</td>\n",
       "      <td>0.56</td>\n",
       "      <td>1.35</td>\n",
       "      <td>9.20</td>\n",
       "      <td>0.61</td>\n",
       "      <td>1.60</td>\n",
       "      <td>560.0</td>\n",
       "    </tr>\n",
       "  </tbody>\n",
       "</table>\n",
       "<p>178 rows × 13 columns</p>\n",
       "</div>"
      ],
      "text/plain": [
       "     alcohol  malic_acid   ash  alcalinity_of_ash  magnesium  total_phenols  \\\n",
       "0      14.23        1.71  2.43               15.6      127.0           2.80   \n",
       "1      13.20        1.78  2.14               11.2      100.0           2.65   \n",
       "2      13.16        2.36  2.67               18.6      101.0           2.80   \n",
       "3      14.37        1.95  2.50               16.8      113.0           3.85   \n",
       "4      13.24        2.59  2.87               21.0      118.0           2.80   \n",
       "..       ...         ...   ...                ...        ...            ...   \n",
       "173    13.71        5.65  2.45               20.5       95.0           1.68   \n",
       "174    13.40        3.91  2.48               23.0      102.0           1.80   \n",
       "175    13.27        4.28  2.26               20.0      120.0           1.59   \n",
       "176    13.17        2.59  2.37               20.0      120.0           1.65   \n",
       "177    14.13        4.10  2.74               24.5       96.0           2.05   \n",
       "\n",
       "     flavanoids  nonflavanoid_phenols  proanthocyanins  color_intensity   hue  \\\n",
       "0          3.06                  0.28             2.29             5.64  1.04   \n",
       "1          2.76                  0.26             1.28             4.38  1.05   \n",
       "2          3.24                  0.30             2.81             5.68  1.03   \n",
       "3          3.49                  0.24             2.18             7.80  0.86   \n",
       "4          2.69                  0.39             1.82             4.32  1.04   \n",
       "..          ...                   ...              ...              ...   ...   \n",
       "173        0.61                  0.52             1.06             7.70  0.64   \n",
       "174        0.75                  0.43             1.41             7.30  0.70   \n",
       "175        0.69                  0.43             1.35            10.20  0.59   \n",
       "176        0.68                  0.53             1.46             9.30  0.60   \n",
       "177        0.76                  0.56             1.35             9.20  0.61   \n",
       "\n",
       "     od280/od315_of_diluted_wines  proline  \n",
       "0                            3.92   1065.0  \n",
       "1                            3.40   1050.0  \n",
       "2                            3.17   1185.0  \n",
       "3                            3.45   1480.0  \n",
       "4                            2.93    735.0  \n",
       "..                            ...      ...  \n",
       "173                          1.74    740.0  \n",
       "174                          1.56    750.0  \n",
       "175                          1.56    835.0  \n",
       "176                          1.62    840.0  \n",
       "177                          1.60    560.0  \n",
       "\n",
       "[178 rows x 13 columns]"
      ]
     },
     "execution_count": 26,
     "metadata": {},
     "output_type": "execute_result"
    }
   ],
   "source": [
    "X"
   ]
  },
  {
   "cell_type": "code",
   "execution_count": 27,
   "metadata": {},
   "outputs": [
    {
     "data": {
      "text/plain": [
       "<matplotlib.axes._subplots.AxesSubplot at 0x17a1e6a8278>"
      ]
     },
     "execution_count": 27,
     "metadata": {},
     "output_type": "execute_result"
    },
    {
     "data": {
      "image/png": "[encoded data removed]",
      "text/plain": [
       "<Figure size 720x576 with 2 Axes>"
      ]
     },
     "metadata": {},
     "output_type": "display_data"
    }
   ],
   "source": [
    "import seaborn as sns\n",
    "\n",
    "f, ax = plt.subplots(figsize=(10, 8))\n",
    "corr = X.corr()\n",
    "sns.heatmap(corr, mask=np.zeros_like(corr, dtype=np.bool), cmap=sns.diverging_palette(220, 10, as_cmap=True),\n",
    "            square=True, ax=ax)"
   ]
  },
  {
   "cell_type": "code",
   "execution_count": 46,
   "metadata": {},
   "outputs": [],
   "source": [
    "# 전체 data를 training set과 test set으로 split\n",
    "from sklearn.model_selection import train_test_split\n",
    "\n",
    "X_train,X_test,y_train,y_test = train_test_split(X, y, test_size=0.3, random_state=1, stratify=y)"
   ]
  },
  {
   "cell_type": "code",
   "execution_count": 47,
   "metadata": {},
   "outputs": [
    {
     "name": "stdout",
     "output_type": "stream",
     "text": [
      "(124, 13)\n",
      "(54, 13)\n",
      "(124,)\n",
      "(54,)\n"
     ]
    }
   ],
   "source": [
    "print(X_train.shape)\n",
    "print(X_test.shape)\n",
    "print(y_train.shape)\n",
    "print(y_test.shape)"
   ]
  },
  {
   "cell_type": "markdown",
   "metadata": {},
   "source": [
    "### Linear Discriminant Analysis"
   ]
  },
  {
   "cell_type": "code",
   "execution_count": 48,
   "metadata": {},
   "outputs": [
    {
     "name": "stdout",
     "output_type": "stream",
     "text": [
      "1.0\n",
      "0.9814814814814815\n"
     ]
    }
   ],
   "source": [
    "# Iris data에 대한 LDA 적합\n",
    "from sklearn.discriminant_analysis import LinearDiscriminantAnalysis\n",
    "from sklearn.metrics import accuracy_score\n",
    "\n",
    "# Train LDA\n",
    "lda_model=LinearDiscriminantAnalysis(store_covariance=True)\n",
    "lda_model.fit(X_train, y_train) # LDA 적합\n",
    "\n",
    "# Predict\n",
    "y_train_pred=lda_model.predict(X_train)\n",
    "y_test_pred=lda_model.predict(X_test)\n",
    "print(accuracy_score(y_train, y_train_pred))\n",
    "print(accuracy_score(y_test, y_test_pred))"
   ]
  },
  {
   "cell_type": "code",
   "execution_count": 49,
   "metadata": {
    "scrolled": true
   },
   "outputs": [
    {
     "name": "stdout",
     "output_type": "stream",
     "text": [
      "[[18  0  0]\n",
      " [ 0 20  1]\n",
      " [ 0  0 15]]\n"
     ]
    }
   ],
   "source": [
    "# 분류 결과\n",
    "from sklearn.metrics import confusion_matrix\n",
    "print(confusion_matrix(y_test, y_test_pred))  # 각 행은 setosa, versicolor, virginica"
   ]
  },
  {
   "cell_type": "code",
   "execution_count": 50,
   "metadata": {
    "scrolled": true
   },
   "outputs": [
    {
     "data": {
      "text/plain": [
       "array([[4.82027630e-11, 9.53699966e-06, 9.99990463e-01],\n",
       "       [4.16120014e-19, 1.20023483e-09, 9.99999999e-01],\n",
       "       [4.13851085e-15, 2.75591141e-12, 1.00000000e+00],\n",
       "       [7.51250315e-05, 9.99924835e-01, 3.97700359e-08],\n",
       "       [5.24688464e-07, 9.99999475e-01, 9.27968095e-16],\n",
       "       [9.99999998e-01, 1.74318959e-09, 1.39954629e-15],\n",
       "       [5.90573057e-06, 9.99994094e-01, 1.08785964e-12],\n",
       "       [9.99623385e-01, 3.76614609e-04, 5.81972929e-10],\n",
       "       [1.01441762e-06, 9.99998985e-01, 3.75285090e-10],\n",
       "       [3.25174638e-13, 4.55685608e-06, 9.99995443e-01],\n",
       "       [2.04024657e-18, 5.53322184e-09, 9.99999994e-01],\n",
       "       [1.00000000e+00, 1.19409600e-10, 2.11019239e-19],\n",
       "       [2.71821361e-04, 9.99725145e-01, 3.03353145e-06],\n",
       "       [9.99999997e-01, 2.99683870e-09, 6.86711720e-14],\n",
       "       [1.28687075e-10, 2.09132713e-04, 9.99790867e-01],\n",
       "       [2.49553743e-08, 9.99999971e-01, 3.95543451e-09],\n",
       "       [9.99997331e-01, 2.66878279e-06, 9.95047383e-16],\n",
       "       [9.40514712e-01, 5.94852742e-02, 1.35258129e-08],\n",
       "       [1.00000000e+00, 2.07066339e-11, 9.39089259e-17],\n",
       "       [1.65069068e-16, 1.08144052e-10, 1.00000000e+00],\n",
       "       [9.99999758e-01, 2.41630110e-07, 5.68119450e-13],\n",
       "       [8.73938377e-10, 9.99998002e-01, 1.99695029e-06],\n",
       "       [1.29166292e-05, 9.99987001e-01, 8.20504225e-08],\n",
       "       [1.00000000e+00, 2.13662524e-12, 8.16458120e-19],\n",
       "       [2.60470439e-02, 9.72135677e-01, 1.81727946e-03],\n",
       "       [2.21785455e-19, 1.01488600e-10, 1.00000000e+00],\n",
       "       [2.57399423e-11, 7.26386179e-05, 9.99927361e-01],\n",
       "       [7.81346422e-08, 9.99999922e-01, 2.82842142e-12],\n",
       "       [2.83590537e-04, 9.99716409e-01, 6.48099408e-14],\n",
       "       [1.04981481e-03, 9.98950185e-01, 5.03319257e-14],\n",
       "       [7.37071158e-20, 7.07643707e-15, 1.00000000e+00],\n",
       "       [4.97277772e-05, 9.99950272e-01, 9.65812905e-11],\n",
       "       [9.99999991e-01, 9.43424596e-09, 5.36558867e-15],\n",
       "       [2.10741482e-03, 9.97892506e-01, 7.94663573e-08],\n",
       "       [1.83752633e-07, 3.12286099e-01, 6.87713717e-01],\n",
       "       [1.80501712e-02, 9.81949829e-01, 4.85925204e-11],\n",
       "       [5.50286678e-17, 7.63559654e-11, 1.00000000e+00],\n",
       "       [9.52309956e-07, 9.99999048e-01, 4.05015081e-13],\n",
       "       [1.95870186e-08, 9.99999971e-01, 9.37393246e-09],\n",
       "       [2.70427187e-09, 5.95143840e-05, 9.99940483e-01],\n",
       "       [9.99999888e-01, 1.11702498e-07, 1.08619680e-14],\n",
       "       [8.81908634e-15, 5.26485550e-06, 9.99994735e-01],\n",
       "       [9.99999973e-01, 2.71592691e-08, 1.67373399e-18],\n",
       "       [9.99999996e-01, 4.25319621e-09, 1.09089874e-15],\n",
       "       [8.49596944e-01, 1.50402808e-01, 2.47386162e-07],\n",
       "       [1.66317188e-02, 9.83368281e-01, 1.49226106e-10],\n",
       "       [1.00000000e+00, 1.24258891e-12, 1.21659125e-18],\n",
       "       [8.61934911e-14, 3.65446318e-05, 9.99963455e-01],\n",
       "       [3.12042828e-04, 9.99687956e-01, 9.69212176e-10],\n",
       "       [9.99999998e-01, 1.91118012e-09, 2.94539198e-17],\n",
       "       [2.87517953e-10, 9.99999998e-01, 1.46389350e-09],\n",
       "       [9.99999971e-01, 2.88941903e-08, 1.53083869e-11],\n",
       "       [9.99999997e-01, 3.14213603e-09, 1.74187119e-13],\n",
       "       [1.01147606e-09, 1.24510449e-05, 9.99987548e-01]])"
      ]
     },
     "execution_count": 50,
     "metadata": {},
     "output_type": "execute_result"
    }
   ],
   "source": [
    "lda_model.predict_proba(X_test)"
   ]
  },
  {
   "cell_type": "markdown",
   "metadata": {},
   "source": [
    "### Quadratic Discriminant Analysis"
   ]
  },
  {
   "cell_type": "code",
   "execution_count": 51,
   "metadata": {},
   "outputs": [
    {
     "name": "stdout",
     "output_type": "stream",
     "text": [
      "1.0\n",
      "0.9629629629629629\n"
     ]
    }
   ],
   "source": [
    "from sklearn.discriminant_analysis import QuadraticDiscriminantAnalysis\n",
    "from sklearn.metrics import accuracy_score\n",
    "\n",
    "# Train QDA\n",
    "qda_model=QuadraticDiscriminantAnalysis(store_covariance=True)\n",
    "qda_model.fit(X_train, y_train) # QDA 적합\n",
    "\n",
    "# predict\n",
    "y_train_pred=qda_model.predict(X_train)\n",
    "y_test_pred=qda_model.predict(X_test)\n",
    "print(accuracy_score(y_train, y_train_pred))\n",
    "print(accuracy_score(y_test, y_test_pred))"
   ]
  },
  {
   "cell_type": "code",
   "execution_count": 52,
   "metadata": {
    "scrolled": true
   },
   "outputs": [
    {
     "name": "stdout",
     "output_type": "stream",
     "text": [
      "[[18  0  0]\n",
      " [ 1 20  0]\n",
      " [ 0  1 14]]\n"
     ]
    }
   ],
   "source": [
    "# 분류 결과\n",
    "from sklearn.metrics import confusion_matrix\n",
    "print(confusion_matrix(y_test, y_test_pred))  # 각 행은 setosa, versicolor, virginica"
   ]
  },
  {
   "cell_type": "code",
   "execution_count": 53,
   "metadata": {
    "scrolled": true
   },
   "outputs": [
    {
     "data": {
      "text/plain": [
       "array([[1.07823805e-035, 2.60981206e-008, 9.99999974e-001],\n",
       "       [1.10584322e-039, 3.49056549e-024, 1.00000000e+000],\n",
       "       [1.58369913e-088, 7.55372036e-040, 1.00000000e+000],\n",
       "       [4.83304700e-003, 9.95166953e-001, 3.33058238e-061],\n",
       "       [2.12394858e-014, 1.00000000e+000, 7.23161042e-114],\n",
       "       [1.00000000e+000, 1.22762207e-016, 6.65135948e-146],\n",
       "       [7.79670427e-008, 9.99999922e-001, 1.18680683e-056],\n",
       "       [9.99999932e-001, 6.77887539e-008, 1.12372096e-071],\n",
       "       [4.37021613e-010, 1.00000000e+000, 3.96842378e-056],\n",
       "       [1.32680549e-032, 9.06254669e-001, 9.37453308e-002],\n",
       "       [8.97018071e-057, 3.46593288e-022, 1.00000000e+000],\n",
       "       [1.00000000e+000, 9.28366743e-016, 1.13459289e-128],\n",
       "       [8.62682579e-017, 1.00000000e+000, 1.57953939e-038],\n",
       "       [1.00000000e+000, 1.29184368e-014, 7.43510783e-116],\n",
       "       [7.57760890e-028, 8.56423422e-009, 9.99999991e-001],\n",
       "       [1.68672641e-007, 9.99999831e-001, 4.26026248e-041],\n",
       "       [1.00000000e+000, 2.35217209e-010, 2.63523215e-109],\n",
       "       [9.66499554e-001, 3.35004463e-002, 2.47160112e-093],\n",
       "       [1.00000000e+000, 1.83508391e-016, 1.80293349e-098],\n",
       "       [1.69017748e-080, 3.03904958e-033, 1.00000000e+000],\n",
       "       [1.00000000e+000, 4.50098900e-014, 4.28910260e-091],\n",
       "       [4.55704561e-010, 1.00000000e+000, 2.73879105e-028],\n",
       "       [3.36583582e-008, 9.99999966e-001, 1.60888987e-076],\n",
       "       [1.00000000e+000, 1.63686381e-027, 1.33141205e-156],\n",
       "       [8.14897993e-010, 9.99999890e-001, 1.09197721e-007],\n",
       "       [1.69992665e-090, 1.29057390e-039, 1.00000000e+000],\n",
       "       [2.11702863e-033, 2.55086940e-011, 1.00000000e+000],\n",
       "       [3.67427117e-007, 9.99999633e-001, 4.25040886e-078],\n",
       "       [2.26975954e-011, 1.00000000e+000, 1.48806397e-119],\n",
       "       [9.33914065e-007, 9.99999066e-001, 5.18075842e-109],\n",
       "       [1.19345476e-104, 1.32335192e-099, 1.00000000e+000],\n",
       "       [5.80703123e-006, 9.99994193e-001, 7.49579085e-043],\n",
       "       [1.00000000e+000, 1.32759978e-014, 4.39783732e-092],\n",
       "       [8.30915390e-014, 1.00000000e+000, 1.75897828e-031],\n",
       "       [1.01205011e-004, 9.99898795e-001, 7.46434660e-011],\n",
       "       [8.63288055e-001, 1.36711945e-001, 8.70091113e-077],\n",
       "       [7.77919408e-066, 2.69284335e-029, 1.00000000e+000],\n",
       "       [3.54631579e-012, 1.00000000e+000, 1.25868754e-060],\n",
       "       [8.36718858e-010, 9.99999999e-001, 3.86061574e-037],\n",
       "       [2.88826734e-029, 1.63338570e-006, 9.99998367e-001],\n",
       "       [1.00000000e+000, 7.86340075e-015, 1.11931242e-117],\n",
       "       [3.41235903e-051, 3.49051051e-020, 1.00000000e+000],\n",
       "       [1.00000000e+000, 5.66959225e-015, 5.88621587e-106],\n",
       "       [1.00000000e+000, 9.87369010e-019, 6.52987150e-123],\n",
       "       [9.93899418e-001, 6.10058226e-003, 1.46817691e-066],\n",
       "       [6.78915729e-030, 1.00000000e+000, 2.14331883e-061],\n",
       "       [1.00000000e+000, 2.19659268e-020, 3.08409024e-119],\n",
       "       [2.72286739e-033, 7.13774740e-011, 1.00000000e+000],\n",
       "       [9.74548362e-015, 1.00000000e+000, 2.20154894e-040],\n",
       "       [1.00000000e+000, 5.66899748e-017, 3.23963735e-107],\n",
       "       [6.54704799e-009, 9.99999993e-001, 2.11710126e-034],\n",
       "       [1.00000000e+000, 1.89465906e-011, 1.08447679e-086],\n",
       "       [1.00000000e+000, 7.89656770e-015, 2.22817359e-111],\n",
       "       [1.01139951e-031, 1.30393905e-007, 9.99999870e-001]])"
      ]
     },
     "execution_count": 53,
     "metadata": {},
     "output_type": "execute_result"
    }
   ],
   "source": [
    "qda_model.predict_proba(X_test)"
   ]
  },
  {
   "cell_type": "markdown",
   "metadata": {},
   "source": [
    "### Naive Bayes"
   ]
  },
  {
   "cell_type": "code",
   "execution_count": 54,
   "metadata": {},
   "outputs": [
    {
     "name": "stdout",
     "output_type": "stream",
     "text": [
      "0.9919354838709677\n",
      "0.9814814814814815\n"
     ]
    }
   ],
   "source": [
    "from sklearn.naive_bayes import GaussianNB\n",
    "from sklearn.metrics import accuracy_score\n",
    "\n",
    "# Train Model\n",
    "gnb_model = GaussianNB()\n",
    "gnb_model.fit(X_train, y_train)\n",
    "\n",
    "# predict\n",
    "y_train_pred=gnb_model.predict(X_train)\n",
    "y_test_pred=gnb_model.predict(X_test)\n",
    "print(accuracy_score(y_train, y_train_pred))\n",
    "print(accuracy_score(y_test, y_test_pred))"
   ]
  },
  {
   "cell_type": "code",
   "execution_count": 55,
   "metadata": {
    "scrolled": false
   },
   "outputs": [
    {
     "name": "stdout",
     "output_type": "stream",
     "text": [
      "[[17  1  0]\n",
      " [ 0 21  0]\n",
      " [ 0  0 15]]\n"
     ]
    }
   ],
   "source": [
    "# 분류 결과\n",
    "from sklearn.metrics import confusion_matrix\n",
    "print(confusion_matrix(y_test, y_test_pred))  # 각 행은 setosa, versicolor, virginica"
   ]
  },
  {
   "cell_type": "markdown",
   "metadata": {},
   "source": [
    "### Compare"
   ]
  },
  {
   "cell_type": "code",
   "execution_count": 56,
   "metadata": {},
   "outputs": [
    {
     "data": {
      "text/plain": [
       "array([[ 2.41615068e-01,  3.84592439e-02, -5.24867188e-03,\n",
       "        -2.30283993e-03, -7.86881482e-02,  1.11713745e-02,\n",
       "         1.33361710e-02, -4.67113583e-04,  1.07053192e-02,\n",
       "         1.77454884e-01,  4.91173257e-04, -1.62968428e-02,\n",
       "         8.54595097e+00],\n",
       "       [ 3.84592439e-02,  8.32381396e-01,  2.83227199e-02,\n",
       "         4.00338741e-01, -5.87202072e-01, -9.42715080e-03,\n",
       "        -9.52135930e-03,  7.35759507e-03,  4.69856098e-02,\n",
       "        -1.45330075e-01, -4.62261537e-02,  5.60318655e-02,\n",
       "        -2.84926307e+01],\n",
       "       [-5.24867188e-03,  2.83227199e-02,  6.80395376e-02,\n",
       "         4.91619869e-01,  5.99821043e-01,  2.86110643e-02,\n",
       "         5.76375339e-02,  7.22680996e-03,  4.46800139e-03,\n",
       "         5.20767053e-02,  3.63662334e-03,  2.06618862e-02,\n",
       "        -5.77687326e-02],\n",
       "       [-2.30283993e-03,  4.00338741e-01,  4.91619869e-01,\n",
       "         8.43814527e+00,  4.38952042e+00,  1.97406921e-01,\n",
       "         4.41501428e-01,  4.11469745e-02,  1.66482453e-01,\n",
       "         5.67441496e-02,  9.41799084e-04,  3.51744582e-01,\n",
       "         4.43128671e+00],\n",
       "       [-7.86881482e-02, -5.87202072e-01,  5.99821043e-01,\n",
       "         4.38952042e+00,  1.48134957e+02,  8.43279534e-01,\n",
       "         1.38061621e+00, -3.28155413e-01,  5.56857342e-01,\n",
       "         3.61988954e+00,  1.89694578e-01,  9.87314927e-03,\n",
       "         3.46630273e+02],\n",
       "       [ 1.11713745e-02, -9.42715080e-03,  2.86110643e-02,\n",
       "         1.97406921e-01,  8.43279534e-01,  1.86017812e-01,\n",
       "         1.59137286e-01, -7.54268984e-03,  8.76585132e-02,\n",
       "         1.57237918e-01,  3.01625786e-03,  6.87287078e-02,\n",
       "         8.58775339e+00],\n",
       "       [ 1.33361710e-02, -9.52135930e-03,  5.76375339e-02,\n",
       "         4.41501428e-01,  1.38061621e+00,  1.59137286e-01,\n",
       "         2.85851003e-01, -1.42042366e-02,  1.24633279e-01,\n",
       "         3.07526201e-01, -4.07281848e-03,  7.69702126e-02,\n",
       "         6.35732567e+00],\n",
       "       [-4.67113583e-04,  7.35759507e-03,  7.22680996e-03,\n",
       "         4.11469745e-02, -3.28155413e-01, -7.54268984e-03,\n",
       "        -1.42042366e-02,  1.25695933e-02, -9.75257135e-03,\n",
       "         2.78652981e-03,  9.21402904e-04, -1.28671025e-02,\n",
       "         3.05100923e-01],\n",
       "       [ 1.07053192e-02,  4.69856098e-02,  4.46800139e-03,\n",
       "         1.66482453e-01,  5.56857342e-01,  8.76585132e-02,\n",
       "         1.24633279e-01, -9.75257135e-03,  2.19942385e-01,\n",
       "         2.02321870e-01, -7.37348548e-03,  5.10961811e-02,\n",
       "         1.14237062e+01],\n",
       "       [ 1.77454884e-01, -1.45330075e-01,  5.20767053e-02,\n",
       "         5.67441496e-02,  3.61988954e+00,  1.57237918e-01,\n",
       "         3.07526201e-01,  2.78652981e-03,  2.02321870e-01,\n",
       "         2.19148052e+00, -3.74886460e-02, -1.11019913e-01,\n",
       "         7.34130119e+01],\n",
       "       [ 4.91173257e-04, -4.62261537e-02,  3.63662334e-03,\n",
       "         9.41799084e-04,  1.89694578e-01,  3.01625786e-03,\n",
       "        -4.07281848e-03,  9.21402904e-04, -7.37348548e-03,\n",
       "        -3.74886460e-02,  2.56624608e-02, -3.25483251e-03,\n",
       "         3.92341042e+00],\n",
       "       [-1.62968428e-02,  5.60318655e-02,  2.06618862e-02,\n",
       "         3.51744582e-01,  9.87314927e-03,  6.87287078e-02,\n",
       "         7.69702126e-02, -1.28671025e-02,  5.10961811e-02,\n",
       "        -1.11019913e-01, -3.25483251e-03,  1.68851503e-01,\n",
       "        -9.00799874e+00],\n",
       "       [ 8.54595097e+00, -2.84926307e+01, -5.77687326e-02,\n",
       "         4.43128671e+00,  3.46630273e+02,  8.58775339e+00,\n",
       "         6.35732567e+00,  3.05100923e-01,  1.14237062e+01,\n",
       "         7.34130119e+01,  3.92341042e+00, -9.00799874e+00,\n",
       "         2.91865283e+04]])"
      ]
     },
     "execution_count": 56,
     "metadata": {},
     "output_type": "execute_result"
    }
   ],
   "source": [
    "lda_model.covariance_"
   ]
  },
  {
   "cell_type": "code",
   "execution_count": 57,
   "metadata": {
    "scrolled": false
   },
   "outputs": [
    {
     "data": {
      "text/plain": [
       "[array([[ 1.88392805e-01,  6.34225610e-03, -4.89091463e-03,\n",
       "         -3.39720122e-01,  6.89012195e-01,  8.64857927e-02,\n",
       "          1.01840976e-01,  3.54390244e-03,  7.13220122e-02,\n",
       "          2.42672500e-01,  9.28067073e-03, -1.68353659e-04,\n",
       "          3.81782439e+01],\n",
       "        [ 6.34225610e-03,  4.38907195e-01,  4.16073171e-03,\n",
       "         -1.00268902e-01,  6.11140244e-01, -1.74046341e-02,\n",
       "         -3.93262805e-02, -1.19451220e-02,  6.80189024e-03,\n",
       "         -1.98287500e-01, -2.79760366e-02,  5.71951829e-02,\n",
       "         -5.63499451e+01],\n",
       "        [-4.89091463e-03,  4.16073171e-03,  4.81202439e-02,\n",
       "          2.03210366e-01,  7.39213415e-01,  3.69262195e-03,\n",
       "         -5.40042683e-03,  6.14829268e-03, -1.97610366e-02,\n",
       "         -3.14325000e-02,  5.37298780e-03, -2.10493902e-03,\n",
       "         -4.20573171e+00],\n",
       "        [-3.39720122e-01, -1.00268902e-01,  2.03210366e-01,\n",
       "          5.99737805e+00,  3.34969512e+00, -2.46057317e-01,\n",
       "         -3.70624390e-01,  3.18024390e-02, -2.83162805e-01,\n",
       "         -6.45675000e-01,  2.89707317e-02, -5.40786585e-02,\n",
       "         -4.79235976e+01],\n",
       "        [ 6.89012195e-01,  6.11140244e-01,  7.39213415e-01,\n",
       "          3.34969512e+00,  9.46804878e+01,  1.07123171e+00,\n",
       "          3.52439024e-01,  1.62006098e-01, -6.40469512e-01,\n",
       "          3.01025000e+00, -1.47823171e-01, -1.78884146e-01,\n",
       "         -2.40490244e+02],\n",
       "        [ 8.64857927e-02, -1.74046341e-02,  3.69262195e-03,\n",
       "         -2.46057317e-01,  1.07123171e+00,  1.26317561e-01,\n",
       "          1.14111037e-01,  1.71164634e-03,  5.31307317e-02,\n",
       "          3.03757500e-01, -7.75225610e-03,  5.16628049e-03,\n",
       "          3.14183841e+01],\n",
       "        [ 1.01840976e-01, -3.93262805e-02, -5.40042683e-03,\n",
       "         -3.70624390e-01,  3.52439024e-01,  1.14111037e-01,\n",
       "          1.71760122e-01, -4.72012195e-04,  9.30149390e-02,\n",
       "          4.20522500e-01,  2.83414634e-03, -1.78282317e-02,\n",
       "          4.48060305e+01],\n",
       "        [ 3.54390244e-03, -1.19451220e-02,  6.14829268e-03,\n",
       "          3.18024390e-02,  1.62006098e-01,  1.71164634e-03,\n",
       "         -4.72012195e-04,  5.65695122e-03, -5.50274390e-03,\n",
       "         -6.10250000e-03,  4.25408537e-03, -1.03129268e-02,\n",
       "          3.42871951e-01],\n",
       "        [ 7.13220122e-02,  6.80189024e-03, -1.97610366e-02,\n",
       "         -2.83162805e-01, -6.40469512e-01,  5.31307317e-02,\n",
       "          9.30149390e-02, -5.50274390e-03,  1.91423780e-01,\n",
       "          2.70202500e-01,  7.23542683e-03, -8.65713415e-03,\n",
       "          2.24856098e+01],\n",
       "        [ 2.42672500e-01, -1.98287500e-01, -3.14325000e-02,\n",
       "         -6.45675000e-01,  3.01025000e+00,  3.03757500e-01,\n",
       "          4.20522500e-01, -6.10250000e-03,  2.70202500e-01,\n",
       "          1.74409000e+00,  4.25000000e-03, -1.17725000e-01,\n",
       "          1.89969000e+02],\n",
       "        [ 9.28067073e-03, -2.79760366e-02,  5.37298780e-03,\n",
       "          2.89707317e-02, -1.47823171e-01, -7.75225610e-03,\n",
       "          2.83414634e-03,  4.25408537e-03,  7.23542683e-03,\n",
       "          4.25000000e-03,  1.40959756e-02, -1.45373780e-02,\n",
       "          9.64628659e+00],\n",
       "        [-1.68353659e-04,  5.71951829e-02, -2.10493902e-03,\n",
       "         -5.40786585e-02, -1.78884146e-01,  5.16628049e-03,\n",
       "         -1.78282317e-02, -1.03129268e-02, -8.65713415e-03,\n",
       "         -1.17725000e-01, -1.45373780e-02,  1.16329390e-01,\n",
       "         -2.84739329e+01],\n",
       "        [ 3.81782439e+01, -5.63499451e+01, -4.20573171e+00,\n",
       "         -4.79235976e+01, -2.40490244e+02,  3.14183841e+01,\n",
       "          4.48060305e+01,  3.42871951e-01,  2.24856098e+01,\n",
       "          1.89969000e+02,  9.64628659e+00, -2.84739329e+01,\n",
       "          5.21479451e+04]]),\n",
       " array([[ 2.95843633e-01, -2.11131429e-02, -2.24597143e-02,\n",
       "          1.51958776e-01, -2.96653061e-01, -5.02766122e-02,\n",
       "         -4.73382041e-02, -6.85632653e-03, -5.85495918e-02,\n",
       "          1.27127388e-01, -5.80340408e-03, -4.00620000e-02,\n",
       "         -8.41187755e-01],\n",
       "        [-2.11131429e-02,  9.45928000e-01,  6.16711837e-02,\n",
       "          6.81280816e-01, -2.95346939e-01,  2.75663673e-02,\n",
       "          6.44823673e-02,  1.59363265e-02,  1.51686531e-01,\n",
       "         -1.13720327e-01, -9.07388082e-02,  8.74886531e-02,\n",
       "         -1.17058857e+01],\n",
       "        [-2.24597143e-02,  6.16711837e-02,  1.11012286e-01,\n",
       "          8.49419184e-01,  6.07183673e-01,  5.01542449e-02,\n",
       "          1.39623347e-01,  1.40514286e-02,  1.83532653e-02,\n",
       "          7.95870612e-02,  3.64497143e-03,  4.99474694e-02,\n",
       "          4.82982449e+00],\n",
       "        [ 1.51958776e-01,  6.81280816e-01,  8.49419184e-01,\n",
       "          1.27964449e+01,  5.97020408e+00,  5.50237959e-01,\n",
       "          1.34426286e+00,  7.08653061e-02,  5.58197959e-01,\n",
       "          9.75065306e-02, -2.54128163e-02,  9.12428980e-01,\n",
       "          5.52934286e+01],\n",
       "        [-2.96653061e-01, -2.95346939e-01,  6.07183673e-01,\n",
       "          5.97020408e+00,  2.05673469e+02,  1.51424490e+00,\n",
       "          1.77334694e+00, -4.05102041e-01,  1.61877551e+00,\n",
       "          2.71114286e+00,  6.55502041e-01,  7.87265306e-01,\n",
       "          8.29089796e+02],\n",
       "        [-5.02766122e-02,  2.75663673e-02,  5.01542449e-02,\n",
       "          5.50237959e-01,  1.51424490e+00,  3.03385347e-01,\n",
       "          3.04936245e-01, -3.12208163e-02,  1.45587551e-01,\n",
       "          7.25451837e-02,  8.87192653e-03,  1.57480694e-01,\n",
       "         -6.23060000e+00],\n",
       "        [-4.73382041e-02,  6.44823673e-02,  1.39623347e-01,\n",
       "          1.34426286e+00,  1.77334694e+00,  3.04936245e-01,\n",
       "          5.26064653e-01, -1.94277551e-02,  2.18771837e-01,\n",
       "          2.67194939e-01, -6.67022041e-03,  2.33123918e-01,\n",
       "         -1.48054939e+01],\n",
       "        [-6.85632653e-03,  1.59363265e-02,  1.40514286e-02,\n",
       "          7.08653061e-02, -4.05102041e-01, -3.12208163e-02,\n",
       "         -1.94277551e-02,  1.58897959e-02, -2.72204082e-02,\n",
       "          1.28195918e-02, -2.61763265e-03, -2.83253061e-02,\n",
       "         -1.19685714e+00],\n",
       "        [-5.85495918e-02,  1.51686531e-01,  1.83532653e-02,\n",
       "          5.58197959e-01,  1.61877551e+00,  1.45587551e-01,\n",
       "          2.18771837e-01, -2.72204082e-02,  3.19372449e-01,\n",
       "         -5.16095918e-02, -1.39184082e-02,  1.50998571e-01,\n",
       "          5.51014286e+00],\n",
       "        [ 1.27127388e-01, -1.13720327e-01,  7.95870612e-02,\n",
       "          9.75065306e-02,  2.71114286e+00,  7.25451837e-02,\n",
       "          2.67194939e-01,  1.28195918e-02, -5.16095918e-02,\n",
       "          9.10166898e-01, -9.18777959e-03, -1.19170245e-01,\n",
       "          7.18828980e+00],\n",
       "        [-5.80340408e-03, -9.07388082e-02,  3.64497143e-03,\n",
       "         -2.54128163e-02,  6.55502041e-01,  8.87192653e-03,\n",
       "         -6.67022041e-03, -2.61763265e-03, -1.39184082e-02,\n",
       "         -9.18777959e-03,  4.43947445e-02, -2.95945306e-03,\n",
       "          2.11960245e+00],\n",
       "        [-4.00620000e-02,  8.74886531e-02,  4.99474694e-02,\n",
       "          9.12428980e-01,  7.87265306e-01,  1.57480694e-01,\n",
       "          2.33123918e-01, -2.83253061e-02,  1.50998571e-01,\n",
       "         -1.19170245e-01, -2.95945306e-03,  2.87913020e-01,\n",
       "         -4.89105714e+00],\n",
       "        [-8.41187755e-01, -1.17058857e+01,  4.82982449e+00,\n",
       "          5.52934286e+01,  8.29089796e+02, -6.23060000e+00,\n",
       "         -1.48054939e+01, -1.19685714e+00,  5.51014286e+00,\n",
       "          7.18828980e+00,  2.11960245e+00, -4.89105714e+00,\n",
       "          2.13569180e+04]]),\n",
       " array([[ 2.47756818e-01,  1.73431250e-01,  2.01664773e-02,\n",
       "          1.83039773e-01, -7.11931818e-01,  1.21678977e-02,\n",
       "         -3.13693182e-03,  4.25880682e-03,  4.19846591e-02,\n",
       "          1.89633239e-01, -8.11079545e-04, -1.59488636e-03,\n",
       "         -1.33191761e+01],\n",
       "        [ 1.73431250e-01,  1.22839167e+00,  1.01156250e-02,\n",
       "          6.33437500e-01, -2.58708333e+00, -5.69854167e-02,\n",
       "         -8.64760417e-02,  1.90395833e-02, -5.87031250e-02,\n",
       "         -1.41160417e-01, -5.21250000e-03,  1.16625000e-02,\n",
       "         -2.20468750e+01],\n",
       "        [ 2.01664773e-02,  1.01156250e-02,  3.35153409e-02,\n",
       "          3.50340909e-01,  4.70539773e-01,  2.94534091e-02,\n",
       "          1.62977273e-02, -1.19772727e-03,  1.39113636e-02,\n",
       "          1.19220170e-01,  1.79431818e-03,  6.21392045e-03,\n",
       "         -2.36235795e+00],\n",
       "        [ 1.83039773e-01,  6.33437500e-01,  3.50340909e-01,\n",
       "          5.60653409e+00,  3.68039773e+00,  2.29971591e-01,\n",
       "          1.15696023e-01,  1.11789773e-02,  1.44332386e-01,\n",
       "          8.77670455e-01,  6.34943182e-03,  3.34517045e-02,\n",
       "         -7.59232955e+00],\n",
       "        [-7.11931818e-01, -2.58708333e+00,  4.70539773e-01,\n",
       "          3.68039773e+00,  1.40734848e+02, -3.90018939e-01,\n",
       "          2.19390152e+00, -8.53797348e-01,  4.79659091e-01,\n",
       "          6.11282197e+00, -8.38920455e-02, -9.43636364e-01,\n",
       "          3.74261364e+02],\n",
       "        [ 1.21678977e-02, -5.69854167e-02,  2.94534091e-02,\n",
       "          2.29971591e-01, -3.90018939e-01,  9.83632576e-02,\n",
       "          7.08456439e-03,  1.64393939e-02,  5.03323864e-02,\n",
       "          1.18515246e-01,  7.79318182e-03,  1.87235795e-02,\n",
       "          3.54517045e+00],\n",
       "        [-3.13693182e-03, -8.64760417e-02,  1.62977273e-02,\n",
       "          1.15696023e-01,  2.19390152e+00,  7.08456439e-03,\n",
       "          8.74359848e-02, -2.47026515e-02,  3.16909091e-02,\n",
       "          2.56868655e-01, -9.11107955e-03, -3.64261364e-02,\n",
       "         -8.70198864e+00],\n",
       "        [ 4.25880682e-03,  1.90395833e-02, -1.19772727e-03,\n",
       "          1.11789773e-02, -8.53797348e-01,  1.64393939e-02,\n",
       "         -2.47026515e-02,  1.73047348e-02,  1.07684659e-02,\n",
       "         -1.20407197e-03,  2.26107955e-03,  6.40426136e-03,\n",
       "          2.58636364e+00],\n",
       "        [ 4.19846591e-02, -5.87031250e-02,  1.39113636e-02,\n",
       "          1.44332386e-01,  4.79659091e-01,  5.03323864e-02,\n",
       "          3.16909091e-02,  1.07684659e-02,  1.23957955e-01,\n",
       "          5.25271307e-01, -1.63039773e-02, -2.23974432e-02,\n",
       "          7.72244318e+00],\n",
       "        [ 1.89633239e-01, -1.41160417e-01,  1.19220170e-01,\n",
       "          8.77670455e-01,  6.11282197e+00,  1.18515246e-01,\n",
       "          2.56868655e-01, -1.20407197e-03,  5.25271307e-01,\n",
       "          4.91818144e+00, -1.36512216e-01, -1.00566477e-01,\n",
       "          3.60071023e+01],\n",
       "        [-8.11079545e-04, -5.21250000e-03,  1.79431818e-03,\n",
       "          6.34943182e-03, -8.38920455e-02,  7.79318182e-03,\n",
       "         -9.11107955e-03,  2.26107955e-03, -1.63039773e-02,\n",
       "         -1.36512216e-01,  1.38426136e-02,  1.00909091e-02,\n",
       "         -1.00284091e-01],\n",
       "        [-1.59488636e-03,  1.16625000e-02,  6.21392045e-03,\n",
       "          3.34517045e-02, -9.43636364e-01,  1.87235795e-02,\n",
       "         -3.64261364e-02,  6.40426136e-03, -2.23974432e-02,\n",
       "         -1.00566477e-01,  1.00909091e-02,  6.80210227e-02,\n",
       "          8.17585227e+00],\n",
       "        [-1.33191761e+01, -2.20468750e+01, -2.36235795e+00,\n",
       "         -7.59232955e+00,  3.74261364e+02,  3.54517045e+00,\n",
       "         -8.70198864e+00,  2.58636364e+00,  7.72244318e+00,\n",
       "          3.60071023e+01, -1.00284091e-01,  8.17585227e+00,\n",
       "          1.52100852e+04]])]"
      ]
     },
     "execution_count": 57,
     "metadata": {},
     "output_type": "execute_result"
    }
   ],
   "source": [
    "qda_model.covariance_"
   ]
  },
  {
   "cell_type": "code",
   "execution_count": 21,
   "metadata": {
    "scrolled": true
   },
   "outputs": [
    {
     "data": {
      "text/plain": [
       "array([[4.82027630e-11, 9.53699966e-06, 9.99990463e-01],\n",
       "       [4.16120014e-19, 1.20023483e-09, 9.99999999e-01],\n",
       "       [4.13851085e-15, 2.75591141e-12, 1.00000000e+00],\n",
       "       [7.51250315e-05, 9.99924835e-01, 3.97700359e-08],\n",
       "       [5.24688464e-07, 9.99999475e-01, 9.27968095e-16],\n",
       "       [9.99999998e-01, 1.74318959e-09, 1.39954629e-15],\n",
       "       [5.90573057e-06, 9.99994094e-01, 1.08785964e-12],\n",
       "       [9.99623385e-01, 3.76614609e-04, 5.81972929e-10],\n",
       "       [1.01441762e-06, 9.99998985e-01, 3.75285090e-10],\n",
       "       [3.25174638e-13, 4.55685608e-06, 9.99995443e-01],\n",
       "       [2.04024657e-18, 5.53322184e-09, 9.99999994e-01],\n",
       "       [1.00000000e+00, 1.19409600e-10, 2.11019239e-19],\n",
       "       [2.71821361e-04, 9.99725145e-01, 3.03353145e-06],\n",
       "       [9.99999997e-01, 2.99683870e-09, 6.86711720e-14],\n",
       "       [1.28687075e-10, 2.09132713e-04, 9.99790867e-01],\n",
       "       [2.49553743e-08, 9.99999971e-01, 3.95543451e-09],\n",
       "       [9.99997331e-01, 2.66878279e-06, 9.95047383e-16],\n",
       "       [9.40514712e-01, 5.94852742e-02, 1.35258129e-08],\n",
       "       [1.00000000e+00, 2.07066339e-11, 9.39089259e-17],\n",
       "       [1.65069068e-16, 1.08144052e-10, 1.00000000e+00],\n",
       "       [9.99999758e-01, 2.41630110e-07, 5.68119450e-13],\n",
       "       [8.73938377e-10, 9.99998002e-01, 1.99695029e-06],\n",
       "       [1.29166292e-05, 9.99987001e-01, 8.20504225e-08],\n",
       "       [1.00000000e+00, 2.13662524e-12, 8.16458120e-19],\n",
       "       [2.60470439e-02, 9.72135677e-01, 1.81727946e-03],\n",
       "       [2.21785455e-19, 1.01488600e-10, 1.00000000e+00],\n",
       "       [2.57399423e-11, 7.26386179e-05, 9.99927361e-01],\n",
       "       [7.81346422e-08, 9.99999922e-01, 2.82842142e-12],\n",
       "       [2.83590537e-04, 9.99716409e-01, 6.48099408e-14],\n",
       "       [1.04981481e-03, 9.98950185e-01, 5.03319257e-14],\n",
       "       [7.37071158e-20, 7.07643707e-15, 1.00000000e+00],\n",
       "       [4.97277772e-05, 9.99950272e-01, 9.65812905e-11],\n",
       "       [9.99999991e-01, 9.43424596e-09, 5.36558867e-15],\n",
       "       [2.10741482e-03, 9.97892506e-01, 7.94663573e-08],\n",
       "       [1.83752633e-07, 3.12286099e-01, 6.87713717e-01],\n",
       "       [1.80501712e-02, 9.81949829e-01, 4.85925204e-11],\n",
       "       [5.50286678e-17, 7.63559654e-11, 1.00000000e+00],\n",
       "       [9.52309956e-07, 9.99999048e-01, 4.05015081e-13],\n",
       "       [1.95870186e-08, 9.99999971e-01, 9.37393246e-09],\n",
       "       [2.70427187e-09, 5.95143840e-05, 9.99940483e-01],\n",
       "       [9.99999888e-01, 1.11702498e-07, 1.08619680e-14],\n",
       "       [8.81908634e-15, 5.26485550e-06, 9.99994735e-01],\n",
       "       [9.99999973e-01, 2.71592691e-08, 1.67373399e-18],\n",
       "       [9.99999996e-01, 4.25319621e-09, 1.09089874e-15],\n",
       "       [8.49596944e-01, 1.50402808e-01, 2.47386162e-07],\n",
       "       [1.66317188e-02, 9.83368281e-01, 1.49226106e-10],\n",
       "       [1.00000000e+00, 1.24258891e-12, 1.21659125e-18],\n",
       "       [8.61934911e-14, 3.65446318e-05, 9.99963455e-01],\n",
       "       [3.12042828e-04, 9.99687956e-01, 9.69212176e-10],\n",
       "       [9.99999998e-01, 1.91118012e-09, 2.94539198e-17],\n",
       "       [2.87517953e-10, 9.99999998e-01, 1.46389350e-09],\n",
       "       [9.99999971e-01, 2.88941903e-08, 1.53083869e-11],\n",
       "       [9.99999997e-01, 3.14213603e-09, 1.74187119e-13],\n",
       "       [1.01147606e-09, 1.24510449e-05, 9.99987548e-01]])"
      ]
     },
     "execution_count": 21,
     "metadata": {},
     "output_type": "execute_result"
    }
   ],
   "source": [
    "lda_model.predict_proba(X_test)"
   ]
  },
  {
   "cell_type": "code",
   "execution_count": null,
   "metadata": {},
   "outputs": [],
   "source": []
  },
  {
   "cell_type": "code",
   "execution_count": 22,
   "metadata": {
    "scrolled": true
   },
   "outputs": [
    {
     "data": {
      "text/plain": [
       "array([[1.07823805e-035, 2.60981206e-008, 9.99999974e-001],\n",
       "       [1.10584322e-039, 3.49056549e-024, 1.00000000e+000],\n",
       "       [1.58369913e-088, 7.55372036e-040, 1.00000000e+000],\n",
       "       [4.83304700e-003, 9.95166953e-001, 3.33058238e-061],\n",
       "       [2.12394858e-014, 1.00000000e+000, 7.23161042e-114],\n",
       "       [1.00000000e+000, 1.22762207e-016, 6.65135948e-146],\n",
       "       [7.79670427e-008, 9.99999922e-001, 1.18680683e-056],\n",
       "       [9.99999932e-001, 6.77887539e-008, 1.12372096e-071],\n",
       "       [4.37021613e-010, 1.00000000e+000, 3.96842378e-056],\n",
       "       [1.32680549e-032, 9.06254669e-001, 9.37453308e-002],\n",
       "       [8.97018071e-057, 3.46593288e-022, 1.00000000e+000],\n",
       "       [1.00000000e+000, 9.28366743e-016, 1.13459289e-128],\n",
       "       [8.62682579e-017, 1.00000000e+000, 1.57953939e-038],\n",
       "       [1.00000000e+000, 1.29184368e-014, 7.43510783e-116],\n",
       "       [7.57760890e-028, 8.56423422e-009, 9.99999991e-001],\n",
       "       [1.68672641e-007, 9.99999831e-001, 4.26026248e-041],\n",
       "       [1.00000000e+000, 2.35217209e-010, 2.63523215e-109],\n",
       "       [9.66499554e-001, 3.35004463e-002, 2.47160112e-093],\n",
       "       [1.00000000e+000, 1.83508391e-016, 1.80293349e-098],\n",
       "       [1.69017748e-080, 3.03904958e-033, 1.00000000e+000],\n",
       "       [1.00000000e+000, 4.50098900e-014, 4.28910260e-091],\n",
       "       [4.55704561e-010, 1.00000000e+000, 2.73879105e-028],\n",
       "       [3.36583582e-008, 9.99999966e-001, 1.60888987e-076],\n",
       "       [1.00000000e+000, 1.63686381e-027, 1.33141205e-156],\n",
       "       [8.14897993e-010, 9.99999890e-001, 1.09197721e-007],\n",
       "       [1.69992665e-090, 1.29057390e-039, 1.00000000e+000],\n",
       "       [2.11702863e-033, 2.55086940e-011, 1.00000000e+000],\n",
       "       [3.67427117e-007, 9.99999633e-001, 4.25040886e-078],\n",
       "       [2.26975954e-011, 1.00000000e+000, 1.48806397e-119],\n",
       "       [9.33914065e-007, 9.99999066e-001, 5.18075842e-109],\n",
       "       [1.19345476e-104, 1.32335192e-099, 1.00000000e+000],\n",
       "       [5.80703123e-006, 9.99994193e-001, 7.49579085e-043],\n",
       "       [1.00000000e+000, 1.32759978e-014, 4.39783732e-092],\n",
       "       [8.30915390e-014, 1.00000000e+000, 1.75897828e-031],\n",
       "       [1.01205011e-004, 9.99898795e-001, 7.46434660e-011],\n",
       "       [8.63288055e-001, 1.36711945e-001, 8.70091113e-077],\n",
       "       [7.77919408e-066, 2.69284335e-029, 1.00000000e+000],\n",
       "       [3.54631579e-012, 1.00000000e+000, 1.25868754e-060],\n",
       "       [8.36718858e-010, 9.99999999e-001, 3.86061574e-037],\n",
       "       [2.88826734e-029, 1.63338570e-006, 9.99998367e-001],\n",
       "       [1.00000000e+000, 7.86340075e-015, 1.11931242e-117],\n",
       "       [3.41235903e-051, 3.49051051e-020, 1.00000000e+000],\n",
       "       [1.00000000e+000, 5.66959225e-015, 5.88621587e-106],\n",
       "       [1.00000000e+000, 9.87369010e-019, 6.52987150e-123],\n",
       "       [9.93899418e-001, 6.10058226e-003, 1.46817691e-066],\n",
       "       [6.78915729e-030, 1.00000000e+000, 2.14331883e-061],\n",
       "       [1.00000000e+000, 2.19659268e-020, 3.08409024e-119],\n",
       "       [2.72286739e-033, 7.13774740e-011, 1.00000000e+000],\n",
       "       [9.74548362e-015, 1.00000000e+000, 2.20154894e-040],\n",
       "       [1.00000000e+000, 5.66899748e-017, 3.23963735e-107],\n",
       "       [6.54704799e-009, 9.99999993e-001, 2.11710126e-034],\n",
       "       [1.00000000e+000, 1.89465906e-011, 1.08447679e-086],\n",
       "       [1.00000000e+000, 7.89656770e-015, 2.22817359e-111],\n",
       "       [1.01139951e-031, 1.30393905e-007, 9.99999870e-001]])"
      ]
     },
     "execution_count": 22,
     "metadata": {},
     "output_type": "execute_result"
    }
   ],
   "source": [
    "qda_model.predict_proba(X_test)"
   ]
  },
  {
   "cell_type": "code",
   "execution_count": 23,
   "metadata": {
    "scrolled": true
   },
   "outputs": [
    {
     "data": {
      "text/plain": [
       "array([[3.19454660e-19, 9.51002328e-04, 9.99048998e-01],\n",
       "       [1.16786612e-15, 1.09395103e-05, 9.99989060e-01],\n",
       "       [2.32660299e-21, 1.89115739e-17, 1.00000000e+00],\n",
       "       [8.23874932e-08, 9.99999918e-01, 9.84874782e-18],\n",
       "       [2.35000790e-07, 9.99999765e-01, 2.56197108e-33],\n",
       "       [1.00000000e+00, 6.68703698e-15, 6.40473504e-42],\n",
       "       [3.68867795e-07, 9.99999631e-01, 7.59602896e-21],\n",
       "       [9.99926652e-01, 7.33481186e-05, 7.61671538e-17],\n",
       "       [6.56354469e-08, 9.99999934e-01, 2.59990118e-20],\n",
       "       [4.82389768e-30, 9.17151905e-06, 9.99990828e-01],\n",
       "       [4.39335240e-23, 5.71710905e-09, 9.99999994e-01],\n",
       "       [1.00000000e+00, 2.09709898e-11, 5.07260774e-42],\n",
       "       [1.89506401e-03, 9.98104936e-01, 5.55197552e-21],\n",
       "       [1.00000000e+00, 3.92962162e-14, 2.96206908e-31],\n",
       "       [1.26235467e-18, 3.60330767e-05, 9.99963967e-01],\n",
       "       [9.72106185e-08, 9.99999903e-01, 8.01041782e-15],\n",
       "       [9.99999977e-01, 2.27614147e-08, 3.94813637e-39],\n",
       "       [2.66728538e-02, 9.73327146e-01, 4.27853938e-24],\n",
       "       [1.00000000e+00, 4.21842007e-12, 2.55094026e-31],\n",
       "       [2.55234649e-23, 1.71345720e-16, 1.00000000e+00],\n",
       "       [1.00000000e+00, 1.84137122e-11, 1.99435045e-33],\n",
       "       [1.90753693e-15, 9.99999948e-01, 5.23220353e-08],\n",
       "       [3.55072917e-09, 9.99999996e-01, 3.52435042e-17],\n",
       "       [1.00000000e+00, 9.75027509e-19, 1.14009426e-42],\n",
       "       [6.14286113e-09, 9.97571579e-01, 2.42841486e-03],\n",
       "       [5.18526665e-28, 1.90555541e-15, 1.00000000e+00],\n",
       "       [5.34185700e-20, 3.79233166e-05, 9.99962077e-01],\n",
       "       [3.80880291e-08, 9.99999962e-01, 1.32710041e-22],\n",
       "       [8.39114833e-02, 9.16088517e-01, 1.83875993e-36],\n",
       "       [2.38549694e-01, 7.61450306e-01, 2.07199826e-33],\n",
       "       [1.36092014e-12, 2.56000759e-21, 1.00000000e+00],\n",
       "       [3.79537071e-06, 9.99996205e-01, 1.89596077e-18],\n",
       "       [1.00000000e+00, 2.28855526e-10, 3.38421951e-23],\n",
       "       [2.61643999e-05, 9.99973835e-01, 2.48249369e-10],\n",
       "       [4.81643308e-15, 9.99794599e-01, 2.05401412e-04],\n",
       "       [2.43112496e-02, 9.75688750e-01, 3.12329969e-20],\n",
       "       [1.80314515e-22, 3.25892683e-13, 1.00000000e+00],\n",
       "       [1.34005857e-06, 9.99998660e-01, 9.69638408e-23],\n",
       "       [5.49215173e-13, 1.00000000e+00, 5.27006912e-14],\n",
       "       [1.07708855e-18, 3.12640671e-03, 9.96873593e-01],\n",
       "       [1.00000000e+00, 1.76631085e-12, 4.37790592e-37],\n",
       "       [1.89998217e-24, 5.17141773e-09, 9.99999995e-01],\n",
       "       [9.99995597e-01, 4.40287907e-06, 3.37948426e-30],\n",
       "       [1.00000000e+00, 2.33048208e-12, 7.27048111e-30],\n",
       "       [6.18437339e-01, 3.81562661e-01, 4.75636924e-15],\n",
       "       [2.26811909e-04, 9.99773188e-01, 7.22892028e-22],\n",
       "       [1.00000000e+00, 4.97783213e-13, 4.57681525e-33],\n",
       "       [3.50242585e-22, 1.13225590e-05, 9.99988677e-01],\n",
       "       [2.69552000e-07, 9.99999730e-01, 1.48884473e-13],\n",
       "       [1.00000000e+00, 1.19763616e-10, 4.32383481e-30],\n",
       "       [1.68585885e-13, 1.00000000e+00, 7.28657489e-12],\n",
       "       [9.99999978e-01, 2.21726978e-08, 4.69784794e-23],\n",
       "       [1.00000000e+00, 5.88383078e-15, 7.11569883e-33],\n",
       "       [8.51939981e-21, 7.54024881e-07, 9.99999246e-01]])"
      ]
     },
     "execution_count": 23,
     "metadata": {},
     "output_type": "execute_result"
    }
   ],
   "source": [
    "gnb_model.predict_proba(X_test)"
   ]
  },
  {
   "cell_type": "markdown",
   "metadata": {},
   "source": [
    "### Plotting"
   ]
  },
  {
   "cell_type": "code",
   "execution_count": 24,
   "metadata": {
    "scrolled": false
   },
   "outputs": [
    {
     "data": {
      "text/html": [
       "<div>\n",
       "<style scoped>\n",
       "    .dataframe tbody tr th:only-of-type {\n",
       "        vertical-align: middle;\n",
       "    }\n",
       "\n",
       "    .dataframe tbody tr th {\n",
       "        vertical-align: top;\n",
       "    }\n",
       "\n",
       "    .dataframe thead th {\n",
       "        text-align: right;\n",
       "    }\n",
       "</style>\n",
       "<table border=\"1\" class=\"dataframe\">\n",
       "  <thead>\n",
       "    <tr style=\"text-align: right;\">\n",
       "      <th></th>\n",
       "      <th>alcohol</th>\n",
       "      <th>malic_acid</th>\n",
       "      <th>ash</th>\n",
       "      <th>alcalinity_of_ash</th>\n",
       "      <th>magnesium</th>\n",
       "      <th>total_phenols</th>\n",
       "      <th>flavanoids</th>\n",
       "      <th>nonflavanoid_phenols</th>\n",
       "      <th>proanthocyanins</th>\n",
       "      <th>color_intensity</th>\n",
       "      <th>hue</th>\n",
       "      <th>od280/od315_of_diluted_wines</th>\n",
       "      <th>proline</th>\n",
       "      <th>class</th>\n",
       "    </tr>\n",
       "  </thead>\n",
       "  <tbody>\n",
       "    <tr>\n",
       "      <th>0</th>\n",
       "      <td>14.23</td>\n",
       "      <td>1.71</td>\n",
       "      <td>2.43</td>\n",
       "      <td>15.6</td>\n",
       "      <td>127.0</td>\n",
       "      <td>2.80</td>\n",
       "      <td>3.06</td>\n",
       "      <td>0.28</td>\n",
       "      <td>2.29</td>\n",
       "      <td>5.64</td>\n",
       "      <td>1.04</td>\n",
       "      <td>3.92</td>\n",
       "      <td>1065.0</td>\n",
       "      <td>0</td>\n",
       "    </tr>\n",
       "    <tr>\n",
       "      <th>1</th>\n",
       "      <td>13.20</td>\n",
       "      <td>1.78</td>\n",
       "      <td>2.14</td>\n",
       "      <td>11.2</td>\n",
       "      <td>100.0</td>\n",
       "      <td>2.65</td>\n",
       "      <td>2.76</td>\n",
       "      <td>0.26</td>\n",
       "      <td>1.28</td>\n",
       "      <td>4.38</td>\n",
       "      <td>1.05</td>\n",
       "      <td>3.40</td>\n",
       "      <td>1050.0</td>\n",
       "      <td>0</td>\n",
       "    </tr>\n",
       "    <tr>\n",
       "      <th>2</th>\n",
       "      <td>13.16</td>\n",
       "      <td>2.36</td>\n",
       "      <td>2.67</td>\n",
       "      <td>18.6</td>\n",
       "      <td>101.0</td>\n",
       "      <td>2.80</td>\n",
       "      <td>3.24</td>\n",
       "      <td>0.30</td>\n",
       "      <td>2.81</td>\n",
       "      <td>5.68</td>\n",
       "      <td>1.03</td>\n",
       "      <td>3.17</td>\n",
       "      <td>1185.0</td>\n",
       "      <td>0</td>\n",
       "    </tr>\n",
       "    <tr>\n",
       "      <th>3</th>\n",
       "      <td>14.37</td>\n",
       "      <td>1.95</td>\n",
       "      <td>2.50</td>\n",
       "      <td>16.8</td>\n",
       "      <td>113.0</td>\n",
       "      <td>3.85</td>\n",
       "      <td>3.49</td>\n",
       "      <td>0.24</td>\n",
       "      <td>2.18</td>\n",
       "      <td>7.80</td>\n",
       "      <td>0.86</td>\n",
       "      <td>3.45</td>\n",
       "      <td>1480.0</td>\n",
       "      <td>0</td>\n",
       "    </tr>\n",
       "    <tr>\n",
       "      <th>4</th>\n",
       "      <td>13.24</td>\n",
       "      <td>2.59</td>\n",
       "      <td>2.87</td>\n",
       "      <td>21.0</td>\n",
       "      <td>118.0</td>\n",
       "      <td>2.80</td>\n",
       "      <td>2.69</td>\n",
       "      <td>0.39</td>\n",
       "      <td>1.82</td>\n",
       "      <td>4.32</td>\n",
       "      <td>1.04</td>\n",
       "      <td>2.93</td>\n",
       "      <td>735.0</td>\n",
       "      <td>0</td>\n",
       "    </tr>\n",
       "  </tbody>\n",
       "</table>\n",
       "</div>"
      ],
      "text/plain": [
       "   alcohol  malic_acid   ash  alcalinity_of_ash  magnesium  total_phenols  \\\n",
       "0    14.23        1.71  2.43               15.6      127.0           2.80   \n",
       "1    13.20        1.78  2.14               11.2      100.0           2.65   \n",
       "2    13.16        2.36  2.67               18.6      101.0           2.80   \n",
       "3    14.37        1.95  2.50               16.8      113.0           3.85   \n",
       "4    13.24        2.59  2.87               21.0      118.0           2.80   \n",
       "\n",
       "   flavanoids  nonflavanoid_phenols  proanthocyanins  color_intensity   hue  \\\n",
       "0        3.06                  0.28             2.29             5.64  1.04   \n",
       "1        2.76                  0.26             1.28             4.38  1.05   \n",
       "2        3.24                  0.30             2.81             5.68  1.03   \n",
       "3        3.49                  0.24             2.18             7.80  0.86   \n",
       "4        2.69                  0.39             1.82             4.32  1.04   \n",
       "\n",
       "   od280/od315_of_diluted_wines  proline  class  \n",
       "0                          3.92   1065.0      0  \n",
       "1                          3.40   1050.0      0  \n",
       "2                          3.17   1185.0      0  \n",
       "3                          3.45   1480.0      0  \n",
       "4                          2.93    735.0      0  "
      ]
     },
     "execution_count": 24,
     "metadata": {},
     "output_type": "execute_result"
    }
   ],
   "source": [
    "df.head()"
   ]
  },
  {
   "cell_type": "code",
   "execution_count": 25,
   "metadata": {},
   "outputs": [
    {
     "name": "stderr",
     "output_type": "stream",
     "text": [
      "C:\\Users\\chung_es\\anaconda3\\envs\\torch36\\lib\\site-packages\\seaborn\\axisgrid.py:243: UserWarning: The `size` parameter has been renamed to `height`; please update your code.\n",
      "  warnings.warn(msg, UserWarning)\n"
     ]
    },
    {
     "data": {
      "text/plain": [
       "Text(0.5, 1.0, 'Scatter plot')"
      ]
     },
     "execution_count": 25,
     "metadata": {},
     "output_type": "execute_result"
    },
    {
     "data": {
      "image/png": "[encoded data removed]",
      "text/plain": [
       "<Figure size 477.725x432 with 1 Axes>"
      ]
     },
     "metadata": {},
     "output_type": "display_data"
    }
   ],
   "source": [
    "sns.FacetGrid(df, hue=\"class\", size=6) .map(plt.scatter,\"alcohol\", \"malic_acid\").add_legend()\n",
    "plt.title('Scatter plot')"
   ]
  },
  {
   "cell_type": "code",
   "execution_count": 26,
   "metadata": {},
   "outputs": [
    {
     "name": "stderr",
     "output_type": "stream",
     "text": [
      "C:\\Users\\chung_es\\anaconda3\\envs\\torch36\\lib\\site-packages\\seaborn\\axisgrid.py:243: UserWarning: The `size` parameter has been renamed to `height`; please update your code.\n",
      "  warnings.warn(msg, UserWarning)\n"
     ]
    },
    {
     "data": {
      "image/png": "[encoded data removed]",
      "text/plain": [
       "<Figure size 765.725x720 with 1 Axes>"
      ]
     },
     "metadata": {},
     "output_type": "display_data"
    },
    {
     "data": {
      "text/plain": [
       "<Figure size 720x720 with 0 Axes>"
      ]
     },
     "metadata": {},
     "output_type": "display_data"
    }
   ],
   "source": [
    "X_data = X_train.iloc[:,:2]\n",
    "y_labels =y_train\n",
    "\n",
    "lda = LinearDiscriminantAnalysis(store_covariance=True)\n",
    "lda.fit(X_data,y_labels)\n",
    "\n",
    "#Estimating the parameters\n",
    "mu_list = np.split(df.groupby('class').mean().values,[1,2])\n",
    "sigma_list = np.split(df.groupby('class').cov().values,[2,4], axis = 0)\n",
    "pi_list = df.iloc[:,2].value_counts().values / len(df)\n",
    "\n",
    "\n",
    "# Our 2-dimensional distribution will be over variables X and Y\n",
    "N = 200\n",
    "X = np.linspace(10, 16, N)\n",
    "Y = np.linspace(0, 6, N)\n",
    "X, Y = np.meshgrid(X, Y)\n",
    "\n",
    "#Initialize seaborn facetplot\n",
    "g = sns.FacetGrid(df, hue=\"class\", size=10, palette = 'colorblind')\\\n",
    ".map(plt.scatter, \"alcohol\", \"malic_acid\").add_legend()\n",
    "my_ax = g.ax\n",
    "\n",
    "\n",
    "fig = plt.figure(figsize = (10,10))\n",
    "#ax = fig.gca()\n",
    "color_list = ['Blues','Greens','Reds']\n",
    "my_norm = colors.Normalize(vmin=-1.,vmax=1.)\n",
    "\n",
    "#Computing the predicted class function for each value on the grid\n",
    "zz = np.array(  [lda.predict( np.array([[xx,yy]])) \n",
    "                     for xx, yy in zip(np.ravel(X), np.ravel(Y)) ] )\n",
    "    \n",
    "    \n",
    "#Reshaping the predicted class into the meshgrid shape\n",
    "Z = zz.reshape(X.shape)\n",
    "\n",
    "\n",
    "#Plot the filled and boundary contours\n",
    "my_ax.contourf( X, Y, Z, 2, alpha = .1, colors = ('blue','green','red'))\n",
    "my_ax.contour( X, Y, Z, 2, alpha = 1, colors = ('blue','green','red'))\n",
    "\n",
    "# Addd axis and title\n",
    "my_ax.set_xlabel('X')\n",
    "my_ax.set_ylabel('Y')\n",
    "my_ax.set_title('LDA and boundaries')\n",
    "\n",
    "plt.show()"
   ]
  },
  {
   "cell_type": "code",
   "execution_count": 27,
   "metadata": {
    "scrolled": false
   },
   "outputs": [
    {
     "name": "stderr",
     "output_type": "stream",
     "text": [
      "C:\\Users\\chung_es\\anaconda3\\envs\\torch36\\lib\\site-packages\\seaborn\\axisgrid.py:243: UserWarning: The `size` parameter has been renamed to `height`; please update your code.\n",
      "  warnings.warn(msg, UserWarning)\n"
     ]
    },
    {
     "data": {
      "image/png": "[encoded data removed]",
      "text/plain": [
       "<Figure size 765.725x720 with 1 Axes>"
      ]
     },
     "metadata": {},
     "output_type": "display_data"
    },
    {
     "data": {
      "text/plain": [
       "<Figure size 720x720 with 0 Axes>"
      ]
     },
     "metadata": {},
     "output_type": "display_data"
    }
   ],
   "source": [
    "X_data = X_train.iloc[:,:2]\n",
    "y_labels =y_train\n",
    "\n",
    "qda = QuadraticDiscriminantAnalysis(store_covariance=True)\n",
    "qda.fit(X_data,y_labels)\n",
    "\n",
    "#Estimating the parameters\n",
    "mu_list = np.split(df.groupby('class').mean().values,[1,2])\n",
    "sigma_list = np.split(df.groupby('class').cov().values,[2,4], axis = 0)\n",
    "pi_list = df.iloc[:,2].value_counts().values / len(df)\n",
    "\n",
    "\n",
    "# Our 2-dimensional distribution will be over variables X and Y\n",
    "N = 200\n",
    "X = np.linspace(10, 16, N)\n",
    "Y = np.linspace(0, 6, N)\n",
    "X, Y = np.meshgrid(X, Y)\n",
    "\n",
    "#Initialize seaborn facetplot\n",
    "g = sns.FacetGrid(df, hue=\"class\", size=10, palette = 'colorblind')\\\n",
    ".map(plt.scatter, \"alcohol\", \"malic_acid\").add_legend()\n",
    "my_ax = g.ax\n",
    "\n",
    "\n",
    "fig = plt.figure(figsize = (10,10))\n",
    "#ax = fig.gca()\n",
    "color_list = ['Blues','Greens','Reds']\n",
    "my_norm = colors.Normalize(vmin=-1.,vmax=1.)\n",
    "\n",
    "#Computing the predicted class function for each value on the grid\n",
    "zz = np.array(  [qda.predict( np.array([[xx,yy]])) \n",
    "                     for xx, yy in zip(np.ravel(X), np.ravel(Y)) ] )\n",
    "    \n",
    "    \n",
    "#Reshaping the predicted class into the meshgrid shape\n",
    "Z = zz.reshape(X.shape)\n",
    "\n",
    "\n",
    "#Plot the filled and boundary contours\n",
    "my_ax.contourf( X, Y, Z, 2, alpha = .1, colors = ('blue','green','red'))\n",
    "my_ax.contour( X, Y, Z, 2, alpha = 1, colors = ('blue','green','red'))\n",
    "\n",
    "# Addd axis and title\n",
    "my_ax.set_xlabel('X')\n",
    "my_ax.set_ylabel('Y')\n",
    "my_ax.set_title('QDA and boundaries')\n",
    "\n",
    "plt.show()"
   ]
  },
  {
   "cell_type": "code",
   "execution_count": 35,
   "metadata": {
    "scrolled": false
   },
   "outputs": [
    {
     "name": "stderr",
     "output_type": "stream",
     "text": [
      "C:\\Users\\chung_es\\anaconda3\\envs\\torch36\\lib\\site-packages\\seaborn\\axisgrid.py:243: UserWarning: The `size` parameter has been renamed to `height`; please update your code.\n",
      "  warnings.warn(msg, UserWarning)\n"
     ]
    },
    {
     "data": {
      "image/png": "[encoded data removed]",
      "text/plain": [
       "<Figure size 765.725x720 with 1 Axes>"
      ]
     },
     "metadata": {},
     "output_type": "display_data"
    },
    {
     "data": {
      "text/plain": [
       "<Figure size 720x720 with 0 Axes>"
      ]
     },
     "metadata": {},
     "output_type": "display_data"
    }
   ],
   "source": [
    "X_data = X_train.iloc[:,:2]\n",
    "y_labels =y_train\n",
    "\n",
    "gnb = GaussianNB()\n",
    "gnb.fit(X_data,y_labels)\n",
    "\n",
    "#Estimating the parameters\n",
    "mu_list = np.split(df.groupby('class').mean().values,[1,2])\n",
    "sigma_list = np.split(df.groupby('class').cov().values,[2,4], axis = 0)\n",
    "pi_list = df.iloc[:,2].value_counts().values / len(df)\n",
    "\n",
    "\n",
    "# Our 2-dimensional distribution will be over variables X and Y\n",
    "N = 200\n",
    "X = np.linspace(10, 16, N)\n",
    "Y = np.linspace(0, 6, N)\n",
    "X, Y = np.meshgrid(X, Y)\n",
    "\n",
    "#Initialize seaborn facetplot\n",
    "g = sns.FacetGrid(df, hue=\"class\", size=10, palette = 'colorblind')\\\n",
    ".map(plt.scatter, \"alcohol\", \"malic_acid\").add_legend()\n",
    "my_ax = g.ax\n",
    "\n",
    "\n",
    "fig = plt.figure(figsize = (10,10))\n",
    "#ax = fig.gca()\n",
    "color_list = ['Blues','Greens','Reds']\n",
    "my_norm = colors.Normalize(vmin=-1.,vmax=1.)\n",
    "\n",
    "#Computing the predicted class function for each value on the grid\n",
    "zz = np.array(  [gnb.predict( np.array([[xx,yy]])) \n",
    "                     for xx, yy in zip(np.ravel(X), np.ravel(Y)) ] )\n",
    "    \n",
    "    \n",
    "#Reshaping the predicted class into the meshgrid shape\n",
    "Z = zz.reshape(X.shape)\n",
    "\n",
    "\n",
    "#Plot the filled and boundary contours\n",
    "my_ax.contourf( X, Y, Z, 2, alpha = .1, colors = ('blue','green','red'))\n",
    "my_ax.contour( X, Y, Z, 2, alpha = 1, colors = ('blue','green','red'))\n",
    "\n",
    "# Addd axis and title\n",
    "my_ax.set_xlabel('X')\n",
    "my_ax.set_ylabel('Y')\n",
    "my_ax.set_title('GNB and boundaries')\n",
    "\n",
    "plt.show()"
   ]
  },
  {
   "cell_type": "code",
   "execution_count": null,
   "metadata": {},
   "outputs": [],
   "source": []
  }
 ],
 "metadata": {
  "kernelspec": {
   "display_name": "Python 3",
   "language": "python",
   "name": "python3"
  },
  "language_info": {
   "codemirror_mode": {
    "name": "ipython",
    "version": 3
   },
   "file_extension": ".py",
   "mimetype": "text/x-python",
   "name": "python",
   "nbconvert_exporter": "python",
   "pygments_lexer": "ipython3",
   "version": "3.6.10"
  }
 },
 "nbformat": 4,
 "nbformat_minor": 4
}
