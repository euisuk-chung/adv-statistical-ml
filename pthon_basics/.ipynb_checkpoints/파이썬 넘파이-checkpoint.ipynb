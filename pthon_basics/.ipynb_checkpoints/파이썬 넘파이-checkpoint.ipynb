{
 "cells": [
  {
   "cell_type": "markdown",
   "metadata": {},
   "source": [
    "# [6] 넘파이(numpy)\n",
    "## [6.0] 넘파이 기초"
   ]
  },
  {
   "cell_type": "code",
   "execution_count": 2,
   "metadata": {},
   "outputs": [
    {
     "data": {
      "text/plain": [
       "array([1, 5, 7, 6])"
      ]
     },
     "execution_count": 2,
     "metadata": {},
     "output_type": "execute_result"
    }
   ],
   "source": [
    "# numpy 불러와서 사용해보기\n",
    "import numpy as np\n",
    "\n",
    "#1-d tensor data (just a list of observations)\n",
    "np.array([1, 5, 7, 6])"
   ]
  },
  {
   "cell_type": "code",
   "execution_count": 3,
   "metadata": {},
   "outputs": [
    {
     "data": {
      "text/plain": [
       "array([1.25, 1.  , 5.  , 7.  ])"
      ]
     },
     "execution_count": 3,
     "metadata": {},
     "output_type": "execute_result"
    }
   ],
   "source": [
    "# np.array를 수행하면 데이터 형식이 통일화된다\n",
    "np.array([1.25, 1, 5, 7])"
   ]
  },
  {
   "cell_type": "code",
   "execution_count": 4,
   "metadata": {},
   "outputs": [
    {
     "data": {
      "text/plain": [
       "array([0, 0, 0, 0, 0])"
      ]
     },
     "execution_count": 4,
     "metadata": {},
     "output_type": "execute_result"
    }
   ],
   "source": [
    "# numpy의 유용한 함수(방법)들\n",
    "# 초기치를 구는 데 사용한다.\n",
    "np.zeros(5, dtype=int)"
   ]
  },
  {
   "cell_type": "code",
   "execution_count": 65,
   "metadata": {},
   "outputs": [
    {
     "data": {
      "text/plain": [
       "array([[1., 1., 1.],\n",
       "       [1., 1., 1.]])"
      ]
     },
     "execution_count": 65,
     "metadata": {},
     "output_type": "execute_result"
    }
   ],
   "source": [
    "# numpy의 유용한 함수(방법)들\n",
    "# 초기치를 구는 데 사용한다.\n",
    "np.ones([2,3], dtype=float)"
   ]
  },
  {
   "cell_type": "code",
   "execution_count": 6,
   "metadata": {},
   "outputs": [
    {
     "data": {
      "text/plain": [
       "array([0, 2, 4, 6, 8])"
      ]
     },
     "execution_count": 6,
     "metadata": {},
     "output_type": "execute_result"
    }
   ],
   "source": [
    "np.arange(0, 10, 2)   # 0 포함 O, 10 포함 X"
   ]
  },
  {
   "cell_type": "code",
   "execution_count": 66,
   "metadata": {},
   "outputs": [
    {
     "data": {
      "text/plain": [
       "array([0.  , 0.25, 0.5 , 0.75, 1.  ])"
      ]
     },
     "execution_count": 66,
     "metadata": {},
     "output_type": "execute_result"
    }
   ],
   "source": [
    "# 5등분해라\n",
    "np.linspace(0, 1, 5)  # 0 포함 O, 10 포함 O"
   ]
  },
  {
   "cell_type": "markdown",
   "metadata": {},
   "source": [
    "### seed값을 동일하게 해줘야 값이 일치하는 것을 확인할 수 있다"
   ]
  },
  {
   "cell_type": "code",
   "execution_count": 11,
   "metadata": {},
   "outputs": [
    {
     "data": {
      "text/plain": [
       "array([[0.15416284, 0.7400497 , 0.26331502],\n",
       "       [0.53373939, 0.01457496, 0.91874701],\n",
       "       [0.90071485, 0.03342143, 0.95694934]])"
      ]
     },
     "execution_count": 11,
     "metadata": {},
     "output_type": "execute_result"
    }
   ],
   "source": [
    "# random number generator seed\n",
    "np.random.seed(12)\n",
    "np.random.random((3,3))        # 3 by 3 U(0,1) 생성"
   ]
  },
  {
   "cell_type": "code",
   "execution_count": 12,
   "metadata": {},
   "outputs": [
    {
     "data": {
      "text/plain": [
       "array([[0.15416284, 0.7400497 , 0.26331502],\n",
       "       [0.53373939, 0.01457496, 0.91874701],\n",
       "       [0.90071485, 0.03342143, 0.95694934]])"
      ]
     },
     "execution_count": 12,
     "metadata": {},
     "output_type": "execute_result"
    }
   ],
   "source": [
    "# random number generator seed\n",
    "np.random.seed(12)\n",
    "np.random.random((3,3))        # 3 by 3 U(0,1) 생성"
   ]
  },
  {
   "cell_type": "code",
   "execution_count": 13,
   "metadata": {},
   "outputs": [
    {
     "data": {
      "text/plain": [
       "array([[0.13720932, 0.28382835, 0.60608318],\n",
       "       [0.94422514, 0.85273554, 0.00225923],\n",
       "       [0.52122603, 0.55203763, 0.48537741]])"
      ]
     },
     "execution_count": 13,
     "metadata": {},
     "output_type": "execute_result"
    }
   ],
   "source": [
    "# without seed\n",
    "np.random.random((3,3))        # 3 by 3 U(0,1) 생성"
   ]
  },
  {
   "cell_type": "code",
   "execution_count": 5,
   "metadata": {},
   "outputs": [
    {
     "data": {
      "text/plain": [
       "array([[-0.42069204, -0.7060276 ,  0.58535808],\n",
       "       [ 0.13978644,  2.73781428,  1.11674795],\n",
       "       [ 1.57453814, -0.08586679,  0.47673663]])"
      ]
     },
     "execution_count": 5,
     "metadata": {},
     "output_type": "execute_result"
    }
   ],
   "source": [
    "np.random.normal(0, 1, (3,3))  # 3 by 3 N(0,1) 생성"
   ]
  },
  {
   "cell_type": "code",
   "execution_count": 6,
   "metadata": {},
   "outputs": [
    {
     "data": {
      "text/plain": [
       "array([[9, 0, 0],\n",
       "       [9, 8, 9],\n",
       "       [6, 1, 8]])"
      ]
     },
     "execution_count": 6,
     "metadata": {},
     "output_type": "execute_result"
    }
   ],
   "source": [
    "np.random.randint(0, 10, (3,3)) # 3 by 3 정수(0-9) 생성"
   ]
  },
  {
   "cell_type": "code",
   "execution_count": 22,
   "metadata": {},
   "outputs": [
    {
     "data": {
      "text/plain": [
       "array([[-0.6075477 , -0.12613641, -0.68460636],\n",
       "       [ 0.92871475, -1.84440103, -0.46700242],\n",
       "       [ 2.29249034,  0.48881005,  0.71026699]])"
      ]
     },
     "execution_count": 22,
     "metadata": {},
     "output_type": "execute_result"
    }
   ],
   "source": [
    "# np random이라는 library 밑에 RandomState라는 class \n",
    "rg = np.random.RandomState(40)  # np.random.RandomState 클래스를 rg로 객체화\n",
    "rg.normal(0, 1, (3,3))"
   ]
  },
  {
   "cell_type": "code",
   "execution_count": 36,
   "metadata": {},
   "outputs": [
    {
     "name": "stdout",
     "output_type": "stream",
     "text": [
      "[[[5 8 9 5]\n",
      "  [0 0 1 7]\n",
      "  [6 9 2 4]]\n",
      "\n",
      " [[5 2 4 2]\n",
      "  [4 7 7 9]\n",
      "  [1 7 0 6]]]\n",
      "3\n",
      "(2, 3, 4)\n",
      "24\n"
     ]
    }
   ],
   "source": [
    "# array의 객체화\n",
    "import numpy as np\n",
    "np.random.seed(1)\n",
    "\n",
    "x = np.random.randint(10, size=(2,3,4))\n",
    "# size 확인할 때 TIP, 첫번째 값은 observation수로 인식하라\n",
    "# 그말은 즉, (3,4)matrix가 두개 인것 처럼 해석하라\n",
    "print(x)\n",
    "print(x.ndim)\n",
    "print(x.shape)\n",
    "print(x.size)"
   ]
  },
  {
   "cell_type": "code",
   "execution_count": 39,
   "metadata": {},
   "outputs": [
    {
     "name": "stdout",
     "output_type": "stream",
     "text": [
      "original\n",
      "[[[5 8 9 5]\n",
      "  [0 0 1 7]\n",
      "  [6 9 2 4]]\n",
      "\n",
      " [[5 2 4 2]\n",
      "  [4 7 7 9]\n",
      "  [1 7 0 6]]]\n",
      "------------------------------\n",
      "flatten\n",
      "[5 8 9 5 0 0 1 7 6 9 2 4 5 2 4 2 4 7 7 9 1 7 0 6]\n",
      "------------------------------\n",
      "reshape\n",
      "[[[5 8 9 5]\n",
      "  [0 0 1 7]\n",
      "  [6 9 2 4]]\n",
      "\n",
      " [[5 2 4 2]\n",
      "  [4 7 7 9]\n",
      "  [1 7 0 6]]]\n"
     ]
    }
   ],
   "source": [
    "print('original')\n",
    "print(x)\n",
    "print('-'*30)\n",
    "\n",
    "print('flatten')\n",
    "print(x.flatten())\n",
    "print('-'*30)\n",
    "\n",
    "print('reshape')\n",
    "print(x.reshape(2,3,4))"
   ]
  },
  {
   "cell_type": "code",
   "execution_count": 40,
   "metadata": {},
   "outputs": [
    {
     "name": "stdout",
     "output_type": "stream",
     "text": [
      "3\n"
     ]
    }
   ],
   "source": [
    "# array 접근과 편집(slicing)\n",
    "x = np.array([0,3,5,2,4,6])  # 1차원\n",
    "print(x[1])"
   ]
  },
  {
   "cell_type": "code",
   "execution_count": 41,
   "metadata": {},
   "outputs": [
    {
     "name": "stdout",
     "output_type": "stream",
     "text": [
      "Help on NoneType object:\n",
      "\n",
      "class NoneType(object)\n",
      " |  Methods defined here:\n",
      " |  \n",
      " |  __bool__(self, /)\n",
      " |      self != 0\n",
      " |  \n",
      " |  __new__(*args, **kwargs) from builtins.type\n",
      " |      Create and return a new object.  See help(type) for accurate signature.\n",
      " |  \n",
      " |  __repr__(self, /)\n",
      " |      Return repr(self).\n",
      "\n"
     ]
    }
   ],
   "source": [
    "help(np.newaxis)"
   ]
  },
  {
   "cell_type": "code",
   "execution_count": 42,
   "metadata": {},
   "outputs": [
    {
     "name": "stdout",
     "output_type": "stream",
     "text": [
      "[0 3 5 2 4 6] \n",
      "\n",
      "[[0 3 5 2 4 6]] \n",
      "\n",
      "[[0]\n",
      " [3]\n",
      " [5]\n",
      " [2]\n",
      " [4]\n",
      " [6]] \n",
      "\n",
      "[[0 3 5 2 4 6]] \n",
      "\n",
      "[[0]\n",
      " [3]\n",
      " [5]\n",
      " [2]\n",
      " [4]\n",
      " [6]] \n",
      "\n",
      "[[0]\n",
      " [3]\n",
      " [5]\n",
      " [2]\n",
      " [4]\n",
      " [6]] \n",
      "\n",
      "[0 3 5 2 4 6] \n",
      "\n"
     ]
    }
   ],
   "source": [
    "print(x, '\\n') #1-d vector\n",
    "\n",
    "x1 =x[np.newaxis, :] # 2-d vector(행백터)\n",
    "print(x1, '\\n')\n",
    "\n",
    "x2=x[:,np.newaxis] # 2-d vector(열백터)\n",
    "print(x2, '\\n')\n",
    "\n",
    "x3=x.reshape(1,6) # 2-d vector(행백터)\n",
    "print(x3, '\\n')\n",
    "\n",
    "x4=x.reshape(6,1) # 2-d vector(열백터)\n",
    "print(x4, '\\n')\n",
    "\n",
    "x5=np.reshape(x,(6,1)) # reshape 다른 표기법\n",
    "print(x5, '\\n')\n",
    "\n",
    "x6=x5.flatten()\n",
    "print(x6, '\\n')"
   ]
  },
  {
   "cell_type": "code",
   "execution_count": 43,
   "metadata": {},
   "outputs": [
    {
     "data": {
      "text/plain": [
       "array([3, 5])"
      ]
     },
     "execution_count": 43,
     "metadata": {},
     "output_type": "execute_result"
    }
   ],
   "source": [
    "x[1:3]   "
   ]
  },
  {
   "cell_type": "code",
   "execution_count": 44,
   "metadata": {},
   "outputs": [
    {
     "data": {
      "text/plain": [
       "array([3, 5, 2])"
      ]
     },
     "execution_count": 44,
     "metadata": {},
     "output_type": "execute_result"
    }
   ],
   "source": [
    "x[1:-2]"
   ]
  },
  {
   "cell_type": "code",
   "execution_count": 18,
   "metadata": {},
   "outputs": [
    {
     "data": {
      "text/plain": [
       "array([0, 5, 4])"
      ]
     },
     "execution_count": 18,
     "metadata": {},
     "output_type": "execute_result"
    }
   ],
   "source": [
    "x[::2]    # x[start:stop:step], x[start:stop:step,start:stop:step]"
   ]
  },
  {
   "cell_type": "code",
   "execution_count": 19,
   "metadata": {},
   "outputs": [
    {
     "data": {
      "text/plain": [
       "array([0, 3])"
      ]
     },
     "execution_count": 19,
     "metadata": {},
     "output_type": "execute_result"
    }
   ],
   "source": [
    "x[:2]"
   ]
  },
  {
   "cell_type": "code",
   "execution_count": 20,
   "metadata": {},
   "outputs": [
    {
     "data": {
      "text/plain": [
       "array([6, 4, 2, 5, 3, 0])"
      ]
     },
     "execution_count": 20,
     "metadata": {},
     "output_type": "execute_result"
    }
   ],
   "source": [
    "x[::-1]   # 역순으로"
   ]
  },
  {
   "cell_type": "code",
   "execution_count": 21,
   "metadata": {},
   "outputs": [
    {
     "data": {
      "text/plain": [
       "array([6, 2, 3])"
      ]
     },
     "execution_count": 21,
     "metadata": {},
     "output_type": "execute_result"
    }
   ],
   "source": [
    "x[5::-2] # 역순으로 두칸식"
   ]
  },
  {
   "cell_type": "code",
   "execution_count": 50,
   "metadata": {},
   "outputs": [
    {
     "name": "stdout",
     "output_type": "stream",
     "text": [
      "(3, 3) \n",
      "\n",
      "[[1 2 3]\n",
      " [4 5 6]\n",
      " [7 8 9]] \n",
      "\n",
      "[[1 2 3]\n",
      " [4 5 6]] \n",
      "\n",
      "[[1 2]\n",
      " [4 5]]\n"
     ]
    }
   ],
   "source": [
    "x = np.array([[1,2,3], [4,5,6], [7,8,9]])\n",
    "print(x.shape, '\\n')\n",
    "print(x, '\\n')\n",
    "print(x[:2,:],'\\n')\n",
    "print(x[:2, :2])"
   ]
  },
  {
   "cell_type": "code",
   "execution_count": 23,
   "metadata": {},
   "outputs": [
    {
     "data": {
      "text/plain": [
       "array([1, 4, 7])"
      ]
     },
     "execution_count": 23,
     "metadata": {},
     "output_type": "execute_result"
    }
   ],
   "source": [
    "x[:, 0]   # 첫째 열"
   ]
  },
  {
   "cell_type": "code",
   "execution_count": 24,
   "metadata": {},
   "outputs": [
    {
     "data": {
      "text/plain": [
       "array([1, 2, 3])"
      ]
     },
     "execution_count": 24,
     "metadata": {},
     "output_type": "execute_result"
    }
   ],
   "source": [
    "x[0, :]   # 첫째 행"
   ]
  },
  {
   "cell_type": "code",
   "execution_count": 25,
   "metadata": {},
   "outputs": [
    {
     "data": {
      "text/plain": [
       "array([1, 2, 3])"
      ]
     },
     "execution_count": 25,
     "metadata": {},
     "output_type": "execute_result"
    }
   ],
   "source": [
    "x[0]"
   ]
  },
  {
   "cell_type": "code",
   "execution_count": 51,
   "metadata": {},
   "outputs": [
    {
     "data": {
      "text/plain": [
       "6"
      ]
     },
     "execution_count": 51,
     "metadata": {},
     "output_type": "execute_result"
    }
   ],
   "source": [
    "x_list = list(x)\n",
    "# list에서는 x[1][2]로 같은 동작을 수행하였음\n",
    "x[1][2] # list 호출방법"
   ]
  },
  {
   "cell_type": "code",
   "execution_count": 52,
   "metadata": {},
   "outputs": [
    {
     "data": {
      "text/plain": [
       "6"
      ]
     },
     "execution_count": 52,
     "metadata": {},
     "output_type": "execute_result"
    }
   ],
   "source": [
    "x[1, 2] # array 호출 방법 "
   ]
  },
  {
   "cell_type": "markdown",
   "metadata": {},
   "source": [
    "### 객체화와 카피\n",
    "- 일반적으로 데이터를 슬라이싱해오면 수정시 원본 데이터에도 영향 O\n",
    "- 이를 방지하기 위해 개체를 따로 복제해서 오는 매서드인 .copy()를 이용하면 해결 가능"
   ]
  },
  {
   "cell_type": "code",
   "execution_count": 53,
   "metadata": {},
   "outputs": [
    {
     "data": {
      "text/plain": [
       "array([[99,  2,  3],\n",
       "       [ 4,  5,  6],\n",
       "       [ 7,  8,  9]])"
      ]
     },
     "execution_count": 53,
     "metadata": {},
     "output_type": "execute_result"
    }
   ],
   "source": [
    "x[0, 0] = 99\n",
    "x"
   ]
  },
  {
   "cell_type": "code",
   "execution_count": 54,
   "metadata": {},
   "outputs": [
    {
     "data": {
      "text/plain": [
       "array([[99,  2],\n",
       "       [ 4,  5]])"
      ]
     },
     "execution_count": 54,
     "metadata": {},
     "output_type": "execute_result"
    }
   ],
   "source": [
    "x1 = x[:2, :2]\n",
    "x1"
   ]
  },
  {
   "cell_type": "code",
   "execution_count": 55,
   "metadata": {},
   "outputs": [
    {
     "data": {
      "text/plain": [
       "array([[99, 99],\n",
       "       [ 4,  5]])"
      ]
     },
     "execution_count": 55,
     "metadata": {},
     "output_type": "execute_result"
    }
   ],
   "source": [
    "x1[0, 1] = 99\n",
    "x1"
   ]
  },
  {
   "cell_type": "code",
   "execution_count": 56,
   "metadata": {},
   "outputs": [
    {
     "name": "stdout",
     "output_type": "stream",
     "text": [
      "[[99 99  3]\n",
      " [ 4  5  6]\n",
      " [ 7  8  9]]\n"
     ]
    }
   ],
   "source": [
    "print(x)  # x1을 수정하면 x에도 반영이 됨. ∵뷰 형태로 x와 동일한 객체를 참조"
   ]
  },
  {
   "cell_type": "code",
   "execution_count": 57,
   "metadata": {},
   "outputs": [
    {
     "name": "stdout",
     "output_type": "stream",
     "text": [
      "2018511549984\n",
      "2018512845440\n"
     ]
    }
   ],
   "source": [
    "print(id(x));print(id(x1))    # 주소는 x와 다름"
   ]
  },
  {
   "cell_type": "code",
   "execution_count": 32,
   "metadata": {},
   "outputs": [
    {
     "name": "stdout",
     "output_type": "stream",
     "text": [
      "[[99 99  3]\n",
      " [ 4  5  6]\n",
      " [ 7  8  9]]\n"
     ]
    }
   ],
   "source": [
    "x1_copy = x[:2, :2].copy()\n",
    "x1_copy[0, 0] = 1000  # x에 영향을 주지 않음\n",
    "print(x)"
   ]
  },
  {
   "cell_type": "markdown",
   "metadata": {},
   "source": [
    "## [6.1] numpy의 차원 변경, 분할, 덧붙이기"
   ]
  },
  {
   "cell_type": "code",
   "execution_count": 61,
   "metadata": {},
   "outputs": [
    {
     "name": "stdout",
     "output_type": "stream",
     "text": [
      "[1 2 3]\n",
      "[1 2 3]\n",
      "[1 2 3]\n",
      "[[1 2 3]]\n",
      "[[1]\n",
      " [2]\n",
      " [3]]\n"
     ]
    }
   ],
   "source": [
    "# 차원 변경\n",
    "import numpy as np\n",
    "\n",
    "# 1-d tensor\n",
    "x = np.array([1, 2, 3])\n",
    "print(x)\n",
    "x.reshape(1, 3)\n",
    "print(x)\n",
    "x.reshape(3,1)\n",
    "print(x)\n",
    "\n",
    "# 2-d tensor\n",
    "x.reshape((1, 3))  # 2차원 행벡터화([]가 한 겹 더 생겼음)\n",
    "print(x[np.newaxis, :])\n",
    "x.reshape((3, 1))  # 2차원 열벡터화\n",
    "print(x[:, np.newaxis])"
   ]
  },
  {
   "cell_type": "code",
   "execution_count": 35,
   "metadata": {},
   "outputs": [
    {
     "name": "stdout",
     "output_type": "stream",
     "text": [
      "[[[9 9 7 6]\n",
      "  [9 1 0 1]\n",
      "  [8 8 3 9]]\n",
      "\n",
      " [[8 7 3 6]\n",
      "  [5 1 9 3]\n",
      "  [4 8 1 4]]\n",
      "\n",
      " [[0 3 9 2]\n",
      "  [0 4 9 2]\n",
      "  [7 7 9 8]]]\n",
      "---------------------------\n",
      "[[9 9 7 6 9 1 0 1 8 8 3 9]\n",
      " [8 7 3 6 5 1 9 3 4 8 1 4]\n",
      " [0 3 9 2 0 4 9 2 7 7 9 8]]\n",
      "(3, 12)\n"
     ]
    },
    {
     "data": {
      "text/plain": [
       "3"
      ]
     },
     "execution_count": 35,
     "metadata": {},
     "output_type": "execute_result"
    }
   ],
   "source": [
    "# 3-d tensor\n",
    "x = np.random.randint(10, size=(3,3,4))\n",
    "print(x)\n",
    "print('---------------------------')\n",
    "# 2-d tensor\n",
    "x1 = x.reshape((3, 12))  # 3 by 4 행렬의 각 행을 옆으로 붙임\n",
    "print(x1)\n",
    "x2=x.reshape((-1,12))\n",
    "print(np.shape(x2))\n",
    "x.shape[1]"
   ]
  },
  {
   "cell_type": "code",
   "execution_count": 36,
   "metadata": {},
   "outputs": [
    {
     "name": "stdout",
     "output_type": "stream",
     "text": [
      "[1 2] [3 4 5 6] [7 8]\n",
      "[100   2]\n"
     ]
    }
   ],
   "source": [
    "# 분할\n",
    "x = [1, 2, 3, 4, 5, 6, 7, 8]\n",
    "x1, x2, x3 = np.split(x, [2,6])\n",
    "print(x1, x2, x3)\n",
    "x1[0] = 100  # 분할된 변수의 변경은 x에 반영되지 않음\n",
    "print(x1)"
   ]
  },
  {
   "cell_type": "code",
   "execution_count": 37,
   "metadata": {},
   "outputs": [
    {
     "name": "stdout",
     "output_type": "stream",
     "text": [
      "[[0.46923853 0.09617226 0.90337017 0.11949047]\n",
      " [0.52479938 0.083623   0.91686133 0.91044838]\n",
      " [0.29893011 0.58438912 0.56591203 0.61393832]\n",
      " [0.95653566 0.26097898 0.23101542 0.53344849]]\n"
     ]
    }
   ],
   "source": [
    "x = np.random.random((4, 4));print(x)"
   ]
  },
  {
   "cell_type": "code",
   "execution_count": 38,
   "metadata": {},
   "outputs": [
    {
     "name": "stdout",
     "output_type": "stream",
     "text": [
      "[[0.46923853 0.09617226 0.90337017 0.11949047]\n",
      " [0.52479938 0.083623   0.91686133 0.91044838]]\n",
      "--------------------------------------------------\n",
      "[[0.29893011 0.58438912 0.56591203 0.61393832]\n",
      " [0.95653566 0.26097898 0.23101542 0.53344849]]\n"
     ]
    }
   ],
   "source": [
    "x1, x2 = np.vsplit(x, [2])  # 세로를 분할\n",
    "print(x1)\n",
    "print('--------------------------------------------------')\n",
    "print(x2)"
   ]
  },
  {
   "cell_type": "code",
   "execution_count": 39,
   "metadata": {},
   "outputs": [
    {
     "name": "stdout",
     "output_type": "stream",
     "text": [
      "[[0.46923853 0.09617226]\n",
      " [0.52479938 0.083623  ]\n",
      " [0.29893011 0.58438912]\n",
      " [0.95653566 0.26097898]]\n",
      "---------------------------\n",
      "[[0.90337017 0.11949047]\n",
      " [0.91686133 0.91044838]\n",
      " [0.56591203 0.61393832]\n",
      " [0.23101542 0.53344849]]\n"
     ]
    }
   ],
   "source": [
    "y1, y2 = np.hsplit(x, [2])  # 가로를 분할\n",
    "print(y1)\n",
    "print('---------------------------')\n",
    "print(y2)"
   ]
  },
  {
   "cell_type": "code",
   "execution_count": 40,
   "metadata": {},
   "outputs": [
    {
     "data": {
      "text/plain": [
       "array([1, 2, 2, 3, 4, 5])"
      ]
     },
     "execution_count": 40,
     "metadata": {},
     "output_type": "execute_result"
    }
   ],
   "source": [
    "# 덧붙이기\n",
    "x = np.array([1, 2])\n",
    "y = np.array([2, 3])\n",
    "z = np.array([4, 5])\n",
    "\n",
    "# observation 늘리기\n",
    "np.concatenate([x, y, z])"
   ]
  },
  {
   "cell_type": "code",
   "execution_count": 41,
   "metadata": {},
   "outputs": [
    {
     "name": "stdout",
     "output_type": "stream",
     "text": [
      "[[1 2 3]\n",
      " [4 5 6]\n",
      " [2 4 6]\n",
      " [8 7 6]]\n",
      "---------------------------\n",
      "[[1 2 3 2 4 6]\n",
      " [4 5 6 8 7 6]]\n"
     ]
    }
   ],
   "source": [
    "xx = np.array([[1,2,3], [4,5,6]])\n",
    "yy = np.array([[2,4,6], [8,7,6]])\n",
    "print(np.concatenate([xx, yy]))          # 아래로 붙임\n",
    "print('---------------------------')\n",
    "print(np.concatenate([xx, yy], axis=1))  # 옆으로 붙임"
   ]
  },
  {
   "cell_type": "code",
   "execution_count": 42,
   "metadata": {},
   "outputs": [
    {
     "data": {
      "text/plain": [
       "array([[55, 66, 77],\n",
       "       [ 1,  2,  3],\n",
       "       [ 4,  5,  6]])"
      ]
     },
     "execution_count": 42,
     "metadata": {},
     "output_type": "execute_result"
    }
   ],
   "source": [
    "zz = np.array([55, 66, 77])\n",
    "np.vstack([zz, xx])  # 세로로 쌓기. np.concatenate([zz.reshape((1,3)), xx])과 결과 동일"
   ]
  },
  {
   "cell_type": "code",
   "execution_count": 43,
   "metadata": {},
   "outputs": [
    {
     "data": {
      "text/plain": [
       "array([[100,   1,   2,   3],\n",
       "       [200,   4,   5,   6]])"
      ]
     },
     "execution_count": 43,
     "metadata": {},
     "output_type": "execute_result"
    }
   ],
   "source": [
    "ww = np.array([[100], [200]])  # 열벡터\n",
    "np.hstack([ww, xx])  # 가로로 쌓기"
   ]
  },
  {
   "cell_type": "markdown",
   "metadata": {},
   "source": [
    "## [6.2] numpy 연산"
   ]
  },
  {
   "cell_type": "code",
   "execution_count": 45,
   "metadata": {},
   "outputs": [
    {
     "name": "stdout",
     "output_type": "stream",
     "text": [
      "[4 5 6 7]\n",
      "[-2 -1  0  1]\n",
      "[ 3  6  9 12]\n",
      "[0.33333333 0.66666667 1.         1.33333333]\n",
      "[ 1  8 27 64]\n",
      "[-2.25 -4.   -6.25 -9.  ]\n"
     ]
    }
   ],
   "source": [
    "# broadcasting\n",
    "x = np.array([1, 2, 3, 4])\n",
    "print(x+3)\n",
    "print(x-3)\n",
    "print(x*3)\n",
    "print(x/3)\n",
    "print(x**3)\n",
    "print(-(0.5*x+1)**2)"
   ]
  },
  {
   "cell_type": "code",
   "execution_count": 46,
   "metadata": {},
   "outputs": [
    {
     "name": "stdout",
     "output_type": "stream",
     "text": [
      "[ 2.71828183  7.3890561  20.08553692 54.59815003]\n",
      "[ 3  9 27 81]\n",
      "[0.         0.69314718 1.09861229 1.38629436]\n",
      "[0.        1.        1.5849625 2.       ]\n",
      "[0.         0.30103    0.47712125 0.60205999]\n"
     ]
    }
   ],
   "source": [
    "# broadcasting\n",
    "print(np.exp(x))\n",
    "print(np.power(3, x))\n",
    "print(np.log(x))\n",
    "print(np.log2(x))\n",
    "print(np.log10(x))"
   ]
  },
  {
   "cell_type": "code",
   "execution_count": 47,
   "metadata": {},
   "outputs": [
    {
     "name": "stdout",
     "output_type": "stream",
     "text": [
      "[[1. 1. 1.]\n",
      " [1. 1. 1.]\n",
      " [1. 1. 1.]]\n"
     ]
    }
   ],
   "source": [
    "M = np.ones((3, 3))\n",
    "print(M)"
   ]
  },
  {
   "cell_type": "code",
   "execution_count": 48,
   "metadata": {},
   "outputs": [
    {
     "name": "stdout",
     "output_type": "stream",
     "text": [
      "[[2. 2. 2.]\n",
      " [2. 2. 2.]\n",
      " [2. 2. 2.]]\n"
     ]
    }
   ],
   "source": [
    "M1 = M + 1\n",
    "print(M1)"
   ]
  },
  {
   "cell_type": "code",
   "execution_count": 49,
   "metadata": {},
   "outputs": [
    {
     "name": "stdout",
     "output_type": "stream",
     "text": [
      "[[2. 3. 4.]\n",
      " [2. 3. 4.]\n",
      " [2. 3. 4.]]\n"
     ]
    }
   ],
   "source": [
    "a = np.array([1, 2, 3])\n",
    "M2 = M + a  # row by row로 연산 수행\n",
    "print(M2)"
   ]
  },
  {
   "cell_type": "code",
   "execution_count": 50,
   "metadata": {},
   "outputs": [
    {
     "name": "stdout",
     "output_type": "stream",
     "text": [
      "[0 1 2]\n",
      "[[0]\n",
      " [1]\n",
      " [2]]\n",
      "---------------------------\n",
      "[[0 1 2]\n",
      " [1 2 3]\n",
      " [2 3 4]]\n"
     ]
    }
   ],
   "source": [
    "a = np.arange(3)\n",
    "b = np.arange(3)[:, np.newaxis]\n",
    "print(a);print(b)\n",
    "print('---------------------------')\n",
    "print(a+b)"
   ]
  },
  {
   "cell_type": "code",
   "execution_count": 63,
   "metadata": {},
   "outputs": [
    {
     "name": "stdout",
     "output_type": "stream",
     "text": [
      "[[2 0 0 6]\n",
      " [2 4 9 3]\n",
      " [4 2 6 5]]\n"
     ]
    }
   ],
   "source": [
    "# 기초통계량 계산\n",
    "np.random.seed(13)\n",
    "x = np.random.randint(10, size=(3,4))\n",
    "print(x)"
   ]
  },
  {
   "cell_type": "code",
   "execution_count": 65,
   "metadata": {},
   "outputs": [
    {
     "name": "stdout",
     "output_type": "stream",
     "text": [
      "43\n",
      "[ 8 18 17]\n",
      "[ 8  6 15 14]\n",
      "[0 2 2]\n",
      "[6 9 6]\n",
      "[2.66666667 2.         5.         4.66666667]\n",
      "[0.94280904 1.63299316 3.74165739 1.24721913]\n"
     ]
    }
   ],
   "source": [
    "# 연산의 axis는 across의 개념으로 생각\n",
    "# 합\n",
    "print(np.sum(x))           # 원소의 총 합계\n",
    "print(np.sum(x, axis = 1)) # 원소의 행 총 합계\n",
    "print(np.sum(x, axis = 0)) # 원소의 열 총 합계\n",
    "\n",
    "# 최소, 최대\n",
    "print(np.min(x, axis=1))   # 각 행의 최소값\n",
    "print(np.max(x, axis=1))   # 각 행의 최대값\n",
    "\n",
    "# 평균, 표준편차\n",
    "print(np.mean(x, axis=0))  # 각 열의 평균\n",
    "print(np.std(x, axis=0))   # 각 열의 표준편차"
   ]
  },
  {
   "cell_type": "code",
   "execution_count": 68,
   "metadata": {
    "collapsed": true,
    "jupyter": {
     "outputs_hidden": true
    }
   },
   "outputs": [
    {
     "name": "stdout",
     "output_type": "stream",
     "text": [
      "[[-0.70710678 -1.22474487 -1.33630621  1.06904497]\n",
      " [-0.70710678  1.22474487  1.06904497 -1.33630621]\n",
      " [ 1.41421356  0.          0.26726124  0.26726124]]\n",
      "--------------------------------------------------\n",
      "[ 4.44089210e-16  0.00000000e+00  1.11022302e-16 -7.77156117e-16]\n"
     ]
    }
   ],
   "source": [
    "# 표준편차\n",
    "x_std = (x - np.mean(x, axis=0))/np.std(x, axis=0)\n",
    "print(x_std)\n",
    "print('-'*50)\n",
    "print(np.sum(x_std, axis=0))"
   ]
  },
  {
   "cell_type": "markdown",
   "metadata": {},
   "source": [
    "## [6.2] 논리 인덱싱(Boolean indexing)과 순서 정렬(Sorting) ###"
   ]
  },
  {
   "cell_type": "code",
   "execution_count": 54,
   "metadata": {},
   "outputs": [
    {
     "name": "stdout",
     "output_type": "stream",
     "text": [
      "[[1 2 3 4]\n",
      " [5 6 7 8]]\n"
     ]
    }
   ],
   "source": [
    "import numpy as np\n",
    "x = np.array([[1,2,3,4], [5,6,7,8]]); print(x)"
   ]
  },
  {
   "cell_type": "code",
   "execution_count": 69,
   "metadata": {},
   "outputs": [
    {
     "name": "stdout",
     "output_type": "stream",
     "text": [
      "[[False False False  True]\n",
      " [False False  True False]\n",
      " [False False  True  True]]\n",
      "4\n",
      "[1 1 2]\n",
      "[0 0 2 2]\n"
     ]
    }
   ],
   "source": [
    "print(x >= 5)\n",
    "print(np.sum(x>=5)) # 조건을 중족하는 것의 합\n",
    "print(np.sum(x>=5, axis=1))  # 각 행별로 연산\n",
    "print(np.sum(x>=5, axis=0))  # 각 열별로 연산"
   ]
  },
  {
   "cell_type": "code",
   "execution_count": 73,
   "metadata": {},
   "outputs": [
    {
     "name": "stdout",
     "output_type": "stream",
     "text": [
      "False\n",
      "False\n",
      "[ True  True False  True]\n"
     ]
    }
   ],
   "source": [
    "print(np.any(x>100))         # 하나라도 있는가\n",
    "print(np.all(x==7))           # 전부다 만족하는가\n",
    "print(np.all(x<7, axis=0))   # 각 열별로 연산"
   ]
  },
  {
   "cell_type": "code",
   "execution_count": 74,
   "metadata": {},
   "outputs": [
    {
     "name": "stdout",
     "output_type": "stream",
     "text": [
      "[[ 1  2  3  4]\n",
      " [ 5  6  7  8]\n",
      " [ 9 10 11 12]\n",
      " [13 14 15 16]]\n",
      "[1 0 1 0]\n",
      "[False  True False  True]\n",
      "[[ 5  6  7  8]\n",
      " [13 14 15 16]]\n",
      "---------------------------\n",
      "[[ 2  4]\n",
      " [ 6  8]\n",
      " [10 12]\n",
      " [14 16]]\n"
     ]
    }
   ],
   "source": [
    "# 논리 인덱싱\n",
    "x = np.array([[1,2,3,4], [5,6,7,8], [9,10,11,12], [13,14,15,16]])\n",
    "print(x)\n",
    "y = np.array([1,0,1,0])\n",
    "print(y)\n",
    "print(y==0)\n",
    "print(x[y==0, :])  # y=0인 행과 모든 열(논리식에 의한 호출)\n",
    "print('---------------------------')\n",
    "print(x[:, y==0])  # 모든 행과 y=0인 열"
   ]
  },
  {
   "cell_type": "code",
   "execution_count": 58,
   "metadata": {},
   "outputs": [
    {
     "name": "stdout",
     "output_type": "stream",
     "text": [
      "[11 22 33 44 55 66 77 88 99]\n",
      "[33 44 99]\n",
      "---------------------------\n",
      "[[33 22 44]\n",
      " [66 33 88]]\n"
     ]
    }
   ],
   "source": [
    "# array를 활용한 인덱싱\n",
    "x = np.array([11, 22, 33, 44, 55, 66, 77, 88, 99])\n",
    "print(x)\n",
    "ind1 = np.array([2, 3, 8])\n",
    "ind2 = np.array([[2,1,3], [5,2,7]])\n",
    "x1 = x[ind1]\n",
    "x2 = x[ind2]\n",
    "print(x1)\n",
    "print('---------------------------')\n",
    "print(x2)"
   ]
  },
  {
   "cell_type": "code",
   "execution_count": 84,
   "metadata": {},
   "outputs": [
    {
     "name": "stdout",
     "output_type": "stream",
     "text": [
      "[[ 0  1  2  3]\n",
      " [ 4  5  6  7]\n",
      " [ 8  9 10 11]]\n",
      "ind : [1 3]\n",
      "~ind : [-2 -4]\n",
      "[[ 2  0]\n",
      " [ 6  4]\n",
      " [10  8]]\n"
     ]
    }
   ],
   "source": [
    "# not(~) array를 활용한 인덱싱\n",
    "x = np.arange(12).reshape((3,4))\n",
    "print(x)\n",
    "\n",
    "ind = np.array([1,3])\n",
    "print('ind : {}'.format(ind))\n",
    "print('~ind : {}'.format(~ind))\n",
    "\n",
    "xx = x[:,~ind]\n",
    "print(xx)"
   ]
  },
  {
   "cell_type": "code",
   "execution_count": 92,
   "metadata": {},
   "outputs": [
    {
     "name": "stdout",
     "output_type": "stream",
     "text": [
      "[[ 0  1  2  3]\n",
      " [ 4  5  6  7]\n",
      " [ 8  9 10 11]]\n",
      "y1: [1 2 2]\n",
      "y2: [2 0 1]\n",
      "---------------------------\n",
      "[[ 4  5  6  7]\n",
      " [ 8  9 10 11]\n",
      " [ 8  9 10 11]]\n",
      "[[ 2  0  1]\n",
      " [ 6  4  5]\n",
      " [10  8  9]]\n",
      "[6 8 9]\n",
      "[6 8 9]\n",
      "---------------------------\n",
      "[[1]\n",
      " [2]\n",
      " [2]]\n",
      "[[[ 4  5  6  7]]\n",
      "\n",
      " [[ 8  9 10 11]]\n",
      "\n",
      " [[ 8  9 10 11]]]\n",
      "[[ 6  4  5]\n",
      " [10  8  9]\n",
      " [10  8  9]]\n"
     ]
    }
   ],
   "source": [
    "x = np.arange(12).reshape((3,4))\n",
    "print(x)\n",
    "y1 = np.array([1, 2, 2])\n",
    "y2 = np.array([2, 0, 1])\n",
    "print('y1: {}'.format(y1))\n",
    "print('y2: {}'.format(y2))\n",
    "print('---------------------------')\n",
    "print(x[[1,2,2], :])\n",
    "print(x[:, [2,0,1]])\n",
    "print(x[[1,2,2], [2,0,1]])\n",
    "print(x[y1, y2])\n",
    "print('---------------------------')\n",
    "# 인덱싱에서의 브로드캐스팅 : 책 참고\n",
    "y3=y1[:,np.newaxis]\n",
    "print(y3)\n",
    "print(x[y3, :])\n",
    "print(x[y3, y2])"
   ]
  },
  {
   "cell_type": "markdown",
   "metadata": {},
   "source": [
    "### 순서 정렬"
   ]
  },
  {
   "cell_type": "code",
   "execution_count": 93,
   "metadata": {},
   "outputs": [
    {
     "data": {
      "text/plain": [
       "array([2, 4, 3, 1, 5])"
      ]
     },
     "execution_count": 93,
     "metadata": {},
     "output_type": "execute_result"
    }
   ],
   "source": [
    "x = np.array([2, 4, 3, 1, 5])\n",
    "x"
   ]
  },
  {
   "cell_type": "code",
   "execution_count": 95,
   "metadata": {},
   "outputs": [
    {
     "name": "stdout",
     "output_type": "stream",
     "text": [
      "[1 2 3 4 5]\n"
     ]
    }
   ],
   "source": [
    "# 순서 정렬\n",
    "print(np.sort(x))"
   ]
  },
  {
   "cell_type": "code",
   "execution_count": 94,
   "metadata": {},
   "outputs": [
    {
     "name": "stdout",
     "output_type": "stream",
     "text": [
      "[3 0 2 1 4]\n"
     ]
    }
   ],
   "source": [
    "# sort한 것의 index\n",
    "ind = np.argsort(x) \n",
    "print(ind) "
   ]
  },
  {
   "cell_type": "code",
   "execution_count": 63,
   "metadata": {},
   "outputs": [
    {
     "data": {
      "text/plain": [
       "array([[[5, 3, 1, 4],\n",
       "        [6, 4, 7, 6],\n",
       "        [2, 3, 9, 9]],\n",
       "\n",
       "       [[7, 3, 5, 6],\n",
       "        [8, 4, 6, 9],\n",
       "        [4, 9, 6, 2]]])"
      ]
     },
     "execution_count": 63,
     "metadata": {},
     "output_type": "execute_result"
    }
   ],
   "source": [
    "import numpy as np\n",
    "x=np.random.randint(1,10, size=(2,3,4))\n",
    "x"
   ]
  },
  {
   "cell_type": "code",
   "execution_count": 64,
   "metadata": {},
   "outputs": [
    {
     "data": {
      "text/plain": [
       "array([[2, 3, 9, 9],\n",
       "       [4, 9, 6, 2]])"
      ]
     },
     "execution_count": 64,
     "metadata": {},
     "output_type": "execute_result"
    }
   ],
   "source": [
    "x1=x[:,-1,:]\n",
    "x1"
   ]
  }
 ],
 "metadata": {
  "kernelspec": {
   "display_name": "Python 3",
   "language": "python",
   "name": "python3"
  },
  "language_info": {
   "codemirror_mode": {
    "name": "ipython",
    "version": 3
   },
   "file_extension": ".py",
   "mimetype": "text/x-python",
   "name": "python",
   "nbconvert_exporter": "python",
   "pygments_lexer": "ipython3",
   "version": "3.6.10"
  }
 },
 "nbformat": 4,
 "nbformat_minor": 4
}
