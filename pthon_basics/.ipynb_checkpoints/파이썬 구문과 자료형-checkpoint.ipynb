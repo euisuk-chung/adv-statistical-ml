{
 "cells": [
  {
   "cell_type": "markdown",
   "metadata": {},
   "source": [
    "# [1] 파이썬의 구문"
   ]
  },
  {
   "cell_type": "code",
   "execution_count": 2,
   "metadata": {},
   "outputs": [
    {
     "name": "stdout",
     "output_type": "stream",
     "text": [
      "Welcome to Python.\n",
      "It is fun learning Python.\n",
      "Welcome to Python\n",
      "It is fun learning Python.\n"
     ]
    }
   ],
   "source": [
    "# 문자 출력\n",
    "print('Welcome to Python.')\n",
    "print('It is fun learning Python.')\n",
    "print('Welcome to Python'); print('It is fun learning Python.')"
   ]
  },
  {
   "cell_type": "code",
   "execution_count": 3,
   "metadata": {},
   "outputs": [
    {
     "data": {
      "text/plain": [
       "130"
      ]
     },
     "execution_count": 3,
     "metadata": {},
     "output_type": "execute_result"
    }
   ],
   "source": [
    "# 줄 바꾸기\n",
    "sum = 10 + 20 + \\\n",
    "      30 + 40 + \\\n",
    "      30\n",
    "sum\n"
   ]
  },
  {
   "cell_type": "code",
   "execution_count": 4,
   "metadata": {},
   "outputs": [
    {
     "name": "stdout",
     "output_type": "stream",
     "text": [
      "This is inside block\n",
      "This is outside of block\n"
     ]
    }
   ],
   "source": [
    "# 블록(Block), 들여쓰기(Indentation)\n",
    "if 10>3:\n",
    "    print('This is inside block')\n",
    "print('This is outside of block')"
   ]
  },
  {
   "cell_type": "markdown",
   "metadata": {},
   "source": [
    "# [2] 변수와 자료형태"
   ]
  },
  {
   "cell_type": "code",
   "execution_count": 6,
   "metadata": {},
   "outputs": [
    {
     "data": {
      "text/plain": [
       "int"
      ]
     },
     "execution_count": 6,
     "metadata": {},
     "output_type": "execute_result"
    }
   ],
   "source": [
    "# 변수의 입력\n",
    "name = 'Mike'  # string\n",
    "age = 15       # integer\n",
    "score = 102.5  # float\n",
    "passed = True  # boolean\n",
    "\n",
    "type(age)"
   ]
  },
  {
   "cell_type": "code",
   "execution_count": 7,
   "metadata": {},
   "outputs": [
    {
     "name": "stdout",
     "output_type": "stream",
     "text": [
      "4\n"
     ]
    }
   ],
   "source": [
    "## List ##\n",
    "cars = ['Honda', 'Toyota', 2002, 2015]  # cars는 리스트 객체를 참조(주소를 저장). 이름을 하나 더 짓는 개념\n",
    "print(len(cars))  # list의 길이"
   ]
  },
  {
   "cell_type": "code",
   "execution_count": 8,
   "metadata": {},
   "outputs": [
    {
     "name": "stdout",
     "output_type": "stream",
     "text": [
      "[0, 1, 2, 3, 4, 5, 6, 7, 8, 9]\n",
      "[50, 51, 52, 53, 54, 55, 56, 57, 58, 59, 60, 61, 62, 63, 64, 65, 66, 67, 68, 69, 70, 71, 72, 73, 74, 75, 76, 77, 78, 79, 80, 81, 82, 83, 84, 85, 86, 87, 88, 89, 90, 91, 92, 93, 94, 95, 96, 97, 98, 99, 100]\n"
     ]
    }
   ],
   "source": [
    "colors = ['red', 'green', 'white', 'yellow']\n",
    "nums = list(range(10))  # list 자료로 만들기\n",
    "print(nums)\n",
    "nums_1 = list(range(50,101))\n",
    "print(nums_1)"
   ]
  },
  {
   "cell_type": "code",
   "execution_count": 9,
   "metadata": {},
   "outputs": [
    {
     "name": "stdout",
     "output_type": "stream",
     "text": [
      "['red', 'green']\n",
      "['white', 'yellow']\n",
      "['green']\n",
      "['green', 'white']\n",
      "white\n"
     ]
    }
   ],
   "source": [
    "# 편집(일부 원소 접근)\n",
    "colors_1 = colors[:2]    # colors[0] - colors[2-1]\n",
    "print(colors_1)\n",
    "colors_2 = colors[-2:]   # colors[(4-2)+1] - colors[4]\n",
    "print(colors_2)\n",
    "colors_3 = colors[1:-2]  # colors[1] - colors[(4-2)-1]\n",
    "print(colors_3)\n",
    "colors_4 = colors[1:3]   # colors[1] - colors[3-1]\n",
    "print(colors_4)\n",
    "colors_5 = colors[2]   # colors[2]\n",
    "print(colors_5)"
   ]
  },
  {
   "cell_type": "code",
   "execution_count": 10,
   "metadata": {},
   "outputs": [
    {
     "name": "stdout",
     "output_type": "stream",
     "text": [
      "[[1, 15, 20, 36], [41, 20, 54, 47], [75, 46, 68, 2]]\n",
      "[41, 20, 54, 47]\n",
      "54\n"
     ]
    }
   ],
   "source": [
    "# 행렬: list 안의 list로 표현\n",
    "data = [[1, 15, 20, 36], [41, 20, 54, 47], [75, 46,68, 2]]; print(data)\n",
    "data_1 = data[1]; print(data_1)\n",
    "data_2 = data[1][2]; print(data_2)"
   ]
  },
  {
   "cell_type": "code",
   "execution_count": 11,
   "metadata": {},
   "outputs": [
    {
     "name": "stdout",
     "output_type": "stream",
     "text": [
      "['blue', 'white', 'yellow', 'red', 'black', 'orange']\n",
      "['blue', 'yellow', 'red', 'black', 'orange']\n",
      "['black', 'blue', 'orange', 'red', 'yellow']\n"
     ]
    }
   ],
   "source": [
    "colors = ['blue', 'white', 'yellow', 'red', 'black']\n",
    "colors.append('orange')  # 추가하기\n",
    "print(colors)\n",
    "colors.remove('white')   # 제거\n",
    "print(colors)\n",
    "colors.sort()            # 정렬\n",
    "print(colors)"
   ]
  },
  {
   "cell_type": "code",
   "execution_count": 12,
   "metadata": {},
   "outputs": [
    {
     "name": "stdout",
     "output_type": "stream",
     "text": [
      "['a', 'b', 'p', 'd']\n"
     ]
    }
   ],
   "source": [
    "## Tuiple ##\n",
    "abc_1 = ['a', 'b', 'c', 'd']  # list\n",
    "abc_1[2] = 'p' \n",
    "print(abc_1); "
   ]
  },
  {
   "cell_type": "code",
   "execution_count": 13,
   "metadata": {},
   "outputs": [
    {
     "ename": "TypeError",
     "evalue": "'tuple' object does not support item assignment",
     "output_type": "error",
     "traceback": [
      "\u001b[1;31m---------------------------------------------------------------------------\u001b[0m",
      "\u001b[1;31mTypeError\u001b[0m                                 Traceback (most recent call last)",
      "\u001b[1;32m<ipython-input-13-136a791855f6>\u001b[0m in \u001b[0;36m<module>\u001b[1;34m\u001b[0m\n\u001b[0;32m      1\u001b[0m \u001b[0mabc_2\u001b[0m \u001b[1;33m=\u001b[0m \u001b[1;33m(\u001b[0m\u001b[1;34m'a'\u001b[0m\u001b[1;33m,\u001b[0m \u001b[1;34m'b'\u001b[0m\u001b[1;33m,\u001b[0m \u001b[1;34m'c'\u001b[0m\u001b[1;33m,\u001b[0m \u001b[1;34m'd'\u001b[0m\u001b[1;33m)\u001b[0m  \u001b[1;31m# tuple\u001b[0m\u001b[1;33m\u001b[0m\u001b[1;33m\u001b[0m\u001b[0m\n\u001b[1;32m----> 2\u001b[1;33m \u001b[0mabc_2\u001b[0m\u001b[1;33m[\u001b[0m\u001b[1;36m2\u001b[0m\u001b[1;33m]\u001b[0m \u001b[1;33m=\u001b[0m \u001b[1;34m'p'\u001b[0m                \u001b[1;31m# Error 발생\u001b[0m\u001b[1;33m\u001b[0m\u001b[1;33m\u001b[0m\u001b[0m\n\u001b[0m",
      "\u001b[1;31mTypeError\u001b[0m: 'tuple' object does not support item assignment"
     ]
    }
   ],
   "source": [
    "abc_2 = ('a', 'b', 'c', 'd')  # tuple\n",
    "abc_2[2] = 'p'                # Error 발생"
   ]
  },
  {
   "cell_type": "code",
   "execution_count": 14,
   "metadata": {},
   "outputs": [
    {
     "name": "stdout",
     "output_type": "stream",
     "text": [
      "('a', 'b', 'c', 'd')\n"
     ]
    }
   ],
   "source": [
    "print(abc_2)"
   ]
  },
  {
   "cell_type": "code",
   "execution_count": 15,
   "metadata": {},
   "outputs": [
    {
     "name": "stdout",
     "output_type": "stream",
     "text": [
      "A\n",
      "B\n",
      "C\n"
     ]
    }
   ],
   "source": [
    "# 짝짓기\n",
    "name = 'A', 'B', 'C'\n",
    "type(name)\n",
    "K_1, K_2, K_3 = name\n",
    "print(K_1); print(K_2); print(K_3)"
   ]
  },
  {
   "cell_type": "code",
   "execution_count": 16,
   "metadata": {},
   "outputs": [
    {
     "name": "stdout",
     "output_type": "stream",
     "text": [
      "11 22\n",
      "22 11\n"
     ]
    }
   ],
   "source": [
    "# 스왑\n",
    "a, b = 11, 22; print(a, b)\n",
    "a, b = b, a\n",
    "print(a, b)"
   ]
  },
  {
   "cell_type": "code",
   "execution_count": 17,
   "metadata": {},
   "outputs": [
    {
     "name": "stdout",
     "output_type": "stream",
     "text": [
      "kia\n",
      "dict_keys(['name', 'model', 'color'])\n",
      "dict_values(['kia', 2019, 'white'])\n",
      "dict_items([('name', 'kia'), ('model', 2019), ('color', 'white')])\n"
     ]
    }
   ],
   "source": [
    "## Dictionary ##\n",
    "cars = {'name':'kia', 'model':2019, 'color':'white'}\n",
    "print(cars['name'])\n",
    "print(cars.keys())\n",
    "print(cars.values())\n",
    "print(cars.items())"
   ]
  },
  {
   "cell_type": "code",
   "execution_count": 18,
   "metadata": {},
   "outputs": [
    {
     "name": "stdout",
     "output_type": "stream",
     "text": [
      "{'name': 'kia', 'model': 2019, 'color': 'white', 'capacity': 1500}\n",
      "{'name': 'kia', 'model': 2020, 'color': 'white', 'capacity': 1500}\n",
      "{'name': 'kia', 'color': 'white', 'capacity': 1500}\n"
     ]
    }
   ],
   "source": [
    "cars['capacity'] = 1500  # 추가\n",
    "print(cars)\n",
    "cars['model'] = 2020     # 업데이트\n",
    "print(cars)\n",
    "del cars['model']        # 제거\n",
    "print(cars)"
   ]
  },
  {
   "cell_type": "markdown",
   "metadata": {},
   "source": [
    "# [3] 파이썬 기초 연산"
   ]
  },
  {
   "cell_type": "code",
   "execution_count": 20,
   "metadata": {},
   "outputs": [
    {
     "name": "stdout",
     "output_type": "stream",
     "text": [
      "15\n",
      "5\n",
      "50\n",
      "2.0\n",
      "2\n",
      "0\n",
      "100000\n"
     ]
    }
   ],
   "source": [
    "# 산술 연산\n",
    "N1 = 10\n",
    "N2 = 5\n",
    "print(N1+N2)\n",
    "print(N1-N2)\n",
    "print(N1*N2)\n",
    "print(N1/N2)\n",
    "print(N1//N2)\n",
    "print(N1%N2)\n",
    "print(N1**N2)"
   ]
  },
  {
   "cell_type": "code",
   "execution_count": 21,
   "metadata": {},
   "outputs": [
    {
     "name": "stdout",
     "output_type": "stream",
     "text": [
      "False\n",
      "True\n",
      "True\n"
     ]
    }
   ],
   "source": [
    "# 논리 연산\n",
    "N1 = True\n",
    "N2 = False\n",
    "print(N1 and N2)\n",
    "print(N1 or N2)\n",
    "print(not(N1 and N2))"
   ]
  },
  {
   "cell_type": "code",
   "execution_count": 22,
   "metadata": {},
   "outputs": [
    {
     "name": "stdout",
     "output_type": "stream",
     "text": [
      "False\n",
      "True\n",
      "True\n",
      "True\n",
      "False\n",
      "False\n"
     ]
    }
   ],
   "source": [
    "# 비교 연산\n",
    "N1 = 10\n",
    "N2 = 5\n",
    "print(N1==N2)\n",
    "print(N1!=N2)\n",
    "print(N1>N2)\n",
    "print(N1>=N2)\n",
    "print(N1<N2)\n",
    "print(N1<=N2)"
   ]
  },
  {
   "cell_type": "code",
   "execution_count": 23,
   "metadata": {},
   "outputs": [
    {
     "name": "stdout",
     "output_type": "stream",
     "text": [
      "15\n",
      "15\n",
      "5\n",
      "2.0\n",
      "0\n",
      "50\n",
      "100000\n"
     ]
    }
   ],
   "source": [
    "# 할당 연산\n",
    "N1 = 10; N2 = 5\n",
    "R = N1 + N2; print(R)\n",
    "N1 = 10; N2 = 5\n",
    "N1 += N2; print(N1)\n",
    "N1 = 10; N2 = 5\n",
    "N1 -= N2; print(N1)\n",
    "N1 = 10; N2 = 5\n",
    "N1 /= N2; print(N1)\n",
    "N1 = 10; N2 = 5\n",
    "N1 %= N2; print(N1)\n",
    "N1 = 10; N2 = 5\n",
    "N1 *= N2; print(N1)\n",
    "N1 = 10; N2 = 5\n",
    "N1 **= N2; print(N1)"
   ]
  },
  {
   "cell_type": "code",
   "execution_count": 24,
   "metadata": {},
   "outputs": [
    {
     "name": "stdout",
     "output_type": "stream",
     "text": [
      "True\n",
      "False\n",
      "True\n"
     ]
    }
   ],
   "source": [
    "# 존재 연산(membership)\n",
    "cars = ['Hyundai', 'kia', 'Audi', 'Benz', 'Honda']\n",
    "print('Hyundai' in cars)\n",
    "print('BMW' in cars)\n",
    "print('BMW' not in cars)"
   ]
  },
  {
   "cell_type": "markdown",
   "metadata": {},
   "source": [
    "# [4] 조건문과 반복문"
   ]
  },
  {
   "cell_type": "code",
   "execution_count": 26,
   "metadata": {},
   "outputs": [
    {
     "name": "stdout",
     "output_type": "stream",
     "text": [
      "N1 is greater than N2\n"
     ]
    }
   ],
   "source": [
    "## 조건문 ##\n",
    "N1 = 10\n",
    "N2 = 5\n",
    "if N1>N2:\n",
    "    print('N1 is greater than N2')"
   ]
  },
  {
   "cell_type": "code",
   "execution_count": 27,
   "metadata": {},
   "outputs": [
    {
     "name": "stdout",
     "output_type": "stream",
     "text": [
      "N2<N1 or N3>N2\n"
     ]
    }
   ],
   "source": [
    "# 조건에 논리연산자 사용\n",
    "N1 = 10\n",
    "N2 = 20\n",
    "N3 = 30\n",
    "if N2<N1 or N3>N2:\n",
    "    print('N2<N1 or N3>N2')"
   ]
  },
  {
   "cell_type": "code",
   "execution_count": 28,
   "metadata": {},
   "outputs": [],
   "source": [
    "# 중첩된 if문\n",
    "if N2>N1:\n",
    "    if N2>N3:\n",
    "        print('N2>N1 and N3>N2')"
   ]
  },
  {
   "cell_type": "code",
   "execution_count": 29,
   "metadata": {},
   "outputs": [
    {
     "name": "stdout",
     "output_type": "stream",
     "text": [
      "N2>N1\n"
     ]
    }
   ],
   "source": [
    "# if/else\n",
    "if N1>N2:\n",
    "    print('N1>N2')\n",
    "else:\n",
    "    print('N2>N1')"
   ]
  },
  {
   "cell_type": "code",
   "execution_count": 30,
   "metadata": {},
   "outputs": [
    {
     "name": "stdout",
     "output_type": "stream",
     "text": [
      "N3>N2\n"
     ]
    }
   ],
   "source": [
    "# if/elif/else\n",
    "N1 = 10\n",
    "N2 = 20\n",
    "N3 = 30\n",
    "\n",
    "if N1>N2:\n",
    "    print('N1>N2')\n",
    "elif N2>N3:\n",
    "    print('N2>N3')\n",
    "elif N3>N2:\n",
    "    print('N3>N2')\n",
    "else:\n",
    "    print('None of the conditions are true.')"
   ]
  },
  {
   "cell_type": "code",
   "execution_count": 31,
   "metadata": {},
   "outputs": [
    {
     "name": "stdout",
     "output_type": "stream",
     "text": [
      "AB\n",
      "CD\n",
      "EF\n",
      "GH\n"
     ]
    }
   ],
   "source": [
    "## 반복문 ##\n",
    "# for 문: 자료의 모임(list, tuple, dictionary)에 대해 반복 실행\n",
    "cars = ['AB', 'CD', 'EF', 'GH']\n",
    "for car in cars:\n",
    "    print(car)"
   ]
  },
  {
   "cell_type": "code",
   "execution_count": 32,
   "metadata": {},
   "outputs": [
    {
     "name": "stdout",
     "output_type": "stream",
     "text": [
      "0\n",
      "1\n",
      "2\n",
      "3\n",
      "4\n",
      "5\n",
      "6\n",
      "7\n",
      "8\n",
      "9\n"
     ]
    }
   ],
   "source": [
    "for i in range(10):\n",
    "    print(i)"
   ]
  },
  {
   "cell_type": "code",
   "execution_count": 33,
   "metadata": {},
   "outputs": [
    {
     "name": "stdout",
     "output_type": "stream",
     "text": [
      "50\n",
      "51\n",
      "52\n",
      "53\n",
      "54\n"
     ]
    }
   ],
   "source": [
    "for i in range(50, 55):\n",
    "    print(i)"
   ]
  },
  {
   "cell_type": "code",
   "execution_count": 34,
   "metadata": {},
   "outputs": [
    {
     "name": "stdout",
     "output_type": "stream",
     "text": [
      "H\n",
      "e\n",
      "l\n",
      "l\n",
      "o\n",
      " \n",
      "w\n",
      "o\n",
      "r\n",
      "l\n",
      "d\n"
     ]
    }
   ],
   "source": [
    "for c in 'Hello world':\n",
    "    print(c)"
   ]
  },
  {
   "cell_type": "code",
   "execution_count": 35,
   "metadata": {},
   "outputs": [
    {
     "name": "stdout",
     "output_type": "stream",
     "text": [
      "1\n",
      "2\n",
      "3\n",
      "4\n"
     ]
    }
   ],
   "source": [
    "# while 문: 조건을 만족하는 동안 반복 실행\n",
    "i = 1\n",
    "while i<5:\n",
    "    print(i)\n",
    "    i += 1"
   ]
  },
  {
   "cell_type": "code",
   "execution_count": 36,
   "metadata": {},
   "outputs": [
    {
     "name": "stdout",
     "output_type": "stream",
     "text": [
      "9x1=9\n",
      "9x2=18\n",
      "9x3=27\n",
      "9x4=36\n",
      "9x5=45\n",
      "9x6=54\n",
      "9x7=63\n",
      "9x8=72\n",
      "9x9=81\n"
     ]
    }
   ],
   "source": [
    "i = 1\n",
    "while i<10:\n",
    "    print('9x'+str(i)+'='+str(i*9))\n",
    "    i = i+1"
   ]
  },
  {
   "cell_type": "code",
   "execution_count": 37,
   "metadata": {},
   "outputs": [
    {
     "name": "stdout",
     "output_type": "stream",
     "text": [
      "infinite loop\n",
      "infinite loop\n",
      "infinite loop\n",
      "infinite loop\n"
     ]
    }
   ],
   "source": [
    "stop=0\n",
    "while 1: #while True:\n",
    "    print('infinite loop')\n",
    "    stop+=1\n",
    "    if stop>3:\n",
    "        break"
   ]
  },
  {
   "cell_type": "code",
   "execution_count": 38,
   "metadata": {},
   "outputs": [
    {
     "name": "stdout",
     "output_type": "stream",
     "text": [
      "1\n",
      "2\n",
      "3\n",
      "4\n",
      "5\n"
     ]
    }
   ],
   "source": [
    "# break: 반복을 벗어날 떄\n",
    "for i in range(1,11):\n",
    "    if i>5:\n",
    "        break\n",
    "    print(i)"
   ]
  },
  {
   "cell_type": "code",
   "execution_count": 39,
   "metadata": {},
   "outputs": [
    {
     "name": "stdout",
     "output_type": "stream",
     "text": [
      "2\n",
      "4\n",
      "6\n",
      "8\n",
      "10\n"
     ]
    }
   ],
   "source": [
    "# continue: 반복문 내에서 다음 iteration으로 바로 건너 뛸 때\n",
    "for i in range(1,11):\n",
    "    if(i%2 != 0):\n",
    "       continue\n",
    "    print(i)"
   ]
  },
  {
   "cell_type": "code",
   "execution_count": 40,
   "metadata": {},
   "outputs": [
    {
     "name": "stdout",
     "output_type": "stream",
     "text": [
      "[(1, 'John'), (2, 'Taylor'), (3, 'Ronado'), (4, 'Messi')]\n"
     ]
    }
   ],
   "source": [
    "# enumerate: list 내 자료값의 순서값이 필요할 때\n",
    "player = ['John', 'Taylor', 'Ronado', 'Messi']\n",
    "player_1 = list(enumerate(player,1))  # 순서값은 1부터 시작\n",
    "print(player_1)  # tuple 형태로 리턴"
   ]
  },
  {
   "cell_type": "code",
   "execution_count": 41,
   "metadata": {},
   "outputs": [
    {
     "name": "stdout",
     "output_type": "stream",
     "text": [
      "Player number 1 name: John\n",
      "Player number 2 name: Taylor\n",
      "Player number 3 name: Ronado\n",
      "Player number 4 name: Messi\n"
     ]
    }
   ],
   "source": [
    "for num, p in enumerate(player,1):\n",
    "    print('Player number '+str(num)+ ' name:', p)"
   ]
  },
  {
   "cell_type": "code",
   "execution_count": 42,
   "metadata": {},
   "outputs": [
    {
     "name": "stdout",
     "output_type": "stream",
     "text": [
      "Sonata is made in Korea\n",
      "Toyota is made in Japan\n",
      "Ford is made in America\n",
      "Benz is made in Germany\n"
     ]
    }
   ],
   "source": [
    "# zip: list, tuple, dictionary 간 짝짓기\n",
    "cars = ['Sonata', 'Toyota', 'Ford', 'Benz', 'Kia']\n",
    "nations = ['Korea', 'Japan', 'America', 'Germany']\n",
    "for c, n in zip(cars, nations):\n",
    "    print('%s is made in %s' %(c,n))"
   ]
  },
  {
   "cell_type": "code",
   "execution_count": 43,
   "metadata": {},
   "outputs": [
    {
     "data": {
      "text/plain": [
       "[('Sonata', 'Korea'),\n",
       " ('Toyota', 'Japan'),\n",
       " ('Ford', 'America'),\n",
       " ('Benz', 'Germany')]"
      ]
     },
     "execution_count": 43,
     "metadata": {},
     "output_type": "execute_result"
    }
   ],
   "source": [
    "list(zip(cars, nations))"
   ]
  },
  {
   "cell_type": "code",
   "execution_count": 44,
   "metadata": {},
   "outputs": [
    {
     "name": "stdout",
     "output_type": "stream",
     "text": [
      "A typical example of data types is 10, 2.54, and car.\n"
     ]
    }
   ],
   "source": [
    "# 참고: print\n",
    "N = 10\n",
    "a = 2.543\n",
    "b = 'car'\n",
    "print('A typical example of data types is %d, %.2f, and %s.' %(N, a, b))"
   ]
  },
  {
   "cell_type": "markdown",
   "metadata": {},
   "source": [
    "# [5] 객체지향형 프로그램"
   ]
  },
  {
   "cell_type": "code",
   "execution_count": 46,
   "metadata": {},
   "outputs": [
    {
     "name": "stdout",
     "output_type": "stream",
     "text": [
      "Welcome to Python\n"
     ]
    }
   ],
   "source": [
    "### 5.1 함수 ###\n",
    "# 가장 간단한 함수\n",
    "def welcome():\n",
    "    print('Welcome to Python')\n",
    "welcome()"
   ]
  },
  {
   "cell_type": "code",
   "execution_count": 47,
   "metadata": {},
   "outputs": [
    {
     "name": "stdout",
     "output_type": "stream",
     "text": [
      "Person name: James\n",
      "Person name: James\n",
      "Person age:  20\n",
      "Person gender: Male\n",
      "----------------------\n",
      "Person name: Suzan\n",
      "Person name: Suzan\n",
      "Person age:  19\n",
      "Person gender: Female\n",
      "----------------------\n"
     ]
    }
   ],
   "source": [
    "# 좀 더 복잡한 경우\n",
    "def p_inf(name, age, gender):\n",
    "    print ('Person name: '+name)\n",
    "    print('Person name:',name)\n",
    "    print ('Person age: ', age) #숫자는 + string 연산이 되지 X\n",
    "    print ('Person gender: '+gender)\n",
    "    print ('----------------------')\n",
    "    \n",
    "p_inf('James', 20, 'Male')\n",
    "p_inf('Suzan', 19, 'Female')"
   ]
  },
  {
   "cell_type": "code",
   "execution_count": 48,
   "metadata": {},
   "outputs": [
    {
     "name": "stdout",
     "output_type": "stream",
     "text": [
      "50\n"
     ]
    }
   ],
   "source": [
    "# 모수를 받아 새로운 값을 계산하여 반환하는 함수\n",
    "def summ(num1, num2):\n",
    "    result = num1 + num2\n",
    "    return result\n",
    "\n",
    "test = summ(20, 30)\n",
    "print(test)"
   ]
  },
  {
   "cell_type": "code",
   "execution_count": 49,
   "metadata": {},
   "outputs": [
    {
     "name": "stdout",
     "output_type": "stream",
     "text": [
      "[5, 10, 15, [20, 25, 30]]\n"
     ]
    }
   ],
   "source": [
    "def update_1(newlist):\n",
    "    newlist.append([20, 25, 30])\n",
    "    return\n",
    "\n",
    "uplist = [5, 10, 15]\n",
    "update_1(uplist)\n",
    "print(uplist)"
   ]
  },
  {
   "cell_type": "code",
   "execution_count": 50,
   "metadata": {},
   "outputs": [
    {
     "name": "stdout",
     "output_type": "stream",
     "text": [
      "[1, 2, 3, 4, 5, 6, 7, 8, 9]\n"
     ]
    }
   ],
   "source": [
    "x=[]\n",
    "for i in range(1,10):\n",
    "    x.append(i)\n",
    "print(x)"
   ]
  },
  {
   "cell_type": "code",
   "execution_count": 51,
   "metadata": {},
   "outputs": [
    {
     "name": "stdout",
     "output_type": "stream",
     "text": [
      "{'The': 1, 'cat': 2, 'sat': 3, 'on': 4, 'the': 5, 'mat.': 6, 'dog': 7, 'desk': 8}\n"
     ]
    }
   ],
   "source": [
    "samples=['The cat sat on the mat.', 'The dog sat on the desk']\n",
    "token={}\n",
    "for sample in samples:\n",
    "    for word in sample.split():\n",
    "        if word not in token:\n",
    "            token[word]=len(token)+1\n",
    "print(token)"
   ]
  },
  {
   "cell_type": "code",
   "execution_count": 52,
   "metadata": {},
   "outputs": [
    {
     "data": {
      "text/plain": [
       "6"
      ]
     },
     "execution_count": 52,
     "metadata": {},
     "output_type": "execute_result"
    }
   ],
   "source": [
    "# lambda\n",
    "result = lambda n1, n2, n3: n1+n2+n3\n",
    "result(1, 2, 3)"
   ]
  },
  {
   "cell_type": "markdown",
   "metadata": {},
   "source": [
    "### 클래스\n",
    "- 클래스는 객체의 구조와 행동을 정의한다.\n",
    "- 객체의 클래스는 초기화를 통해 제어한다.\n",
    "- 클래스는 복잡한 문제를 다루기 쉽도록 한다."
   ]
  },
  {
   "cell_type": "code",
   "execution_count": 63,
   "metadata": {},
   "outputs": [
    {
     "data": {
      "text/plain": [
       "__main__.Flight"
      ]
     },
     "execution_count": 63,
     "metadata": {},
     "output_type": "execute_result"
    }
   ],
   "source": [
    "### 5.2 클래스(class) ###\n",
    "# 클래스 생성은 아래와 같이 class 키워드 및 클래스의 이름을 입력하여 생성.\n",
    "# class 뒤에는 주로 대문자로 시작하는 클래스 이름이 온다\n",
    "\n",
    "class Flight:\n",
    "    pass\n",
    "\n",
    "# 만약 다른 파일에 작성되었다면,\n",
    "# \"from airtravel import Flight\"을 통해 Flight 객체를 호출할 수 있다.\n",
    "\n",
    "f = Flight()\n",
    "type(f)"
   ]
  },
  {
   "cell_type": "markdown",
   "metadata": {},
   "source": [
    "### 클래스 메소드 작성\n",
    "- 메소드란 클래스 내의 함수를 의미\n",
    "- 인스턴스 메소드(객체에서 호출될 수 있는 함수)의 접근\n",
    "- 파이썬 메서드의 첫번째 파라미터명은 관례적으로 self라는 이름을 사용\n",
    "- 호출 시 호출한 객체 자신이 전달되기 때문에 self라는 이름을 사용\n",
    "- 클래스에서 바로 메소드로 접근하면서 위에서 할당한 Flight의 객체 f를 파라미터로 전달함으로써 똑같은 결과값 반환\n",
    "- 생성자로 객체생성을 호출받으면 먼저 __new__ 를 호출하여 객체를 생성할당하고, __new__ 메소드가 __init__메소드를 호출하여 객체에서 사용할 초기값들을 초기화한다.\n",
    "---\n",
    "### Example\n",
    "- Flight() is the constructor\n",
    "- Flight.__init__() is the initializer\n",
    "- Flight.__new__() is the allocator"
   ]
  },
  {
   "cell_type": "code",
   "execution_count": 64,
   "metadata": {},
   "outputs": [
    {
     "data": {
      "text/plain": [
       "'SN060'"
      ]
     },
     "execution_count": 64,
     "metadata": {},
     "output_type": "execute_result"
    }
   ],
   "source": [
    "# 메소드 작성하기\n",
    "class Flight:\n",
    "    def number(self):\n",
    "        return 'SN060'\n",
    "    \n",
    "f = Flight() # 객체 생성자(instance constructor)\n",
    "f.number()"
   ]
  },
  {
   "cell_type": "code",
   "execution_count": 68,
   "metadata": {},
   "outputs": [
    {
     "data": {
      "text/plain": [
       "'SN060'"
      ]
     },
     "execution_count": 68,
     "metadata": {},
     "output_type": "execute_result"
    }
   ],
   "source": [
    "# 클래스의 내부에 self 파라미터가 포함되는데 이를 이용한 접근법 -1\n",
    "Flight.number(f) # f는 Flight객체"
   ]
  },
  {
   "cell_type": "code",
   "execution_count": 69,
   "metadata": {},
   "outputs": [
    {
     "ename": "TypeError",
     "evalue": "number() missing 1 required positional argument: 'self'",
     "output_type": "error",
     "traceback": [
      "\u001b[1;31m---------------------------------------------------------------------------\u001b[0m",
      "\u001b[1;31mTypeError\u001b[0m                                 Traceback (most recent call last)",
      "\u001b[1;32m<ipython-input-69-dfec5a2f5885>\u001b[0m in \u001b[0;36m<module>\u001b[1;34m\u001b[0m\n\u001b[0;32m      1\u001b[0m \u001b[1;31m# 클래스의 내부에 self 파라미터가 포함되는데 이를 이용한 접근법 -2\u001b[0m\u001b[1;33m\u001b[0m\u001b[1;33m\u001b[0m\u001b[1;33m\u001b[0m\u001b[0m\n\u001b[1;32m----> 2\u001b[1;33m \u001b[0mFlight\u001b[0m\u001b[1;33m.\u001b[0m\u001b[0mnumber\u001b[0m\u001b[1;33m(\u001b[0m\u001b[1;33m)\u001b[0m \u001b[1;31m# Flight 객체를 주지 않으면 에러 반환\u001b[0m\u001b[1;33m\u001b[0m\u001b[1;33m\u001b[0m\u001b[0m\n\u001b[0m",
      "\u001b[1;31mTypeError\u001b[0m: number() missing 1 required positional argument: 'self'"
     ]
    }
   ],
   "source": [
    "# 클래스의 내부에 self 파라미터가 포함되는데 이를 이용한 접근법 -2\n",
    "Flight.number() # Flight 객체를 주지 않으면 에러 반환"
   ]
  },
  {
   "cell_type": "code",
   "execution_count": 70,
   "metadata": {},
   "outputs": [
    {
     "data": {
      "text/plain": [
       "['__class__',\n",
       " '__delattr__',\n",
       " '__dict__',\n",
       " '__dir__',\n",
       " '__doc__',\n",
       " '__eq__',\n",
       " '__format__',\n",
       " '__ge__',\n",
       " '__getattribute__',\n",
       " '__gt__',\n",
       " '__hash__',\n",
       " '__init__',\n",
       " '__init_subclass__',\n",
       " '__le__',\n",
       " '__lt__',\n",
       " '__module__',\n",
       " '__ne__',\n",
       " '__new__',\n",
       " '__reduce__',\n",
       " '__reduce_ex__',\n",
       " '__repr__',\n",
       " '__setattr__',\n",
       " '__sizeof__',\n",
       " '__str__',\n",
       " '__subclasshook__',\n",
       " '__weakref__',\n",
       " 'number']"
      ]
     },
     "execution_count": 70,
     "metadata": {},
     "output_type": "execute_result"
    }
   ],
   "source": [
    "# 한 class 안에 기본적으로 들어 있는 method들 + 내가 생성한 number 메서드를 확인할 수 있다 \n",
    "dir(Flight())"
   ]
  },
  {
   "cell_type": "code",
   "execution_count": 53,
   "metadata": {},
   "outputs": [
    {
     "name": "stdout",
     "output_type": "stream",
     "text": [
      "John\n",
      "he runs\n"
     ]
    }
   ],
   "source": [
    "class Player:\n",
    "    # class attribute\n",
    "    name = 'John'\n",
    "    age = 22\n",
    "    gender = 'male'\n",
    "    \n",
    "    def stand(self):\n",
    "        print(\"he stands\")\n",
    "        \n",
    "    def run(self):\n",
    "        print(\"he runs\")\n",
    "    \n",
    "male_1 = Player()\n",
    "player_name = male_1.name\n",
    "print(player_name)\n",
    "male_1.run()"
   ]
  },
  {
   "cell_type": "markdown",
   "metadata": {},
   "source": [
    "### 클래스 속성(class attribute)과 사례 속성(instance attribute) \n",
    "- 인스턴스와 클래스 에 모두 같은 속성이 있으면 아래와 같이 인스턴스 속성을 먼저 찾는다\n",
    "- 클래스 속성은 여러 객체가 공유한다"
   ]
  },
  {
   "cell_type": "code",
   "execution_count": 54,
   "metadata": {},
   "outputs": [
    {
     "name": "stdout",
     "output_type": "stream",
     "text": [
      "Infor for player John hasbeen stored.\n",
      "Player count: 1\n"
     ]
    }
   ],
   "source": [
    "# 클래스 속성(attribute)과 사례(instance) 속성\n",
    "class Player:\n",
    "    person_count = 0  # 클래스 속성\n",
    "    \n",
    "    def infor(self, name, age, gender):\n",
    "        self.name = name  # 사례 속성\n",
    "        self.age = age\n",
    "        self.gender = gender\n",
    "        \n",
    "        Player.person_count +=1\n",
    "        \n",
    "        print('Infor for player ' + self.name + ' hasbeen stored.')\n",
    "        \n",
    "player1 = Player()  # 아직 속성에 값을 할당하지 않음.\n",
    "player1.infor('John', 22, 'male')\n",
    "print('Player count: ' + str(player1.person_count))"
   ]
  },
  {
   "cell_type": "code",
   "execution_count": 55,
   "metadata": {},
   "outputs": [
    {
     "name": "stdout",
     "output_type": "stream",
     "text": [
      "Infor for player Messi hasbeen stored.\n",
      "Player count: 2\n",
      "Player count:  2\n"
     ]
    }
   ],
   "source": [
    "player2 = Player()\n",
    "player2.infor('Messi', 30, 'Messi')\n",
    "print('Player count: ' + str(player2.person_count))\n",
    "print('Player count: ', player2.person_count) # player1, player2 둘 다 count에 영향 "
   ]
  },
  {
   "cell_type": "code",
   "execution_count": 56,
   "metadata": {},
   "outputs": [
    {
     "name": "stdout",
     "output_type": "stream",
     "text": [
      "initialized instance varibles.\n",
      "The expiration data is 12/2018\n"
     ]
    }
   ],
   "source": [
    "# 클래스를 호출하면 자동으로 사례속성을 만들어내는 방법\n",
    "class Food:\n",
    "    def __init__(self, name, expiry_year, expiry_month):  # 생성자\n",
    "        self.name = name\n",
    "        self.expiry_year = expiry_year\n",
    "        self.expiry_month = expiry_month\n",
    "        \n",
    "        print(\"initialized instance varibles.\")\n",
    "        \n",
    "    def expiry_date(self):\n",
    "        print('The expiration data is ' + str(self.expiry_month) + \\\n",
    "              '/' + str(self.expiry_year))\n",
    "\n",
    "food_1 = Food('Pizza', 2018, 12)  # 클래스를 호출하는 동시에 속성에 값이 할당됨\n",
    "food_1.expiry_date()"
   ]
  },
  {
   "cell_type": "code",
   "execution_count": 57,
   "metadata": {},
   "outputs": [
    {
     "name": "stdout",
     "output_type": "stream",
     "text": [
      "initialized instance varibles.\n",
      "The expiration data is 20/2019\n"
     ]
    }
   ],
   "source": [
    "food_2 = Food('Bread', 2019, 20)\n",
    "food_2.expiry_date()  "
   ]
  },
  {
   "cell_type": "code",
   "execution_count": 58,
   "metadata": {},
   "outputs": [
    {
     "name": "stdout",
     "output_type": "stream",
     "text": [
      "initialized instance varibles.\n",
      "The expiration data is 12/2019\n"
     ]
    }
   ],
   "source": [
    "# 클래스 내에서 속성 제어 (property, setter)\n",
    "class Food:\n",
    "    def __init__(self, name, expiry_year, expiry_month):\n",
    "        self.name = name\n",
    "        self.expiry_year = expiry_year\n",
    "        self.expiry_month = expiry_month  #  self.__expiry_month = expiry_month로 하면 20이 출력되는 이유는?\n",
    "\n",
    "        print(\"initialized instance varibles.\")\n",
    "\n",
    "    @property\n",
    "    def expiry_month(self):\n",
    "        return self.__expiry_month\n",
    "\n",
    "    @expiry_month.setter\n",
    "    def expiry_month(self, expiry_month):\n",
    "        if expiry_month<1:\n",
    "            self.__expiry_month = 1\n",
    "        elif expiry_month>12:\n",
    "            self.__expiry_month = 12\n",
    "        else:\n",
    "            self.__expiry_month = expiry_month\n",
    "\n",
    "    def expiry_date(self):\n",
    "        print('The expiration data is ' + str(self.expiry_month) + \\\n",
    "              '/' + str(self.expiry_year))\n",
    "        \n",
    "food_2 = Food('Bread', 2019, 20)\n",
    "food_2.expiry_date()"
   ]
  },
  {
   "cell_type": "code",
   "execution_count": 59,
   "metadata": {},
   "outputs": [
    {
     "name": "stdout",
     "output_type": "stream",
     "text": [
      "Bread\n",
      "12\n"
     ]
    }
   ],
   "source": [
    "print(food_2.name)\n",
    "print(food_2.expiry_month)"
   ]
  },
  {
   "cell_type": "code",
   "execution_count": 60,
   "metadata": {},
   "outputs": [
    {
     "name": "stdout",
     "output_type": "stream",
     "text": [
      "25\n",
      "5050\n"
     ]
    }
   ],
   "source": [
    "def summ(start,last,step=1):\n",
    "    sum=0\n",
    "    for i in range(start,last,step):\n",
    "        sum+=i\n",
    "    return sum\n",
    "print(summ(1,11,2))\n",
    "print(summ(1,101))"
   ]
  },
  {
   "cell_type": "markdown",
   "metadata": {},
   "source": [
    "### 클래스 상속(class inheritance)\n",
    "- 클래스에서 상속이란, 물려주는 클래스(Parent Class, Super class)의 내용(속성과 메소드)을 물려받는 클래스(Child class, sub class)가 가지게 된다\n",
    "- 자식클래스를 선언할때 소괄호로 부모클래스를 포함시킵니다. 그러면 자식클래스에서는 부모클래스의 속성과 메소드는 기재하지 않아도 포함이 된다\n",
    "- 다중상속은 다음과 같이 수행할 수 있다\n",
    "```\n",
    "    class 부모클래스1:\n",
    "        ...내용...\n",
    "\n",
    "    class 부모클래스2:\n",
    "        ...내용...\n",
    "\n",
    "    class 자식클래스(부모클래스1, 부모클래스2):\n",
    "        ...내용...\n",
    "```"
   ]
  },
  {
   "cell_type": "code",
   "execution_count": 71,
   "metadata": {},
   "outputs": [],
   "source": [
    "class Country:\n",
    "    \"\"\"Super Class\"\"\"\n",
    "\n",
    "    name = '국가명'\n",
    "    population = '인구'\n",
    "    capital = '수도'\n",
    "\n",
    "    def show(self):\n",
    "        print('국가 클래스의 메소드입니다.')\n",
    "\n",
    "\n",
    "class Korea(Country):\n",
    "    \"\"\"Sub Class\"\"\"\n",
    "\n",
    "    def __init__(self, name):\n",
    "        self.name = name\n",
    "\n",
    "    def show_name(self):\n",
    "        print('국가 이름은 : ', self.name)"
   ]
  },
  {
   "cell_type": "code",
   "execution_count": 74,
   "metadata": {},
   "outputs": [
    {
     "name": "stdout",
     "output_type": "stream",
     "text": [
      "국가 클래스의 메소드입니다.\n",
      "국가 이름은 :  대한민국\n"
     ]
    }
   ],
   "source": [
    "a = Korea('대한민국')\n",
    "a.show()\n",
    "a.show_name()"
   ]
  },
  {
   "cell_type": "markdown",
   "metadata": {},
   "source": [
    "### 파일 - 텍스트 파일 다루기\n",
    "- 결과물(test.txt)\n",
    "    ```\n",
    "    파이썬으로 파일을 작성하고 있습니다.\n",
    "    ROW 1...... \n",
    "    ROW 2...... \n",
    "    ROW 3...... \n",
    "    ROW 4...... \n",
    "    ROW 5...... \n",
    "    ROW 6...... \n",
    "    ROW 7...... \n",
    "    ROW 8...... \n",
    "    ROW 9...... \n",
    "    ROW 10...... \n",
    "    ```"
   ]
  },
  {
   "cell_type": "code",
   "execution_count": 12,
   "metadata": {},
   "outputs": [],
   "source": [
    "# write text file\n",
    "test = open('test.txt', mode='w', encoding='utf-8')\n",
    "\n",
    "# 한줄 작성\n",
    "test.write('파이썬으로 파일을 작성하고 있습니다.\\n')\n",
    "\n",
    "# 여러줄 작성\n",
    "for i in range(1,11):\n",
    "    data = ('ROW %d...... \\n' %i)\n",
    "    test.write(data)\n",
    "    \n",
    "# close file    \n",
    "test.close()"
   ]
  },
  {
   "cell_type": "code",
   "execution_count": 13,
   "metadata": {},
   "outputs": [
    {
     "name": "stdout",
     "output_type": "stream",
     "text": [
      "파이썬으로 파일을 작성하고 있습니다.\n",
      "\n"
     ]
    }
   ],
   "source": [
    "# file 한줄씩 읽기\n",
    "test = open('test.txt', mode='r', encoding='utf-8')\n",
    "line=test.readline()\n",
    "print(line)\n",
    "test.close()"
   ]
  },
  {
   "cell_type": "code",
   "execution_count": 14,
   "metadata": {},
   "outputs": [
    {
     "data": {
      "text/plain": [
       "['파이썬으로 파일을 작성하고 있습니다.\\n',\n",
       " 'ROW 1...... \\n',\n",
       " 'ROW 2...... \\n',\n",
       " 'ROW 3...... \\n',\n",
       " 'ROW 4...... \\n',\n",
       " 'ROW 5...... \\n',\n",
       " 'ROW 6...... \\n',\n",
       " 'ROW 7...... \\n',\n",
       " 'ROW 8...... \\n',\n",
       " 'ROW 9...... \\n',\n",
       " 'ROW 10...... \\n']"
      ]
     },
     "execution_count": 14,
     "metadata": {},
     "output_type": "execute_result"
    }
   ],
   "source": [
    "# file 여러줄 읽기\n",
    "test = open('test.txt', mode='r', encoding='utf-8')\n",
    "test.readlines() # 한줄씩전부"
   ]
  },
  {
   "cell_type": "code",
   "execution_count": 15,
   "metadata": {},
   "outputs": [
    {
     "name": "stdout",
     "output_type": "stream",
     "text": [
      "파이썬으로 파일을 작성하고 있습니다.\n",
      "ROW 1...... \n",
      "ROW 2...... \n",
      "ROW 3...... \n",
      "ROW 4...... \n",
      "ROW 5...... \n",
      "ROW 6...... \n",
      "ROW 7...... \n",
      "ROW 8...... \n",
      "ROW 9...... \n",
      "ROW 10...... \n",
      "\n"
     ]
    }
   ],
   "source": [
    "#전체 file 읽기\n",
    "test = open('test.txt', mode='r', encoding='utf-8')\n",
    "data=test.read()\n",
    "print(data)\n",
    "test.close()"
   ]
  },
  {
   "cell_type": "code",
   "execution_count": 16,
   "metadata": {},
   "outputs": [],
   "source": [
    "# 기존 파일에 데이터 추가\n",
    "test = open('test.txt', mode='a', encoding='utf-8')\n",
    "\n",
    "# 여러줄 작성\n",
    "for i in range(11,16):\n",
    "    data = ('ROW %d...... \\n' %i)\n",
    "    test.write(data)\n",
    "    \n",
    "# close file    \n",
    "test.close()"
   ]
  },
  {
   "cell_type": "code",
   "execution_count": 17,
   "metadata": {},
   "outputs": [],
   "source": [
    "#close 자동으로 하기\n",
    "with open('test.txt', mode='a', encoding='utf-8') as text:\n",
    "    for i in range(16,17):\n",
    "        data=('END ROW %d.\\n' %i)\n",
    "        text.write(data)"
   ]
  },
  {
   "cell_type": "code",
   "execution_count": 18,
   "metadata": {},
   "outputs": [
    {
     "name": "stdout",
     "output_type": "stream",
     "text": [
      "파이썬으로 파일을 작성하고 있습니다.\n",
      "ROW 1...... \n",
      "ROW 2...... \n",
      "ROW 3...... \n",
      "ROW 4...... \n",
      "ROW 5...... \n",
      "ROW 6...... \n",
      "ROW 7...... \n",
      "ROW 8...... \n",
      "ROW 9...... \n",
      "ROW 10...... \n",
      "ROW 11...... \n",
      "ROW 12...... \n",
      "ROW 13...... \n",
      "ROW 14...... \n",
      "ROW 15...... \n",
      "END ROW 16.\n",
      "\n"
     ]
    }
   ],
   "source": [
    "#전체 file 읽기\n",
    "test = open('test.txt', mode='r', encoding='utf-8')\n",
    "data=test.read()\n",
    "print(data)\n",
    "test.close()"
   ]
  },
  {
   "cell_type": "code",
   "execution_count": null,
   "metadata": {},
   "outputs": [],
   "source": []
  }
 ],
 "metadata": {
  "kernelspec": {
   "display_name": "Python 3",
   "language": "python",
   "name": "python3"
  },
  "language_info": {
   "codemirror_mode": {
    "name": "ipython",
    "version": 3
   },
   "file_extension": ".py",
   "mimetype": "text/x-python",
   "name": "python",
   "nbconvert_exporter": "python",
   "pygments_lexer": "ipython3",
   "version": "3.6.10"
  }
 },
 "nbformat": 4,
 "nbformat_minor": 4
}
